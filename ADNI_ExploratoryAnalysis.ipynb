{
 "cells": [
  {
   "cell_type": "code",
   "execution_count": 1,
   "metadata": {
    "collapsed": true,
    "ExecuteTime": {
     "end_time": "2024-10-06T00:46:01.379201Z",
     "start_time": "2024-10-06T00:46:01.002261Z"
    }
   },
   "outputs": [],
   "source": [
    "import matplotlib.pyplot as plt\n",
    "from pathlib import Path\n",
    "import nibabel as nib\n",
    "import pandas as pd\n",
    "import seaborn as sns\n",
    "from data_analysis_preparation.utils import (base_volumetric_columns,\n",
    "                                             get_bounding_box,\n",
    "                                             get_mci_progression,\n",
    "                                             get_mean_image_per_diagnosis,\n",
    "                                             load_adnimerge)"
   ]
  },
  {
   "cell_type": "markdown",
   "source": [
    "### Load data"
   ],
   "metadata": {
    "collapsed": false
   }
  },
  {
   "cell_type": "code",
   "execution_count": 2,
   "outputs": [],
   "source": [
    "ADNIMERGE_PATH = \"/Users/michaelhase/Desktop/ADNI_Proj/data/All_Subjects_Tables/ADNIMERGE.csv\"\n",
    "images_directory = \"/Users/michaelhase/Desktop/SeniorThesis/data/ADNI/\""
   ],
   "metadata": {
    "collapsed": false,
    "ExecuteTime": {
     "end_time": "2024-10-06T00:46:01.380853Z",
     "start_time": "2024-10-06T00:46:01.380009Z"
    }
   }
  },
  {
   "cell_type": "code",
   "execution_count": 3,
   "outputs": [
    {
     "name": "stdout",
     "output_type": "stream",
     "text": [
      "   IMAGEUID\n",
      "0     35475\n",
      "1     32237\n",
      "2     31863\n",
      "3     35576\n",
      "4     88252\n"
     ]
    }
   ],
   "source": [
    "df_adnimerge = load_adnimerge(ADNIMERGE_PATH)\n",
    "print(df_adnimerge[['IMAGEUID']].head())"
   ],
   "metadata": {
    "collapsed": false,
    "ExecuteTime": {
     "end_time": "2024-10-06T00:46:01.519605Z",
     "start_time": "2024-10-06T00:46:01.383436Z"
    }
   }
  },
  {
   "cell_type": "code",
   "outputs": [
    {
     "name": "stdout",
     "output_type": "stream",
     "text": [
      "Found 952 images\n",
      "Processing file: ADNI_031_S_0351_MR_MPR__GradWarp__N3__Scaled_Br_20080207173709466_S21905_I89948.nii\n",
      "Processing file: ADNI_031_S_0351_MR_MPR__GradWarp__N3__Scaled_Br_20070807160423440_S32191_I65620.nii\n",
      "Processing file: ADNI_031_S_0351_MR_MPR-R__GradWarp__N3__Scaled_Br_20070807100818129_S13461_I65401.nii\n",
      "Processing file: ADNI_100_S_0006_MR_MPR____N3__Scaled_Br_20061213150829798_S15294_I33034.nii\n",
      "Processing file: ADNI_100_S_0006_MR_MPR____N3__Scaled_Br_20070727123814803_S23093_I62348.nii\n",
      "Processing file: ADNI_100_S_0006_MR_MPR____N3__Scaled_Br_20061213150005090_S10145_I33025.nii\n",
      "Processing file: ADNI_041_S_1423_MR_MPR-R__GradWarp__B1_Correction__N3__Scaled_Br_20081017080327353_S55787_I121666.nii\n",
      "Processing file: ADNI_041_S_1423_MR_MPR-R__GradWarp__B1_Correction__N3__Scaled_Br_20070910181109848_S36902_I72232.nii\n",
      "Processing file: ADNI_041_S_1423_MR_MPR-R__GradWarp__B1_Correction__N3__Scaled_Br_20080223162436122_S45367_I91810.nii\n",
      "Processing file: ADNI_073_S_0312_MR_MPR__GradWarp__B1_Correction__N3__Scaled_2_Br_20081006105300035_S15079_I119230.nii\n",
      "Processing file: ADNI_073_S_0312_MR_MPR-R__GradWarp__B1_Correction__N3__Scaled_Br_20070911114337352_S34471_I72494.nii\n",
      "Processing file: ADNI_073_S_0312_MR_MPR__GradWarp__B1_Correction__N3__Scaled_Br_20070911113328533_S26244_I72481.nii\n",
      "Processing file: ADNI_073_S_0312_MR_MPR__GradWarp__B1_Correction__N3__Scaled_Br_20070213204740079_S15079_I39881.nii\n",
      "Processing file: ADNI_057_S_0941_MR_MPR-R__GradWarp__B1_Correction__N3__Scaled_Br_20061229162102002_S19985_I34747.nii\n",
      "Processing file: ADNI_057_S_0941_MR_MPR-R__GradWarp__B1_Correction__N3__Scaled_Br_20070802194707445_S30569_I64242.nii\n",
      "Processing file: ADNI_057_S_0941_MR_MPR__GradWarp__B1_Correction__N3__Scaled_Br_20071115130532568_S42111_I82342.nii\n",
      "Processing file: ADNI_130_S_0505_MR_MPR__GradWarp__B1_Correction__N3__Scaled_Br_20070828150126196_S29451_I70867.nii\n",
      "Processing file: ADNI_130_S_0505_MR_MPR__GradWarp__B1_Correction__N3__Scaled_Br_20071129171234526_S41388_I83797.nii\n",
      "Processing file: ADNI_130_S_0505_MR_MPR__GradWarp__B1_Correction__N3__Scaled_Br_20070210210227671_S17292_I39142.nii\n",
      "Processing file: ADNI_041_S_1412_MR_MPR__GradWarp__B1_Correction__N3__Scaled_Br_20081017075251027_S54204_I121644.nii\n",
      "Processing file: ADNI_041_S_1412_MR_MPR__GradWarp__B1_Correction__N3__Scaled_Br_20070910180353288_S34022_I72219.nii\n",
      "Processing file: ADNI_041_S_1412_MR_MPR__GradWarp__B1_Correction__N3__Scaled_Br_20080229173729232_S45602_I94532.nii\n",
      "Processing file: ADNI_082_S_1119_MR_MPR-R__GradWarp__B1_Correction__N3__Scaled_Br_20080223170328790_S44687_I91873.nii\n",
      "Processing file: ADNI_082_S_1119_MR_MPR__GradWarp__B1_Correction__N3__Scaled_Br_20070731113830050_S23733_I63147.nii\n",
      "Processing file: ADNI_082_S_1119_MR_MPR__GradWarp__B1_Correction__N3__Scaled_Br_20071101190537245_S40780_I80361.nii\n",
      "Processing file: ADNI_941_S_1197_MR_MPR__GradWarp__B1_Correction__N3__Scaled_Br_20070809164131486_S25332_I66462.nii\n",
      "Processing file: ADNI_941_S_1197_MR_MPR__GradWarp__B1_Correction__N3__Scaled_Br_20080604081641800_S50683_I108336.nii\n",
      "Processing file: ADNI_941_S_1197_MR_MPR__GradWarp__B1_Correction__N3__Scaled_Br_20071028133251684_S38742_I79115.nii\n",
      "Processing file: ADNI_094_S_1397_MR_MPR-R__GradWarp__B1_Correction__N3__Scaled_Br_20080307104443256_S31011_I95662.nii\n",
      "Processing file: ADNI_094_S_1397_MR_MPR__GradWarp__B1_Correction__N3__Scaled_Br_20071219134105721_S42909_I85594.nii\n",
      "Processing file: ADNI_094_S_1397_MR_MPR__GradWarp__B1_Correction__N3__Scaled_Br_20120731130350494_S50305_I319849.nii\n",
      "Processing file: ADNI_032_S_0479_MR_MPR____N3__Scaled_Br_20071029191437845_S33439_I79618.nii\n",
      "Processing file: ADNI_032_S_0479_MR_MPR____N3__Scaled_Br_20070118002237189_S14457_I36469.nii\n",
      "Processing file: ADNI_032_S_0479_MR_MPR____N3__Scaled_Br_20080107131351660_S23055_I86652.nii\n",
      "Processing file: ADNI_032_S_0479_MR_MPR____N3__Scaled_2_Br_20081003102924997_S33439_I119092.nii\n",
      "Processing file: ADNI_032_S_0479_MR_MPR____N3__Scaled_2_Br_20081003101752111_S14457_I119090.nii\n",
      "Processing file: ADNI_032_S_0479_MR_MPR____N3__Scaled_2_Br_20081003102800500_S23055_I119091.nii\n",
      "Processing file: ADNI_051_S_1331_MR_MPR__GradWarp__B1_Correction__N3__Scaled_Br_20070802183344983_S29664_I64152.nii\n",
      "Processing file: ADNI_051_S_1331_MR_MPR__GradWarp__B1_Correction__N3__Scaled_Br_20080530175403253_S49787_I107881.nii\n",
      "Processing file: ADNI_051_S_1331_MR_MPR__GradWarp__B1_Correction__N3__Scaled_Br_20081016155834009_S42220_I121413.nii\n",
      "Processing file: ADNI_136_S_0695_MR_MPR__GradWarp__B1_Correction__N3__Scaled_2_Br_20081008134904920_S19019_I119736.nii\n",
      "Processing file: ADNI_136_S_0695_MR_MPR-R__GradWarp__B1_Correction__N3__Scaled_Br_20070911132602331_S29253_I72587.nii\n",
      "Processing file: ADNI_136_S_0695_MR_MPR__GradWarp__B1_Correction__N3__Scaled_Br_20071110123649456_S39345_I81463.nii\n",
      "Processing file: ADNI_136_S_0695_MR_MPR__GradWarp__B1_Correction__N3__Scaled_Br_20070828160458817_S19019_I70924.nii\n",
      "Processing file: ADNI_037_S_0467_MR_MPR__GradWarp__N3__Scaled_Br_20080605143330764_S14164_I108505.nii\n",
      "Processing file: ADNI_037_S_0467_MR_MPR__GradWarp__N3__Scaled_Br_20071030161648095_S24391_I79766.nii\n",
      "Processing file: ADNI_037_S_0467_MR_MPR__GradWarp__N3__Scaled_Br_20071006121434287_S33632_I77062.nii\n",
      "Processing file: ADNI_003_S_0981_MR_MPR-R__GradWarp__B1_Correction__N3__Scaled_Br_20070501171453195_S20753_I52776.nii\n",
      "Processing file: ADNI_003_S_0981_MR_MPR-R__GradWarp__B1_Correction__N3__Scaled_Br_20080131105013455_S31564_I89046.nii\n",
      "Processing file: ADNI_003_S_0981_MR_MPR__GradWarp__B1_Correction__N3__Scaled_Br_20071127105843939_S42293_I83316.nii\n",
      "Processing file: ADNI_123_S_0106_MR_MPR____N3__Scaled_Br_20070807114033316_S11010_I65478.nii\n",
      "Processing file: ADNI_123_S_0106_MR_MPR____N3__Scaled_Br_20070809213246058_S25537_I66682.nii\n",
      "Processing file: ADNI_123_S_0106_MR_MPR____N3__Scaled_2_Br_20081006155611727_S11010_I119307.nii\n",
      "Processing file: ADNI_123_S_0106_MR_MPR____N3__Scaled_2_Br_20081006155853649_S25537_I119309.nii\n",
      "Processing file: ADNI_123_S_0106_MR_MPR-R____N3__Scaled_2_Br_20081006155731251_S17506_I119308.nii\n",
      "Processing file: ADNI_123_S_0106_MR_MPR-R____N3__Scaled_Br_20070805155157318_S17506_I64965.nii\n",
      "Processing file: ADNI_003_S_1057_MR_MPR__GradWarp__B1_Correction__N3__Scaled_Br_20070501174016338_S23345_I52821.nii\n",
      "Processing file: ADNI_003_S_1057_MR_MPR__GradWarp__B1_Correction__N3__Scaled_Br_20080308121051585_S46176_I96202.nii\n",
      "Processing file: ADNI_003_S_1057_MR_MPR__GradWarp__B1_Correction__N3__Scaled_Br_20071110111110663_S41854_I81339.nii\n",
      "Processing file: ADNI_029_S_0836_MR_MPR__GradWarp__B1_Correction__N3__Scaled_Br_20070806122937449_S18151_I65013.nii\n",
      "Processing file: ADNI_029_S_0836_MR_MPR__GradWarp__B1_Correction__N3__Scaled_Br_20070718142657136_S27848_I60692.nii\n",
      "Processing file: ADNI_029_S_0836_MR_MPR__GradWarp__B1_Correction__N3__Scaled_Br_20071029184751781_S40845_I79587.nii\n",
      "Processing file: ADNI_021_S_0647_MR_MPR__GradWarp__N3__Scaled_Br_20061217131346116_S15957_I33457.nii\n",
      "Processing file: ADNI_021_S_0647_MR_MPR__GradWarp__N3__Scaled_Br_20070818122709700_S26237_I68467.nii\n",
      "Processing file: ADNI_021_S_0647_MR_MPR__GradWarp__N3__Scaled_Br_20070904192940998_S36847_I71463.nii\n",
      "Processing file: ADNI_141_S_0790_MR_MPR__GradWarp__B1_Correction__N3__Scaled_Br_20080220165919265_S18766_I91253.nii\n",
      "Processing file: ADNI_141_S_0790_MR_MPR__GradWarp__B1_Correction__N3__Scaled_Br_20080410151355187_S47536_I102146.nii\n",
      "Processing file: ADNI_141_S_0790_MR_MPR__GradWarp__B1_Correction__N3__Scaled_Br_20071110130233583_S41047_I81495.nii\n",
      "Processing file: ADNI_141_S_1245_MR_MPR__GradWarp__B1_Correction__N3__Scaled_Br_20080522181746998_S49889_I106630.nii\n",
      "Processing file: ADNI_141_S_1245_MR_MPR__GradWarp__B1_Correction__N3__Scaled_Br_20070923141610048_S37967_I74748.nii\n",
      "Processing file: ADNI_141_S_1245_MR_MPR__GradWarp__B1_Correction__N3__Scaled_Br_20070411123838725_S25653_I48599.nii\n",
      "Processing file: ADNI_073_S_0746_MR_MPR-R__GradWarp__B1_Correction__N3__Scaled_Br_20070731112459149_S23286_I63122.nii\n",
      "Processing file: ADNI_073_S_0746_MR_MPR__GradWarp__B1_Correction__N3__Scaled_Br_20080224143429086_S45617_I92260.nii\n",
      "Processing file: ADNI_073_S_0746_MR_MPR__GradWarp__B1_Correction__N3__Scaled_Br_20070913162914631_S36764_I73164.nii\n",
      "Processing file: ADNI_005_S_0222_MR_MPR__GradWarp__B1_Correction__N3__Scaled_Br_20070426165924209_S19685_I51469.nii\n",
      "Processing file: ADNI_005_S_0222_MR_MPR__GradWarp__B1_Correction__N3__Scaled_Br_20070517132037539_S11754_I54686.nii\n",
      "Processing file: ADNI_005_S_0222_MR_MPR__GradWarp__B1_Correction__N3__Scaled_Br_20070805124402075_S29895_I64764.nii\n",
      "Processing file: ADNI_023_S_1247_MR_MPR__GradWarp__B1_Correction__N3__Scaled_2_Br_20081002103413605_S25741_I118994.nii\n",
      "Processing file: ADNI_023_S_1247_MR_MPR__GradWarp__B1_Correction__N3__Scaled_Br_20070918130126157_S36782_I73609.nii\n",
      "Processing file: ADNI_023_S_1247_MR_MPR__GradWarp__B1_Correction__N3__Scaled_Br_20080223121801182_S45062_I91669.nii\n",
      "Processing file: ADNI_023_S_1247_MR_MPR__GradWarp__B1_Correction__N3__Scaled_Br_20070412172006512_S25741_I48857.nii\n",
      "Processing file: ADNI_082_S_1377_MR_MPR-R__GradWarp__B1_Correction__N3__Scaled_Br_20070731115515322_S28495_I63170.nii\n",
      "Processing file: ADNI_082_S_1377_MR_MPR__GradWarp__B1_Correction__N3__Scaled_Br_20071101192159389_S40021_I80388.nii\n",
      "Processing file: ADNI_082_S_1377_MR_MPR__GradWarp__B1_Correction__N3__Scaled_Br_20081026134331483_S51827_I123758.nii\n",
      "Processing file: ADNI_130_S_0102_MR_MPR-R__GradWarp__B1_Correction__N3__Scaled_Br_20070816153248774_S25193_I68176.nii\n",
      "Processing file: ADNI_130_S_0102_MR_MPR__GradWarp__B1_Correction__N3__Scaled_Br_20070212203700215_S10746_I39460.nii\n",
      "Processing file: ADNI_130_S_0102_MR_MPR__GradWarp__B1_Correction__N3__Scaled_Br_20070210211011459_S17521_I39147.nii\n",
      "Processing file: ADNI_094_S_1398_MR_MPR__GradWarp__N3__Scaled_Br_20080307104914151_S42841_I95667.nii\n",
      "Processing file: ADNI_094_S_1398_MR_MPR__GradWarp__B1_Correction__N3__Scaled_Br_20080626143849327_S51380_I111278.nii\n",
      "Processing file: ADNI_094_S_1398_MR_MPR__GradWarp__B1_Correction__N3__Scaled_Br_20070731125345541_S31771_I63227.nii\n",
      "Processing file: ADNI_006_S_0731_MR_MPR__GradWarp__B1_Correction__N3__Scaled_Br_20080220094836683_S18321_I90848.nii\n",
      "Processing file: ADNI_006_S_0731_MR_MPR__GradWarp__B1_Correction__N3__Scaled_Br_20070804130615519_S27980_I64575.nii\n",
      "Processing file: ADNI_006_S_0731_MR_MPR__GradWarp__B1_Correction__N3__Scaled_Br_20071027123419100_S38847_I78727.nii\n",
      "Processing file: ADNI_073_S_0518_MR_MPR__GradWarp__B1_Correction__N3__Scaled_2_Br_20081006105453633_S18797_I119233.nii\n",
      "Processing file: ADNI_073_S_0518_MR_MPR__GradWarp__B1_Correction__N3__Scaled_Br_20071221161742051_S43188_I85995.nii\n",
      "Processing file: ADNI_073_S_0518_MR_MPR__GradWarp__B1_Correction__N3__Scaled_Br_20070213211806847_S18797_I39909.nii\n",
      "Processing file: ADNI_073_S_0518_MR_MPR__GradWarp__B1_Correction__N3__Scaled_Br_20071029112143032_S33562_I79373.nii\n",
      "Processing file: ADNI_067_S_0077_MR_MPR-R__GradWarp__B1_Correction__N3__Scaled_2_Br_20081003155933337_S11136_I119192.nii\n",
      "Processing file: ADNI_067_S_0077_MR_MPR__GradWarp__B1_Correction__N3__Scaled_2_Br_20081003160014529_S18164_I119193.nii\n",
      "Processing file: ADNI_067_S_0077_MR_MPR-R__GradWarp__B1_Correction__N3__Scaled_Br_20070816144652057_S11136_I68120.nii\n",
      "Processing file: ADNI_067_S_0077_MR_MPR__GradWarp__B1_Correction__N3__Scaled_Br_20070816145120918_S27599_I68125.nii\n",
      "Processing file: ADNI_067_S_0077_MR_MPR__GradWarp__B1_Correction__N3__Scaled_Br_20071226135211353_S18164_I86213.nii\n",
      "Processing file: ADNI_128_S_0947_MR_MPR__GradWarp__B1_Correction__N3__Scaled_2_Br_20081007101402951_S19859_I119409.nii\n",
      "Processing file: ADNI_128_S_0947_MR_MPR-R__GradWarp__B1_Correction__N3__Scaled_Br_20070819183031558_S29901_I69086.nii\n",
      "Processing file: ADNI_128_S_0947_MR_MPR-R__GradWarp__B1_Correction__N3__Scaled_Br_20080215173006983_S42240_I90605.nii\n",
      "Processing file: ADNI_128_S_0947_MR_MPR__GradWarp__B1_Correction__N3__Scaled_Br_20070819182244177_S19859_I69073.nii\n",
      "Processing file: ADNI_062_S_0578_MR_MPR__GradWarp__B1_Correction__N3__Scaled_Br_20070424113933613_S24376_I50443.nii\n",
      "Processing file: ADNI_062_S_0578_MR_MPR__GradWarp__B1_Correction__N3__Scaled_Br_20070910190146323_S33412_I72306.nii\n",
      "Processing file: ADNI_062_S_0578_MR_MPR__GradWarp__B1_Correction__N3__Scaled_Br_20070424114540207_S15035_I50459.nii\n",
      "Processing file: ADNI_123_S_0088_MR_MPR____N3__Scaled_Br_20070802215356737_S10795_I64400.nii\n",
      "Processing file: ADNI_123_S_0088_MR_MPR____N3__Scaled_Br_20081022122935024_S25920_I122735.nii\n",
      "Processing file: ADNI_123_S_0088_MR_MPR____N3__Scaled_2_Br_20081006154519230_S10795_I119277.nii\n",
      "Processing file: ADNI_123_S_0088_MR_MPR-R____N3__Scaled_2_Br_20081006154639276_S17840_I119283.nii\n",
      "Processing file: ADNI_123_S_0088_MR_MPR-R____N3__Scaled_Br_20070731192808437_S17840_I63538.nii\n",
      "Processing file: ADNI_009_S_0751_MR_MPR__GradWarp__N3__Scaled_Br_20070926180344105_S26993_I75394.nii\n",
      "Processing file: ADNI_009_S_0751_MR_MPR__GradWarp__N3__Scaled_Br_20080408151939286_S17487_I101528.nii\n",
      "Processing file: ADNI_009_S_0751_MR_MPR__GradWarp__N3__Scaled_Br_20071028205214390_S38625_I79275.nii\n",
      "Processing file: ADNI_128_S_1408_MR_MPR-R__GradWarp__B1_Correction__N3__Scaled_Br_20070820165456138_S36472_I69289.nii\n",
      "Processing file: ADNI_128_S_1408_MR_MPR__GradWarp__B1_Correction__N3__Scaled_Br_20080223183402192_S45274_I91999.nii\n",
      "Processing file: ADNI_128_S_1408_MR_MPR__GradWarp__B1_Correction__N3__Scaled_Br_20081017082629524_S56669_I121703.nii\n",
      "Processing file: ADNI_033_S_1086_MR_MPR__GradWarp__B1_Correction__N3__Scaled_Br_20070306090420483_S23547_I42785.nii\n",
      "Processing file: ADNI_033_S_1086_MR_MPR__GradWarp__B1_Correction__N3__Scaled_Br_20080224153400247_S45561_I92354.nii\n",
      "Processing file: ADNI_033_S_1086_MR_MPR__GradWarp__B1_Correction__N3__Scaled_Br_20071115125253644_S33023_I82323.nii\n",
      "Processing file: ADNI_006_S_0681_MR_MPR__GradWarp__B1_Correction__N3__Scaled_Br_20080224150248153_S18451_I92305.nii\n",
      "Processing file: ADNI_006_S_0681_MR_MPR__GradWarp__B1_Correction__N3__Scaled_Br_20080302133147028_S41742_I94949.nii\n",
      "Processing file: ADNI_006_S_0681_MR_MPR__GradWarp__B1_Correction__N3__Scaled_Br_20070727174105903_S29141_I62579.nii\n",
      "Processing file: ADNI_027_S_1387_MR_MPR__GradWarp__B1_Correction__N3__Scaled_Br_20070812142231349_S28123_I67201.nii\n",
      "Processing file: ADNI_027_S_1387_MR_MPR__GradWarp__B1_Correction__N3__Scaled_Br_20080321155112030_S46909_I99252.nii\n",
      "Processing file: ADNI_027_S_1387_MR_MPR__GradWarp__B1_Correction__N3__Scaled_Br_20071027173948758_S39868_I78894.nii\n",
      "Processing file: ADNI_006_S_0675_MR_MPR-R__GradWarp__B1_Correction__N3__Scaled_Br_20070727173615915_S30813_I62574.nii\n",
      "Processing file: ADNI_006_S_0675_MR_MPR__GradWarp__B1_Correction__N3__Scaled_Br_20080124143543585_S44086_I88346.nii\n",
      "Processing file: ADNI_006_S_0675_MR_MPR__GradWarp__B1_Correction__N3__Scaled_Br_20070813140709161_S18432_I67341.nii\n",
      "Processing file: ADNI_068_S_0442_MR_MPR____N3__Scaled_Br_20070821183600848_S26510_I69623.nii\n",
      "Processing file: ADNI_068_S_0442_MR_MPR____N3__Scaled_Br_20070911105840316_S34034_I72437.nii\n",
      "Processing file: ADNI_068_S_0442_MR_MPR____N3__Scaled_2_Br_20081212150542601_S26510_I130242.nii\n",
      "Processing file: ADNI_068_S_0442_MR_MPR____N3__Scaled_2_Br_20081212150644509_S34034_I130243.nii\n",
      "Processing file: ADNI_068_S_0442_MR_MPR-R____N3__Scaled_2_Br_20081212150437526_S14128_I130241.nii\n",
      "Processing file: ADNI_068_S_0442_MR_MPR-R____N3__Scaled_Br_20070807175114992_S14128_I65727.nii\n",
      "Processing file: ADNI_012_S_1009_MR_MPR____N3__Scaled_Br_20080224151313844_S43083_I92321.nii\n",
      "Processing file: ADNI_012_S_1009_MR_MPR____N3__Scaled_Br_20070904181315040_S32769_I71348.nii\n",
      "Processing file: ADNI_012_S_1009_MR_MPR____N3__Scaled_Br_20070804145130249_S21610_I64717.nii\n",
      "Processing file: ADNI_012_S_1009_MR_MPR____N3__Scaled_2_Br_20081001130937593_S32769_I118752.nii\n",
      "Processing file: ADNI_012_S_1009_MR_MPR____N3__Scaled_2_Br_20081001123612966_S21610_I118717.nii\n",
      "Processing file: ADNI_036_S_0976_MR_MPR-R__GradWarp__B1_Correction__N3__Scaled_Br_20080229172811596_S44594_I94520.nii\n",
      "Processing file: ADNI_036_S_0976_MR_MPR-R__GradWarp__B1_Correction__N3__Scaled_Br_20070904204409986_S34868_I71571.nii\n",
      "Processing file: ADNI_036_S_0976_MR_MPR__GradWarp__B1_Correction__N3__Scaled_Br_20070806142519390_S23852_I65091.nii\n",
      "Processing file: ADNI_123_S_0072_MR_MPR____N3__Scaled_Br_20070802214830990_S10776_I64395.nii\n",
      "Processing file: ADNI_123_S_0072_MR_MPR____N3__Scaled_Br_20070809211916237_S25240_I66672.nii\n",
      "Processing file: ADNI_123_S_0072_MR_MPR____N3__Scaled_Br_20070731192052467_S17085_I63531.nii\n",
      "Processing file: ADNI_123_S_0072_MR_MPR____N3__Scaled_2_Br_20081006154119906_S10776_I119274.nii\n",
      "Processing file: ADNI_123_S_0072_MR_MPR____N3__Scaled_2_Br_20081006154400084_S25240_I119276.nii\n",
      "Processing file: ADNI_123_S_0072_MR_MPR____N3__Scaled_2_Br_20081006154240325_S17085_I119275.nii\n",
      "Processing file: ADNI_130_S_1337_MR_MPR__GradWarp__B1_Correction__N3__Scaled_Br_20070801184528226_S27584_I63775.nii\n",
      "Processing file: ADNI_130_S_1337_MR_MPR__GradWarp__B1_Correction__N3__Scaled_Br_20071106112629647_S40791_I80953.nii\n",
      "Processing file: ADNI_130_S_1337_MR_MPR__GradWarp__B1_Correction__N3__Scaled_Br_20080410110634933_S46817_I101956.nii\n",
      "Processing file: ADNI_036_S_0748_MR_MPR-R__GradWarp__B1_Correction__N3__Scaled_Br_20070806141028351_S27387_I65077.nii\n",
      "Processing file: ADNI_036_S_0748_MR_MPR__GradWarp__B1_Correction__N3__Scaled_Br_20070923135800146_S37620_I74712.nii\n",
      "Processing file: ADNI_036_S_0748_MR_MPR__GradWarp__B1_Correction__N3__Scaled_Br_20070120002555015_S17705_I36959.nii\n",
      "Processing file: ADNI_012_S_0712_MR_MPR____N3__Scaled_Br_20070711165343143_S25202_I59202.nii\n",
      "Processing file: ADNI_012_S_0712_MR_MPR____N3__Scaled_Br_20080207101006586_S36463_I89735.nii\n",
      "Processing file: ADNI_012_S_0712_MR_MPR____N3__Scaled_Br_20080225093529482_S16704_I92401.nii\n",
      "Processing file: ADNI_012_S_0712_MR_MPR____N3__Scaled_2_Br_20081001125353686_S25202_I118743.nii\n",
      "Processing file: ADNI_012_S_0712_MR_MPR____N3__Scaled_2_Br_20081001131440510_S36463_I118756.nii\n",
      "Processing file: ADNI_012_S_0712_MR_MPR____N3__Scaled_2_Br_20081001123034709_S16704_I118712.nii\n",
      "Processing file: ADNI_082_S_1256_MR_MPR__GradWarp__B1_Correction__N3__Scaled_Br_20080605162556464_S50835_I108578.nii\n",
      "Processing file: ADNI_082_S_1256_MR_MPR__GradWarp__B1_Correction__N3__Scaled_Br_20070731114338839_S26812_I63155.nii\n",
      "Processing file: ADNI_082_S_1256_MR_MPR__GradWarp__B1_Correction__N3__Scaled_Br_20071101191716161_S41304_I80379.nii\n",
      "Processing file: ADNI_012_S_1292_MR_MPR____N3__Scaled_Br_20071029174602076_S39367_I79495.nii\n",
      "Processing file: ADNI_012_S_1292_MR_MPR____N3__Scaled_Br_20080421164845866_S47689_I103296.nii\n",
      "Processing file: ADNI_012_S_1292_MR_MPR____N3__Scaled_Br_20080225095614127_S27448_I92429.nii\n",
      "Processing file: ADNI_012_S_1292_MR_MPR____N3__Scaled_2_Br_20081001131935726_S39367_I118760.nii\n",
      "Processing file: ADNI_012_S_1292_MR_MPR____N3__Scaled_2_Br_20081001125734671_S27448_I118746.nii\n",
      "Processing file: ADNI_109_S_0950_MR_MPR-R__GradWarp__B1_Correction__N3__Scaled_2_Br_20081006131050897_S21165_I119261.nii\n",
      "Processing file: ADNI_109_S_0950_MR_MPR-R__GradWarp__B1_Correction__N3__Scaled_Br_20080313120846577_S21165_I97200.nii\n",
      "Processing file: ADNI_109_S_0950_MR_MPR__GradWarp__B1_Correction__N3__Scaled_Br_20081015151949918_S50598_I121090.nii\n",
      "Processing file: ADNI_109_S_0950_MR_MPR__GradWarp__B1_Correction__N3__Scaled_Br_20071028112427383_S33867_I79026.nii\n",
      "Processing file: ADNI_027_S_0461_MR_MPR-R__GradWarp__B1_Correction__N3__Scaled_Br_20070807082926218_S34047_I65320.nii\n",
      "Processing file: ADNI_027_S_0461_MR_MPR__GradWarp__B1_Correction__N3__Scaled_Br_20061222203247000_S15192_I34231.nii\n",
      "Processing file: ADNI_027_S_0461_MR_MPR__GradWarp__B1_Correction__N3__Scaled_Br_20070327140645084_S23517_I47115.nii\n",
      "Processing file: ADNI_021_S_0332_MR_MPR__GradWarp__N3__Scaled_Br_20070821150611610_S30699_I69472.nii\n",
      "Processing file: ADNI_021_S_0332_MR_MPR__GradWarp__N3__Scaled_Br_20071028193907469_S20322_I79171.nii\n",
      "Processing file: ADNI_021_S_0332_MR_MPR-R__GradWarp__N3__Scaled_Br_20061218165657362_S12756_I33599.nii\n",
      "Processing file: ADNI_018_S_0425_MR_MPR____N3__Scaled_Br_20070810173727274_S23884_I66977.nii\n",
      "Processing file: ADNI_018_S_0425_MR_MPR____N3__Scaled_Br_20070731165720140_S13585_I63383.nii\n",
      "Processing file: ADNI_018_S_0425_MR_MPR____N3__Scaled_Br_20070810174334919_S33642_I66984.nii\n",
      "Processing file: ADNI_018_S_0425_MR_MPR____N3__Scaled_2_Br_20081001133238550_S23884_I118767.nii\n",
      "Processing file: ADNI_018_S_0425_MR_MPR____N3__Scaled_2_Br_20081001133125082_S13585_I118766.nii\n",
      "Processing file: ADNI_018_S_0425_MR_MPR____N3__Scaled_2_Br_20081001133348439_S33642_I118768.nii\n",
      "Processing file: ADNI_126_S_1187_MR_MPR__GradWarp__B1_Correction__N3__Scaled_Br_20070412184108117_S25143_I48959.nii\n",
      "Processing file: ADNI_126_S_1187_MR_MPR__GradWarp__B1_Correction__N3__Scaled_Br_20080223180157125_S44779_I91954.nii\n",
      "Processing file: ADNI_126_S_1187_MR_MPR__GradWarp__B1_Correction__N3__Scaled_Br_20071028203140611_S37232_I79250.nii\n",
      "Processing file: ADNI_033_S_1279_MR_MPR__GradWarp__B1_Correction__N3__Scaled_Br_20080320171043364_S46508_I99077.nii\n",
      "Processing file: ADNI_033_S_1279_MR_MPR__GradWarp__B1_Correction__N3__Scaled_Br_20071028200731920_S39264_I79214.nii\n",
      "Processing file: ADNI_033_S_1279_MR_MPR__GradWarp__B1_Correction__N3__Scaled_Br_20070517160450483_S26694_I54757.nii\n",
      "Processing file: ADNI_051_S_1040_MR_MPR-R__GradWarp__B1_Correction__N3__Scaled_Br_20070628170325267_S21751_I58038.nii\n",
      "Processing file: ADNI_051_S_1040_MR_MPR__GradWarp__B1_Correction__N3__Scaled_Br_20071113182235510_S42211_I81955.nii\n",
      "Processing file: ADNI_051_S_1040_MR_MPR__GradWarp__B1_Correction__N3__Scaled_Br_20070828114409012_S31904_I70717.nii\n",
      "Processing file: ADNI_130_S_0886_MR_MPR__GradWarp__B1_Correction__N3__Scaled_Br_20071106111824989_S41101_I80944.nii\n",
      "Processing file: ADNI_130_S_0886_MR_MPR__GradWarp__B1_Correction__N3__Scaled_Br_20070809140502040_S29534_I66332.nii\n",
      "Processing file: ADNI_130_S_0886_MR_MPR__GradWarp__B1_Correction__N3__Scaled_Br_20070210214803504_S19561_I39171.nii\n",
      "Processing file: ADNI_114_S_1103_MR_MPR__GradWarp__B1_Correction__N3__Scaled_Br_20070419174713695_S23239_I49757.nii\n",
      "Processing file: ADNI_114_S_1103_MR_MPR__GradWarp__B1_Correction__N3__Scaled_Br_20071119091303729_S34453_I82603.nii\n",
      "Processing file: ADNI_114_S_1103_MR_MPR__GradWarp__B1_Correction__N3__Scaled_Br_20080223171901466_S44904_I91896.nii\n",
      "Processing file: ADNI_130_S_0423_MR_MPR__GradWarp__B1_Correction__N3__Scaled_Br_20070210204607108_S15030_I39132.nii\n",
      "Processing file: ADNI_130_S_0423_MR_MPR__GradWarp__B1_Correction__N3__Scaled_Br_20071226103032600_S26304_I86111.nii\n",
      "Processing file: ADNI_130_S_0423_MR_MPR__GradWarp__B1_Correction__N3__Scaled_Br_20070926114617175_S38067_I75318.nii\n",
      "Processing file: ADNI_033_S_1284_MR_MPR__GradWarp__B1_Correction__N3__Scaled_Br_20080313105209539_S46258_I97097.nii\n",
      "Processing file: ADNI_033_S_1284_MR_MPR__GradWarp__B1_Correction__N3__Scaled_Br_20070921144242345_S37921_I74257.nii\n",
      "Processing file: ADNI_033_S_1284_MR_MPR__GradWarp__B1_Correction__N3__Scaled_Br_20070517163057545_S26686_I54799.nii\n",
      "Processing file: ADNI_128_S_1407_MR_MPR__GradWarp__B1_Correction__N3__Scaled_Br_20081020135510819_S56244_I122382.nii\n",
      "Processing file: ADNI_128_S_1407_MR_MPR__GradWarp__B1_Correction__N3__Scaled_Br_20080225184524561_S44739_I92628.nii\n",
      "Processing file: ADNI_128_S_1407_MR_MPR__GradWarp__B1_Correction__N3__Scaled_Br_20070821113527497_S33808_I69390.nii\n",
      "Processing file: ADNI_067_S_0336_MR_MPR__GradWarp__B1_Correction__N3__Scaled_2_Br_20081003160836688_S14023_I119202.nii\n",
      "Processing file: ADNI_067_S_0336_MR_MPR-R__GradWarp__B1_Correction__N3__Scaled_Br_20071221161459868_S32534_I85990.nii\n",
      "Processing file: ADNI_067_S_0336_MR_MPR__GradWarp__B1_Correction__N3__Scaled_Br_20061229185531970_S14023_I34857.nii\n",
      "Processing file: ADNI_067_S_0336_MR_MPR__GradWarp__B1_Correction__N3__Scaled_Br_20070802203132429_S23837_I64314.nii\n",
      "Processing file: ADNI_016_S_0354_MR_MPR__GradWarp__B1_Correction__N3__Scaled_Br_20080408122151990_S35901_I101389.nii\n",
      "Processing file: ADNI_016_S_0354_MR_MPR__GradWarp__B1_Correction__N3__Scaled_Br_20080225190402189_S14080_I92669.nii\n",
      "Processing file: ADNI_016_S_0354_MR_MPR__GradWarp__B1_Correction__N3__Scaled_Br_20071223123750530_S23751_I86040.nii\n",
      "Processing file: ADNI_041_S_0446_MR_MPR-R__GradWarp__B1_Correction__N3__Scaled_Br_20070215230040560_S13908_I40433.nii\n",
      "Processing file: ADNI_041_S_0446_MR_MPR-R__GradWarp__B1_Correction__N3__Scaled_Br_20070806155716141_S24824_I65167.nii\n",
      "Processing file: ADNI_041_S_0446_MR_MPR__GradWarp__B1_Correction__N3__Scaled_Br_20070904211217449_S33006_I71606.nii\n",
      "Processing file: ADNI_133_S_0792_MR_MPR__GradWarp__B1_Correction__N3__Scaled_2_Br_20081008093923385_S18306_I119610.nii\n",
      "Processing file: ADNI_133_S_0792_MR_MPR__GradWarp__B1_Correction__N3__Scaled_2_Br_20081008094227100_S29222_I119622.nii\n",
      "Processing file: ADNI_133_S_0792_MR_MPR__GradWarp__B1_Correction__N3__Scaled_2_Br_20081008094320096_S39994_I119623.nii\n",
      "Processing file: ADNI_133_S_0792_MR_MPR__GradWarp__B1_Correction__N3__Scaled_Br_20070809144234763_S18306_I66373.nii\n",
      "Processing file: ADNI_133_S_0792_MR_MPR__GradWarp__B1_Correction__N3__Scaled_Br_20071111125408319_S29222_I81567.nii\n",
      "Processing file: ADNI_133_S_0792_MR_MPR__GradWarp__B1_Correction__N3__Scaled_Br_20080225193909605_S39994_I92721.nii\n",
      "Processing file: ADNI_036_S_1001_MR_MPR-R__GradWarp__B1_Correction__N3__Scaled_Br_20070904204856863_S33036_I71580.nii\n",
      "Processing file: ADNI_036_S_1001_MR_MPR__GradWarp__B1_Correction__N3__Scaled_Br_20071221155430073_S43195_I85950.nii\n",
      "Processing file: ADNI_036_S_1001_MR_MPR__GradWarp__B1_Correction__N3__Scaled_Br_20070209145840163_S22691_I38661.nii\n",
      "Processing file: ADNI_141_S_0810_MR_MPR-R__GradWarp__B1_Correction__N3__Scaled_Br_20070328093111188_S20274_I47314.nii\n",
      "Processing file: ADNI_141_S_0810_MR_MPR__GradWarp__B1_Correction__N3__Scaled_Br_20080529134222061_S50194_I107733.nii\n",
      "Processing file: ADNI_141_S_0810_MR_MPR__GradWarp__B1_Correction__N3__Scaled_Br_20080220170352103_S32721_I91262.nii\n",
      "Processing file: ADNI_116_S_1243_MR_MPR__GradWarp__N3__Scaled_Br_20080318142929812_S45892_I98845.nii\n",
      "Processing file: ADNI_116_S_1243_MR_MPR__GradWarp__N3__Scaled_Br_20071006122816713_S38957_I77078.nii\n",
      "Processing file: ADNI_116_S_1243_MR_MPR-R__GradWarp__N3__Scaled_Br_20070713082800619_S26080_I59735.nii\n",
      "Processing file: ADNI_109_S_0967_MR_MPR__GradWarp__B1_Correction__N3__Scaled_2_Br_20081006131012936_S21137_I119260.nii\n",
      "Processing file: ADNI_109_S_0967_MR_MPR__GradWarp__B1_Correction__N3__Scaled_Br_20070911121838414_S33892_I72531.nii\n",
      "Processing file: ADNI_109_S_0967_MR_MPR__GradWarp__B1_Correction__N3__Scaled_Br_20070522145149687_S21137_I55044.nii\n",
      "Processing file: ADNI_109_S_0967_MR_MPR__GradWarp__B1_Correction__N3__Scaled_Br_20081015152555950_S50607_I121099.nii\n",
      "Processing file: ADNI_037_S_0552_MR_MPR__GradWarp__N3__Scaled_Br_20080124115723807_S42050_I88288.nii\n",
      "Processing file: ADNI_037_S_0552_MR_MPR__GradWarp__N3__Scaled_Br_20080220133052279_S24610_I90999.nii\n",
      "Processing file: ADNI_037_S_0552_MR_MPR__GradWarp__N3__Scaled_Br_20071030165002928_S14888_I79796.nii\n",
      "Processing file: ADNI_130_S_0232_MR_MPR__GradWarp__B1_Correction__N3__Scaled_Br_20070210200901845_S11928_I39108.nii\n",
      "Processing file: ADNI_130_S_0232_MR_MPR__GradWarp__B1_Correction__N3__Scaled_Br_20070807120019142_S27593_I65489.nii\n",
      "Processing file: ADNI_130_S_0232_MR_MPR__GradWarp__B1_Correction__N3__Scaled_Br_20070210212555903_S19172_I39157.nii\n",
      "Processing file: ADNI_094_S_1090_MR_MPR__GradWarp__B1_Correction__N3__Scaled_Br_20070911115344407_S32867_I72508.nii\n",
      "Processing file: ADNI_094_S_1090_MR_MPR__GradWarp__B1_Correction__N3__Scaled_Br_20080220135824015_S44395_I91043.nii\n",
      "Processing file: ADNI_094_S_1090_MR_MPR__GradWarp__B1_Correction__N3__Scaled_Br_20070731120023063_S23375_I63176.nii\n",
      "Processing file: ADNI_037_S_1225_MR_MPR__GradWarp__N3__Scaled_Br_20071229183848350_S37852_I86395.nii\n",
      "Processing file: ADNI_037_S_1225_MR_MPR__GradWarp__N3__Scaled_Br_20080225175528782_S45500_I92547.nii\n",
      "Processing file: ADNI_037_S_1225_MR_MPR-R__GradWarp__N3__Scaled_Br_20071031135002117_S25472_I79934.nii\n",
      "Processing file: ADNI_031_S_0830_MR_MPR__GradWarp__N3__Scaled_Br_20070427173810192_S29284_I51863.nii\n",
      "Processing file: ADNI_031_S_0830_MR_MPR-R__GradWarp__N3__Scaled_Br_20071029110046014_S18847_I79342.nii\n",
      "Processing file: ADNI_031_S_0830_MR_MPR-R__GradWarp__N3__Scaled_Br_20071031132832050_S39443_I79908.nii\n",
      "Processing file: ADNI_018_S_0633_MR_MPR____N3__Scaled_Br_20070913153200036_S35137_I73053.nii\n",
      "Processing file: ADNI_018_S_0633_MR_MPR____N3__Scaled_Br_20120731122835330_S25294_I319789.nii\n",
      "Processing file: ADNI_018_S_0633_MR_MPR____N3__Scaled_2_Br_20081124142824991_S25294_I128360.nii\n",
      "Processing file: ADNI_018_S_0633_MR_MPR-R____N3__Scaled_2_Br_20081010112443772_S15573_I120057.nii\n",
      "Processing file: ADNI_018_S_0633_MR_MPR-R____N3__Scaled_Br_20070101222816515_S15573_I35036.nii\n",
      "Processing file: ADNI_127_S_0684_MR_MPR-R__GradWarp__B1_Correction__N3__Scaled_Br_20070922105522161_S37893_I74509.nii\n",
      "Processing file: ADNI_127_S_0684_MR_MPR__GradWarp__B1_Correction__N3__Scaled_Br_20061228115620978_S16759_I34458.nii\n",
      "Processing file: ADNI_127_S_0684_MR_MPR__GradWarp__B1_Correction__N3__Scaled_Br_20070731203813056_S26720_I63610.nii\n",
      "Processing file: ADNI_136_S_1227_MR_MPR-R__GradWarp__B1_Correction__N3__Scaled_Br_20071028124512513_S38553_I79075.nii\n",
      "Processing file: ADNI_136_S_1227_MR_MPR-R__GradWarp__B1_Correction__N3__Scaled_Br_20080321161026462_S46741_I99279.nii\n",
      "Processing file: ADNI_136_S_1227_MR_MPR__GradWarp__B1_Correction__N3__Scaled_Br_20070801194727811_S26399_I63838.nii\n",
      "Processing file: ADNI_018_S_0406_MR_MPR____N3__Scaled_Br_20070816111640480_S23717_I67938.nii\n",
      "Processing file: ADNI_018_S_0406_MR_MPR____N3__Scaled_Br_20070123190542509_S13623_I37199.nii\n",
      "Processing file: ADNI_018_S_0406_MR_MPR____N3__Scaled_Br_20070815095424417_S33255_I67692.nii\n",
      "Processing file: ADNI_018_S_0406_MR_MPR____N3__Scaled_2_Br_20081001133607877_S23717_I118770.nii\n",
      "Processing file: ADNI_018_S_0406_MR_MPR____N3__Scaled_2_Br_20081001133501175_S13623_I118769.nii\n",
      "Processing file: ADNI_018_S_0406_MR_MPR____N3__Scaled_2_Br_20081001133716002_S33255_I118771.nii\n",
      "Processing file: ADNI_094_S_1293_MR_MPR__GradWarp__B1_Correction__N3__Scaled_Br_20071101194130960_S39310_I80415.nii\n",
      "Processing file: ADNI_094_S_1293_MR_MPR__GradWarp__B1_Correction__N3__Scaled_Br_20080313115003431_S46532_I97177.nii\n",
      "Processing file: ADNI_094_S_1293_MR_MPR__GradWarp__B1_Correction__N3__Scaled_Br_20070802212429298_S27865_I64374.nii\n",
      "Processing file: ADNI_136_S_0194_MR_MPR-R__GradWarp__B1_Correction__N3__Scaled_2_Br_20081008133147404_S13178_I119717.nii\n",
      "Processing file: ADNI_136_S_0194_MR_MPR-R__GradWarp__B1_Correction__N3__Scaled_2_Br_20081008133332716_S20331_I119719.nii\n",
      "Processing file: ADNI_136_S_0194_MR_MPR-R__GradWarp__B1_Correction__N3__Scaled_Br_20070215183625381_S13178_I40239.nii\n",
      "Processing file: ADNI_136_S_0194_MR_MPR-R__GradWarp__B1_Correction__N3__Scaled_Br_20071226101923483_S20331_I86097.nii\n",
      "Processing file: ADNI_136_S_0194_MR_MPR__GradWarp__B1_Correction__N3__Scaled_Br_20070809223519238_S29207_I66731.nii\n",
      "Processing file: ADNI_133_S_0525_MR_MPR__GradWarp__B1_Correction__N3__Scaled_2_Br_20081007153255245_S14991_I119510.nii\n",
      "Processing file: ADNI_133_S_0525_MR_MPR__GradWarp__B1_Correction__N3__Scaled_2_Br_20081007153448561_S26013_I119512.nii\n",
      "Processing file: ADNI_133_S_0525_MR_MPR__GradWarp__B1_Correction__N3__Scaled_2_Br_20081007153640778_S36578_I119514.nii\n",
      "Processing file: ADNI_133_S_0525_MR_MPR__GradWarp__B1_Correction__N3__Scaled_Br_20070213223142703_S14991_I39980.nii\n",
      "Processing file: ADNI_133_S_0525_MR_MPR__GradWarp__B1_Correction__N3__Scaled_Br_20070425175627188_S26013_I51034.nii\n",
      "Processing file: ADNI_133_S_0525_MR_MPR__GradWarp__B1_Correction__N3__Scaled_Br_20070912192224341_S36578_I72935.nii\n",
      "Processing file: ADNI_023_S_0855_MR_MPR__GradWarp__B1_Correction__N3__Scaled_2_Br_20081002102235603_S18561_I118985.nii\n",
      "Processing file: ADNI_023_S_0855_MR_MPR__GradWarp__B1_Correction__N3__Scaled_2_Br_20081002104237720_S30834_I119004.nii\n",
      "Processing file: ADNI_023_S_0855_MR_MPR__GradWarp__B1_Correction__N3__Scaled_Br_20061203135308153_S18561_I31509.nii\n",
      "Processing file: ADNI_023_S_0855_MR_MPR__GradWarp__B1_Correction__N3__Scaled_Br_20070812141626637_S30834_I67192.nii\n",
      "Processing file: ADNI_023_S_0855_MR_MPR__GradWarp__B1_Correction__N3__Scaled_Br_20071006115525964_S38962_I77035.nii\n",
      "Processing file: ADNI_128_S_1242_MR_MPR__GradWarp__N3__Scaled_Br_20090126165647083_S25934_I134505.nii\n",
      "Processing file: ADNI_128_S_1242_MR_MPR__GradWarp__B1_Correction__N3__Scaled_Br_20080215173900195_S37564_I90623.nii\n",
      "Processing file: ADNI_128_S_1242_MR_MPR__GradWarp__B1_Correction__N3__Scaled_Br_20080514110948385_S47329_I105428.nii\n",
      "Processing file: ADNI_037_S_0501_MR_MPR__GradWarp__N3__Scaled_Br_20070910175723423_S35021_I72212.nii\n",
      "Processing file: ADNI_037_S_0501_MR_MPR__GradWarp__N3__Scaled_Br_20071030162417053_S14854_I79773.nii\n",
      "Processing file: ADNI_037_S_0501_MR_MPR-R__GradWarp__N3__Scaled_Br_20080108145618263_S24744_I86797.nii\n",
      "Processing file: ADNI_032_S_0978_MR_MPR____N3__Scaled_Br_20070123201832755_S20184_I37238.nii\n",
      "Processing file: ADNI_032_S_0978_MR_MPR____N3__Scaled_Br_20080116090946819_S44166_I87576.nii\n",
      "Processing file: ADNI_032_S_0978_MR_MPR____N3__Scaled_Br_20070731175544317_S32053_I63437.nii\n",
      "Processing file: ADNI_032_S_0978_MR_MPR____N3__Scaled_2_Br_20081003103926976_S20184_I119112.nii\n",
      "Processing file: ADNI_032_S_0978_MR_MPR____N3__Scaled_2_Br_20081003104051248_S32053_I119113.nii\n",
      "Processing file: ADNI_002_S_0816_MR_MPR__GradWarp__B1_Correction__N3__Scaled_2_Br_20081002102135862_S18402_I118984.nii\n",
      "Processing file: ADNI_002_S_0816_MR_MPR__GradWarp__B1_Correction__N3__Scaled_Br_20070217005829488_S18402_I40731.nii\n",
      "Processing file: ADNI_002_S_0816_MR_MPR__GradWarp__B1_Correction__N3__Scaled_Br_20070717185335251_S29612_I60465.nii\n",
      "Processing file: ADNI_002_S_0816_MR_MPR__GradWarp__B1_Correction__N3__Scaled_Br_20080224131120787_S45030_I92146.nii\n",
      "Processing file: ADNI_029_S_1215_MR_MPR__GradWarp__B1_Correction__N3__Scaled_Br_20070718151927704_S25348_I60746.nii\n",
      "Processing file: ADNI_029_S_1215_MR_MPR__GradWarp__B1_Correction__N3__Scaled_Br_20080224145607229_S45648_I92296.nii\n",
      "Processing file: ADNI_029_S_1215_MR_MPR__GradWarp__B1_Correction__N3__Scaled_Br_20071027180025492_S38887_I78921.nii\n",
      "Processing file: ADNI_018_S_0055_MR_MPR____N3__Scaled_Br_20071229181121821_S10371_I86354.nii\n",
      "Processing file: ADNI_018_S_0055_MR_MPR____N3__Scaled_Br_20070101205429579_S16960_I34979.nii\n",
      "Processing file: ADNI_018_S_0055_MR_MPR____N3__Scaled_Br_20070818114427309_S27187_I68428.nii\n",
      "Processing file: ADNI_018_S_0055_MR_MPR____N3__Scaled_2_Br_20081001150640983_S10371_I118831.nii\n",
      "Processing file: ADNI_018_S_0055_MR_MPR____N3__Scaled_2_Br_20081008152513256_S16960_I119795.nii\n",
      "Processing file: ADNI_018_S_0055_MR_MPR____N3__Scaled_2_Br_20081001150816534_S27187_I118833.nii\n",
      "Processing file: ADNI_123_S_0050_MR_MPR____N3__Scaled_Br_20070731191526816_S15358_I63526.nii\n",
      "Processing file: ADNI_123_S_0050_MR_MPR____N3__Scaled_Br_20070802214257605_S10053_I64390.nii\n",
      "Processing file: ADNI_123_S_0050_MR_MPR____N3__Scaled_2_Br_20081006153034540_S15358_I119271.nii\n",
      "Processing file: ADNI_123_S_0050_MR_MPR____N3__Scaled_2_Br_20081006152911752_S10053_I119270.nii\n",
      "Processing file: ADNI_123_S_0050_MR_MPR-R____N3__Scaled_2_Br_20081006153158354_S23638_I119272.nii\n",
      "Processing file: ADNI_123_S_0050_MR_MPR-R____N3__Scaled_Br_20070809210824587_S23638_I66664.nii\n",
      "Processing file: ADNI_037_S_1421_MR_MPR__GradWarp__N3__Scaled_Br_20080229173131514_S45956_I94525.nii\n",
      "Processing file: ADNI_037_S_1421_MR_MPR__GradWarp__N3__Scaled_Br_20081017074700979_S56560_I121637.nii\n",
      "Processing file: ADNI_037_S_1421_MR_MPR__GradWarp__N3__Scaled_Br_20071031140454958_S38602_I79948.nii\n",
      "Processing file: ADNI_133_S_0727_MR_MPR-R__GradWarp__B1_Correction__N3__Scaled_2_Br_20081007155649642_S18620_I119534.nii\n",
      "Processing file: ADNI_133_S_0727_MR_MPR__GradWarp__B1_Correction__N3__Scaled_2_Br_20081007155948890_S28176_I119537.nii\n",
      "Processing file: ADNI_133_S_0727_MR_MPR__GradWarp__B1_Correction__N3__Scaled_2_Br_20081007160145422_S39528_I119539.nii\n",
      "Processing file: ADNI_133_S_0727_MR_MPR-R__GradWarp__B1_Correction__N3__Scaled_Br_20070809142438339_S18620_I66356.nii\n",
      "Processing file: ADNI_133_S_0727_MR_MPR__GradWarp__B1_Correction__N3__Scaled_Br_20070801191948432_S28176_I63810.nii\n",
      "Processing file: ADNI_133_S_0727_MR_MPR__GradWarp__B1_Correction__N3__Scaled_Br_20080215174341360_S39528_I90632.nii\n",
      "Processing file: ADNI_137_S_1426_MR_MPR-R__GradWarp__N3__Scaled_Br_20071028132128065_S39052_I79102.nii\n",
      "Processing file: ADNI_137_S_1426_MR_MPR-R__GradWarp__N3__Scaled_Br_20081110165205628_S58135_I125941.nii\n",
      "Processing file: ADNI_137_S_1426_MR_MPR-R__GradWarp__N3__Scaled_Br_20080422180144003_S48599_I103514.nii\n",
      "Processing file: ADNI_141_S_0851_MR_MPR-R__GradWarp__B1_Correction__N3__Scaled_Br_20071110130910139_S41581_I81508.nii\n",
      "Processing file: ADNI_141_S_0851_MR_MPR__GradWarp__B1_Correction__N3__Scaled_Br_20070403112721109_S19364_I47870.nii\n",
      "Processing file: ADNI_141_S_0851_MR_MPR__GradWarp__B1_Correction__N3__Scaled_Br_20080206165313189_S31669_I89678.nii\n",
      "Processing file: ADNI_006_S_0498_MR_MPR-R__GradWarp__B1_Correction__N3__Scaled_Br_20070605122045523_S19763_I55943.nii\n",
      "Processing file: ADNI_006_S_0498_MR_MPR__GradWarp__B1_Correction__N3__Scaled_Br_20071115083602888_S39971_I82105.nii\n",
      "Processing file: ADNI_006_S_0498_MR_MPR__GradWarp__B1_Correction__N3__Scaled_Br_20070605120544724_S28000_I55930.nii\n",
      "Processing file: ADNI_027_S_0417_MR_MPR-R__GradWarp__B1_Correction__N3__Scaled_Br_20061222202441161_S14373_I34226.nii\n",
      "Processing file: ADNI_027_S_0417_MR_MPR-R__GradWarp__B1_Correction__N3__Scaled_Br_20080207173235404_S32650_I89943.nii\n",
      "Processing file: ADNI_027_S_0417_MR_MPR__GradWarp__B1_Correction__N3__Scaled_Br_20070330083227127_S23525_I47514.nii\n",
      "Processing file: ADNI_136_S_0195_MR_MPR__GradWarp__B1_Correction__N3__Scaled_2_Br_20081008133619048_S19599_I119722.nii\n",
      "Processing file: ADNI_136_S_0195_MR_MPR__GradWarp__B1_Correction__N3__Scaled_2_Br_20081008133424993_S12523_I119720.nii\n",
      "Processing file: ADNI_136_S_0195_MR_MPR-R__GradWarp__B1_Correction__N3__Scaled_Br_20071111131504425_S29004_I81596.nii\n",
      "Processing file: ADNI_136_S_0195_MR_MPR__GradWarp__B1_Correction__N3__Scaled_Br_20080220162408455_S19599_I91201.nii\n",
      "Processing file: ADNI_136_S_0195_MR_MPR__GradWarp__B1_Correction__N3__Scaled_Br_20070215232522388_S12523_I40452.nii\n",
      "Processing file: ADNI_062_S_0768_MR_MPR__GradWarp__B1_Correction__N3__Scaled_Br_20070424122235198_S17527_I50506.nii\n",
      "Processing file: ADNI_062_S_0768_MR_MPR__GradWarp__B1_Correction__N3__Scaled_Br_20070424123020344_S26437_I50515.nii\n",
      "Processing file: ADNI_062_S_0768_MR_MPR__GradWarp__B1_Correction__N3__Scaled_Br_20071101180944293_S40134_I80276.nii\n",
      "Processing file: ADNI_032_S_0187_MR_MPR____N3__Scaled_Br_20070812131232786_S27853_I67114.nii\n",
      "Processing file: ADNI_032_S_0187_MR_MPR____N3__Scaled_2_Br_20081003100639285_S27853_I119082.nii\n",
      "Processing file: ADNI_032_S_0187_MR_MPR-R____N3__Scaled_2_Br_20081003100515321_S18900_I119081.nii\n",
      "Processing file: ADNI_032_S_0187_MR_MPR-R____N3__Scaled_2_Br_20081003100351181_S11617_I119080.nii\n",
      "Processing file: ADNI_032_S_0187_MR_MPR-R____N3__Scaled_Br_20071115122507954_S18900_I82290.nii\n",
      "Processing file: ADNI_032_S_0187_MR_MPR-R____N3__Scaled_Br_20070123194533661_S11617_I37217.nii\n",
      "Processing file: ADNI_036_S_1135_MR_MPR__GradWarp__B1_Correction__N3__Scaled_Br_20080124115141379_S44366_I88279.nii\n",
      "Processing file: ADNI_036_S_1135_MR_MPR__GradWarp__B1_Correction__N3__Scaled_Br_20070923140239972_S34563_I74721.nii\n",
      "Processing file: ADNI_036_S_1135_MR_MPR__GradWarp__B1_Correction__N3__Scaled_Br_20070806144313368_S24501_I65109.nii\n",
      "Processing file: ADNI_022_S_0544_MR_MPR-R__GradWarp__B1_Correction__N3__Scaled_Br_20070821182241599_S23957_I69606.nii\n",
      "Processing file: ADNI_022_S_0544_MR_MPR__GradWarp__B1_Correction__N3__Scaled_Br_20070804141253074_S14679_I64672.nii\n",
      "Processing file: ADNI_022_S_0544_MR_MPR__GradWarp__B1_Correction__N3__Scaled_Br_20071002182720478_S34494_I76631.nii\n",
      "Processing file: ADNI_100_S_0047_MR_MPR____N3__Scaled_Br_20070808193825173_S23672_I66106.nii\n",
      "Processing file: ADNI_100_S_0047_MR_MPR____N3__Scaled_Br_20061213162249774_S15402_I33089.nii\n",
      "Processing file: ADNI_100_S_0047_MR_MPR-R____N3__Scaled_Br_20061213161755301_S10215_I33086.nii\n",
      "Processing file: ADNI_021_S_0231_MR_MPR__GradWarp__N3__Scaled_Br_20061217132926455_S18786_I33465.nii\n",
      "Processing file: ADNI_021_S_0231_MR_MPR__GradWarp__N3__Scaled_Br_20070816120042598_S28705_I67969.nii\n",
      "Processing file: ADNI_021_S_0231_MR_MPR-R__GradWarp__N3__Scaled_Br_20061217142113223_S11835_I33493.nii\n",
      "Processing file: ADNI_018_S_0142_MR_MPR____N3__Scaled_Br_20070101212601695_S18255_I34999.nii\n",
      "Processing file: ADNI_018_S_0142_MR_MPR____N3__Scaled_Br_20070119225705049_S10989_I36886.nii\n",
      "Processing file: ADNI_018_S_0142_MR_MPR____N3__Scaled_Br_20070808162912804_S26622_I65938.nii\n",
      "Processing file: ADNI_018_S_0142_MR_MPR____N3__Scaled_2_Br_20081008152926640_S18255_I119799.nii\n",
      "Processing file: ADNI_018_S_0142_MR_MPR____N3__Scaled_2_Br_20081001135757649_S10989_I118792.nii\n",
      "Processing file: ADNI_018_S_0142_MR_MPR____N3__Scaled_2_Br_20081001140158356_S26622_I118797.nii\n",
      "Processing file: ADNI_123_S_0113_MR_MPR____N3__Scaled_Br_20070807115111682_S18842_I65483.nii\n",
      "Processing file: ADNI_123_S_0113_MR_MPR____N3__Scaled_Br_20070731194237767_S12020_I63551.nii\n",
      "Processing file: ADNI_123_S_0113_MR_MPR____N3__Scaled_Br_20070809214629027_S27824_I66692.nii\n",
      "Processing file: ADNI_123_S_0113_MR_MPR____N3__Scaled_2_Br_20081006160530035_S18842_I119323.nii\n",
      "Processing file: ADNI_123_S_0113_MR_MPR____N3__Scaled_2_Br_20081006160411385_S12020_I119322.nii\n",
      "Processing file: ADNI_123_S_0113_MR_MPR____N3__Scaled_2_Br_20081006160649946_S27824_I119324.nii\n",
      "Processing file: ADNI_002_S_0954_MR_MPR-R__GradWarp__B1_Correction__N3__Scaled_2_Br_20081001120143792_S19979_I118688.nii\n",
      "Processing file: ADNI_002_S_0954_MR_MPR-R__GradWarp__B1_Correction__N3__Scaled_Br_20070217011938920_S19979_I40744.nii\n",
      "Processing file: ADNI_002_S_0954_MR_MPR__GradWarp__B1_Correction__N3__Scaled_Br_20080107130134981_S41498_I86634.nii\n",
      "Processing file: ADNI_002_S_0954_MR_MPR__GradWarp__B1_Correction__N3__Scaled_Br_20070727125558261_S31734_I62368.nii\n",
      "Processing file: ADNI_031_S_1209_MR_MPR__GradWarp__N3__Scaled_Br_20080220104815714_S36403_I90934.nii\n",
      "Processing file: ADNI_031_S_1209_MR_MPR__GradWarp__N3__Scaled_Br_20080224134323424_S45587_I92194.nii\n",
      "Processing file: ADNI_031_S_1209_MR_MPR__GradWarp__N3__Scaled_Br_20070813153725713_S25028_I67441.nii\n",
      "Processing file: ADNI_109_S_1343_MR_MPR__GradWarp__B1_Correction__N3__Scaled_Br_20070808202954660_S28820_I66176.nii\n",
      "Processing file: ADNI_109_S_1343_MR_MPR__GradWarp__B1_Correction__N3__Scaled_Br_20080307105932368_S41789_I95679.nii\n",
      "Processing file: ADNI_109_S_1343_MR_MPR__GradWarp__B1_Correction__N3__Scaled_Br_20080514115642090_S49500_I105465.nii\n",
      "Processing file: ADNI_009_S_0862_MR_MPR__GradWarp__N3__Scaled_Br_20081016092132040_S19358_I121228.nii\n",
      "Processing file: ADNI_009_S_0862_MR_MPR__GradWarp__N3__Scaled_Br_20081016185334930_S50553_I121591.nii\n",
      "Processing file: ADNI_009_S_0862_MR_MPR__GradWarp__N3__Scaled_Br_20070926181050051_S29424_I75401.nii\n",
      "Processing file: ADNI_141_S_0915_MR_MPR-R__GradWarp__B1_Correction__N3__Scaled_Br_20071219173436442_S42828_I85683.nii\n",
      "Processing file: ADNI_141_S_0915_MR_MPR__GradWarp__B1_Correction__N3__Scaled_Br_20071027110852857_S33555_I78645.nii\n",
      "Processing file: ADNI_141_S_0915_MR_MPR__GradWarp__B1_Correction__N3__Scaled_Br_20070411121151917_S22748_I48563.nii\n",
      "Processing file: ADNI_031_S_0321_MR_MPR__GradWarp__N3__Scaled_Br_20070802180309226_S30061_I64109.nii\n",
      "Processing file: ADNI_031_S_0321_MR_MPR__GradWarp__N3__Scaled_Br_20070807095006196_S21843_I65390.nii\n",
      "Processing file: ADNI_031_S_0321_MR_MPR__GradWarp__N3__Scaled_Br_20070807093706127_S12365_I65383.nii\n",
      "Processing file: ADNI_099_S_0060_MR_MPR__GradWarp__B1_Correction__N3__Scaled_Br_20070403121736126_S24972_I47907.nii\n",
      "Processing file: ADNI_099_S_0060_MR_MPR__GradWarp__B1_Correction__N3__Scaled_Br_20070110232355304_S10478_I35833.nii\n",
      "Processing file: ADNI_099_S_0060_MR_MPR__GradWarp__B1_Correction__N3__Scaled_Br_20061228133922399_S17136_I34502.nii\n",
      "Processing file: ADNI_109_S_1114_MR_MPR__GradWarp__B1_Correction__N3__Scaled_2_Br_20081006131209986_S24702_I119263.nii\n",
      "Processing file: ADNI_109_S_1114_MR_MPR__GradWarp__B1_Correction__N3__Scaled_Br_20080225181734584_S44985_I92577.nii\n",
      "Processing file: ADNI_109_S_1114_MR_MPR__GradWarp__B1_Correction__N3__Scaled_Br_20070731184633088_S24702_I63489.nii\n",
      "Processing file: ADNI_109_S_1114_MR_MPR__GradWarp__B1_Correction__N3__Scaled_Br_20070913164348429_S36644_I73191.nii\n",
      "Processing file: ADNI_031_S_1066_MR_MPR__GradWarp__N3__Scaled_Br_20070813152400650_S22389_I67434.nii\n",
      "Processing file: ADNI_031_S_1066_MR_MPR__GradWarp__N3__Scaled_Br_20070904201315550_S32862_I71516.nii\n",
      "Processing file: ADNI_031_S_1066_MR_MPR-R__GradWarp__N3__Scaled_Br_20080111142224026_S44059_I87098.nii\n",
      "Processing file: ADNI_027_S_1277_MR_MPR__GradWarp__B1_Correction__N3__Scaled_Br_20071028200059346_S38653_I79205.nii\n",
      "Processing file: ADNI_027_S_1277_MR_MPR__GradWarp__B1_Correction__N3__Scaled_Br_20080229161324581_S45870_I94467.nii\n",
      "Processing file: ADNI_027_S_1277_MR_MPR__GradWarp__B1_Correction__N3__Scaled_Br_20070328083825155_S26408_I47278.nii\n",
      "Processing file: ADNI_020_S_0097_MR_MPR__GradWarp__B1_Correction__N3__Scaled_Br_20070802170349114_S10858_I64046.nii\n",
      "Processing file: ADNI_020_S_0097_MR_MPR__GradWarp__B1_Correction__N3__Scaled_Br_20070718115913168_S28105_I60594.nii\n",
      "Processing file: ADNI_020_S_0097_MR_MPR__GradWarp__B1_Correction__N3__Scaled_Br_20071002181016103_S19065_I76606.nii\n",
      "Processing file: ADNI_073_S_0909_MR_MPR__GradWarp__B1_Correction__N3__Scaled_2_Br_20081006105609648_S19716_I119235.nii\n",
      "Processing file: ADNI_073_S_0909_MR_MPR-R__GradWarp__B1_Correction__N3__Scaled_Br_20070927081403638_S35068_I75498.nii\n",
      "Processing file: ADNI_073_S_0909_MR_MPR__GradWarp__B1_Correction__N3__Scaled_Br_20071219132901636_S42926_I85576.nii\n",
      "Processing file: ADNI_073_S_0909_MR_MPR__GradWarp__B1_Correction__N3__Scaled_Br_20070927080608817_S19716_I75485.nii\n",
      "Processing file: ADNI_141_S_1052_MR_MPR__GradWarp__B1_Correction__N3__Scaled_Br_20080320175949138_S35178_I99145.nii\n",
      "Processing file: ADNI_141_S_1052_MR_MPR__GradWarp__B1_Correction__N3__Scaled_Br_20070402174139992_S22923_I47722.nii\n",
      "Processing file: ADNI_141_S_1052_MR_MPR__GradWarp__B1_Correction__N3__Scaled_Br_20081016175452142_S51307_I121561.nii\n",
      "Processing file: ADNI_127_S_0393_MR_MPR-R__GradWarp__B1_Correction__N3__Scaled_Br_20061227151115107_S13200_I34393.nii\n",
      "Processing file: ADNI_127_S_0393_MR_MPR__GradWarp__B1_Correction__N3__Scaled_Br_20070731200343876_S33202_I63574.nii\n",
      "Processing file: ADNI_127_S_0393_MR_MPR__GradWarp__B1_Correction__N3__Scaled_Br_20080123092007904_S22874_I88086.nii\n",
      "Processing file: ADNI_013_S_0240_MR_MPR-R__GradWarp__B1_Correction__N3__Scaled_Br_20070426090948082_S12308_I51151.nii\n",
      "Processing file: ADNI_013_S_0240_MR_MPR__GradWarp__B1_Correction__N3__Scaled_Br_20070828103755280_S29656_I70648.nii\n",
      "Processing file: ADNI_013_S_0240_MR_MPR__GradWarp__B1_Correction__N3__Scaled_Br_20070731164949931_S22107_I63374.nii\n",
      "Processing file: ADNI_130_S_0783_MR_MPR__GradWarp__B1_Correction__N3__Scaled_Br_20070807121616010_S28139_I65498.nii\n",
      "Processing file: ADNI_130_S_0783_MR_MPR__GradWarp__B1_Correction__N3__Scaled_Br_20070210211809149_S18023_I39152.nii\n",
      "Processing file: ADNI_130_S_0783_MR_MPR__GradWarp__B1_Correction__N3__Scaled_Br_20080602084123441_S46496_I107916.nii\n",
      "Processing file: ADNI_067_S_0098_MR_MPR__GradWarp__B1_Correction__N3__Scaled_2_Br_20081006093113409_S11324_I119209.nii\n",
      "Processing file: ADNI_067_S_0098_MR_MPR__GradWarp__B1_Correction__N3__Scaled_Br_20070807173620841_S29383_I65707.nii\n",
      "Processing file: ADNI_067_S_0098_MR_MPR__GradWarp__B1_Correction__N3__Scaled_Br_20070111013448257_S11324_I35920.nii\n",
      "Processing file: ADNI_067_S_0098_MR_MPR__GradWarp__B1_Correction__N3__Scaled_Br_20070807172643583_S24918_I65694.nii\n",
      "Processing file: ADNI_027_S_1213_MR_MPR-R__GradWarp__B1_Correction__N3__Scaled_Br_20080229160238156_S44650_I94453.nii\n",
      "Processing file: ADNI_027_S_1213_MR_MPR-R__GradWarp__B1_Correction__N3__Scaled_Br_20070327164604315_S25492_I47223.nii\n",
      "Processing file: ADNI_027_S_1213_MR_MPR__GradWarp__B1_Correction__N3__Scaled_Br_20070913155847931_S35523_I73101.nii\n",
      "Processing file: ADNI_109_S_1183_MR_MPR__GradWarp__B1_Correction__N3__Scaled_2_Br_20081006131405973_S24718_I119266.nii\n",
      "Processing file: ADNI_109_S_1183_MR_MPR-R__GradWarp__B1_Correction__N3__Scaled_Br_20081110174548407_S58159_I125949.nii\n",
      "Processing file: ADNI_109_S_1183_MR_MPR-R__GradWarp__B1_Correction__N3__Scaled_Br_20080224144052919_S44976_I92273.nii\n",
      "Processing file: ADNI_109_S_1183_MR_MPR__GradWarp__B1_Correction__N3__Scaled_Br_20070808202317972_S24718_I66167.nii\n",
      "Processing file: ADNI_137_S_0825_MR_MPR__GradWarp__N3__Scaled_Br_20071119104118096_S41988_I82721.nii\n",
      "Processing file: ADNI_137_S_0825_MR_MPR__GradWarp__N3__Scaled_Br_20070306183604457_S19451_I43048.nii\n",
      "Processing file: ADNI_137_S_0825_MR_MPR__GradWarp__N3__Scaled_Br_20070809161554107_S30443_I66443.nii\n",
      "Processing file: ADNI_100_S_0015_MR_MPR____N3__Scaled_Br_20061213153414025_S13657_I33049.nii\n",
      "Processing file: ADNI_100_S_0015_MR_MPR____N3__Scaled_Br_20070808192237770_S20317_I66087.nii\n",
      "Processing file: ADNI_100_S_0015_MR_MPR-R____N3__Scaled_Br_20061213154536487_S9246_I33066.nii\n",
      "Processing file: ADNI_141_S_0982_MR_MPR__GradWarp__B1_Correction__N3__Scaled_Br_20070402171730196_S22644_I47703.nii\n",
      "Processing file: ADNI_141_S_0982_MR_MPR__GradWarp__B1_Correction__N3__Scaled_Br_20080220170835731_S33549_I91271.nii\n",
      "Processing file: ADNI_141_S_0982_MR_MPR__GradWarp__B1_Correction__N3__Scaled_Br_20080220171317412_S42653_I91294.nii\n",
      "Processing file: ADNI_126_S_0709_MR_MPR-R__GradWarp__B1_Correction__N3__Scaled_Br_20070412183657579_S26483_I48954.nii\n",
      "Processing file: ADNI_126_S_0709_MR_MPR__GradWarp__B1_Correction__N3__Scaled_Br_20070922103918486_S37403_I74487.nii\n",
      "Processing file: ADNI_126_S_0709_MR_MPR__GradWarp__B1_Correction__N3__Scaled_Br_20070209201247502_S17326_I38964.nii\n",
      "Processing file: ADNI_067_S_0038_MR_MPR-R__GradWarp__B1_Correction__N3__Scaled_2_Br_20081003155336285_S15846_I119183.nii\n",
      "Processing file: ADNI_067_S_0038_MR_MPR__GradWarp__B1_Correction__N3__Scaled_2_Br_20081003155253465_S10026_I119182.nii\n",
      "Processing file: ADNI_067_S_0038_MR_MPR-R__GradWarp__B1_Correction__N3__Scaled_Br_20070319182030969_S15846_I45250.nii\n",
      "Processing file: ADNI_067_S_0038_MR_MPR__GradWarp__B1_Correction__N3__Scaled_Br_20070111003037819_S10026_I35875.nii\n",
      "Processing file: ADNI_067_S_0038_MR_MPR__GradWarp__B1_Correction__N3__Scaled_Br_20070802195619455_S23553_I64260.nii\n",
      "Processing file: ADNI_016_S_1117_MR_MPR__GradWarp__B1_Correction__N3__Scaled_Br_20070322173101235_S23327_I46384.nii\n",
      "Processing file: ADNI_016_S_1117_MR_MPR__GradWarp__B1_Correction__N3__Scaled_Br_20080220095509697_S44122_I90857.nii\n",
      "Processing file: ADNI_016_S_1117_MR_MPR__GradWarp__B1_Correction__N3__Scaled_Br_20071027142142120_S41507_I78832.nii\n",
      "Processing file: ADNI_133_S_0638_MR_MPR__GradWarp__B1_Correction__N3__Scaled_2_Br_20081007154546255_S16608_I119527.nii\n",
      "Processing file: ADNI_133_S_0638_MR_MPR__GradWarp__B1_Correction__N3__Scaled_2_Br_20081007155147430_S27348_I119529.nii\n",
      "Processing file: ADNI_133_S_0638_MR_MPR__GradWarp__B1_Correction__N3__Scaled_2_Br_20081007155452275_S39021_I119532.nii\n",
      "Processing file: ADNI_133_S_0638_MR_MPR__GradWarp__B1_Correction__N3__Scaled_Br_20070813172348807_S16608_I67531.nii\n",
      "Processing file: ADNI_133_S_0638_MR_MPR__GradWarp__B1_Correction__N3__Scaled_Br_20071111124207561_S27348_I81551.nii\n",
      "Processing file: ADNI_133_S_0638_MR_MPR__GradWarp__B1_Correction__N3__Scaled_Br_20071028122213506_S39021_I79053.nii\n",
      "Processing file: ADNI_094_S_0692_MR_MPR-R__GradWarp__B1_Correction__N3__Scaled_Br_20070921172506621_S37638_I74367.nii\n",
      "Processing file: ADNI_094_S_0692_MR_MPR__GradWarp__B1_Correction__N3__Scaled_Br_20070815102935564_S25274_I67729.nii\n",
      "Processing file: ADNI_094_S_0692_MR_MPR__GradWarp__B1_Correction__N3__Scaled_Br_20070328090417409_S17207_I47295.nii\n",
      "Processing file: ADNI_136_S_0874_MR_MPR__GradWarp__B1_Correction__N3__Scaled_Br_20071219172136053_S42871_I85659.nii\n",
      "Processing file: ADNI_136_S_0874_MR_MPR__GradWarp__B1_Correction__N3__Scaled_Br_20070215224044149_S22234_I40419.nii\n",
      "Processing file: ADNI_136_S_0874_MR_MPR__GradWarp__B1_Correction__N3__Scaled_Br_20070809235812963_S33049_I66815.nii\n",
      "Processing file: ADNI_941_S_1311_MR_MPR-R__GradWarp__B1_Correction__N3__Scaled_Br_20080313131733540_S40710_I97341.nii\n",
      "Processing file: ADNI_941_S_1311_MR_MPR__GradWarp__B1_Correction__N3__Scaled_Br_20080703170241434_S51039_I112538.nii\n",
      "Processing file: ADNI_941_S_1311_MR_MPR__GradWarp__B1_Correction__N3__Scaled_Br_20080313130949784_S27408_I97327.nii\n",
      "Processing file: ADNI_136_S_0873_MR_MPR__GradWarp__N3__Scaled_Br_20080307185908451_S19616_I96178.nii\n",
      "Processing file: ADNI_136_S_0873_MR_MPR-R__GradWarp__B1_Correction__N3__Scaled_Br_20080207111056104_S30555_I89821.nii\n",
      "Processing file: ADNI_136_S_0873_MR_MPR__GradWarp__N3__Scaled_2_Br_20081008135000633_S19616_I119737.nii\n",
      "Processing file: ADNI_136_S_0873_MR_MPR__GradWarp__B1_Correction__N3__Scaled_Br_20080123104442046_S41982_I88174.nii\n",
      "Processing file: ADNI_127_S_1427_MR_MPR__GradWarp__B1_Correction__N3__Scaled_Br_20081017081958558_S56227_I121689.nii\n",
      "Processing file: ADNI_127_S_1427_MR_MPR__GradWarp__B1_Correction__N3__Scaled_Br_20080220144226399_S37933_I91126.nii\n",
      "Processing file: ADNI_127_S_1427_MR_MPR__GradWarp__B1_Correction__N3__Scaled_Br_20080321144641514_S46021_I99191.nii\n",
      "Processing file: ADNI_137_S_0669_MR_MPR__GradWarp__N3__Scaled_Br_20070808215314178_S27107_I66241.nii\n",
      "Processing file: ADNI_137_S_0669_MR_MPR__GradWarp__N3__Scaled_Br_20070306175457295_S17100_I43009.nii\n",
      "Processing file: ADNI_137_S_0669_MR_MPR-R__GradWarp__N3__Scaled_Br_20070925113851336_S38408_I75128.nii\n",
      "Processing file: ADNI_032_S_0677_MR_MPR____N3__Scaled_Br_20070123200558482_S16051_I37228.nii\n",
      "Processing file: ADNI_032_S_0677_MR_MPR____N3__Scaled_Br_20071115122830692_S35508_I82294.nii\n",
      "Processing file: ADNI_032_S_0677_MR_MPR____N3__Scaled_Br_20080308130817593_S26669_I96293.nii\n",
      "Processing file: ADNI_032_S_0677_MR_MPR____N3__Scaled_2_Br_20081003103049630_S16051_I119102.nii\n",
      "Processing file: ADNI_032_S_0677_MR_MPR____N3__Scaled_2_Br_20081003103356239_S35508_I119104.nii\n",
      "Processing file: ADNI_032_S_0677_MR_MPR____N3__Scaled_2_Br_20081003103227182_S26669_I119103.nii\n",
      "Processing file: ADNI_100_S_0069_MR_MPR____N3__Scaled_Br_20061213163828351_S10563_I33105.nii\n",
      "Processing file: ADNI_100_S_0069_MR_MPR____N3__Scaled_Br_20070727122312731_S24911_I62336.nii\n",
      "Processing file: ADNI_100_S_0069_MR_MPR____N3__Scaled_Br_20061213163045919_S17213_I33094.nii\n",
      "Processing file: ADNI_031_S_0568_MR_MPR__GradWarp__N3__Scaled_Br_20070805151519193_S14833_I64922.nii\n",
      "Processing file: ADNI_031_S_0568_MR_MPR-R__GradWarp__N3__Scaled_Br_20070904200910090_S33359_I71512.nii\n",
      "Processing file: ADNI_031_S_0568_MR_MPR-R__GradWarp__N3__Scaled_Br_20070806132107428_S23625_I65041.nii\n",
      "Processing file: ADNI_141_S_0767_MR_MPR-R__GradWarp__B1_Correction__N3__Scaled_Br_20070328092102686_S18337_I47306.nii\n",
      "Processing file: ADNI_141_S_0767_MR_MPR-R__GradWarp__B1_Correction__N3__Scaled_Br_20081022121223841_S27492_I122712.nii\n",
      "Processing file: ADNI_141_S_0767_MR_MPR__GradWarp__B1_Correction__N3__Scaled_Br_20081103132129218_S47749_I124940.nii\n",
      "Processing file: ADNI_020_S_0213_MR_MPR__GradWarp__B1_Correction__N3__Scaled_Br_20070718120158728_S12386_I60600.nii\n",
      "Processing file: ADNI_020_S_0213_MR_MPR__GradWarp__B1_Correction__N3__Scaled_Br_20070718120657794_S22879_I60609.nii\n",
      "Processing file: ADNI_020_S_0213_MR_MPR__GradWarp__B1_Correction__N3__Scaled_Br_20070904192424909_S33112_I71454.nii\n",
      "Processing file: ADNI_013_S_1186_MR_MPR__GradWarp__B1_Correction__N3__Scaled_Br_20080221164023025_S45473_I91441.nii\n",
      "Processing file: ADNI_013_S_1186_MR_MPR__GradWarp__B1_Correction__N3__Scaled_Br_20070727183243035_S25689_I62656.nii\n",
      "Processing file: ADNI_013_S_1186_MR_MPR__GradWarp__B1_Correction__N3__Scaled_Br_20070918120820290_S36951_I73557.nii\n",
      "Processing file: ADNI_009_S_0842_MR_MPR__GradWarp__N3__Scaled_Br_20080206154637186_S18870_I89575.nii\n",
      "Processing file: ADNI_009_S_0842_MR_MPR__GradWarp__N3__Scaled_Br_20070926110901658_S29594_I75284.nii\n",
      "Processing file: ADNI_009_S_0842_MR_MPR-R__GradWarp__N3__Scaled_Br_20081016184942250_S50547_I121587.nii\n",
      "Processing file: ADNI_128_S_1148_MR_MPR-R__GradWarp__B1_Correction__N3__Scaled_Br_20070819184744473_S24199_I69113.nii\n",
      "Processing file: ADNI_128_S_1148_MR_MPR__GradWarp__B1_Correction__N3__Scaled_Br_20070821112739593_S34485_I69381.nii\n",
      "Processing file: ADNI_128_S_1148_MR_MPR__GradWarp__B1_Correction__N3__Scaled_Br_20080225183429564_S44726_I92602.nii\n",
      "Processing file: ADNI_073_S_0311_MR_MPR__GradWarp__B1_Correction__N3__Scaled_2_Br_20081006105223653_S15069_I119229.nii\n",
      "Processing file: ADNI_073_S_0311_MR_MPR-R__GradWarp__B1_Correction__N3__Scaled_Br_20081016162411577_S26281_I121456.nii\n",
      "Processing file: ADNI_073_S_0311_MR_MPR__GradWarp__B1_Correction__N3__Scaled_Br_20070213203125567_S15069_I39868.nii\n",
      "Processing file: ADNI_073_S_0311_MR_MPR__GradWarp__B1_Correction__N3__Scaled_Br_20071101183747509_S41733_I80317.nii\n",
      "Processing file: ADNI_123_S_0390_MR_MPR____N3__Scaled_Br_20070809222018812_S31708_I66717.nii\n",
      "Processing file: ADNI_123_S_0390_MR_MPR____N3__Scaled_Br_20070809221335090_S22989_I66712.nii\n",
      "Processing file: ADNI_123_S_0390_MR_MPR____N3__Scaled_Br_20070802222719446_S13099_I64430.nii\n",
      "Processing file: ADNI_123_S_0390_MR_MPR____N3__Scaled_2_Br_20081006161846130_S31708_I119333.nii\n",
      "Processing file: ADNI_123_S_0390_MR_MPR____N3__Scaled_2_Br_20081006161725830_S22989_I119332.nii\n",
      "Processing file: ADNI_123_S_0390_MR_MPR____N3__Scaled_2_Br_20081006161606452_S13099_I119331.nii\n",
      "Processing file: ADNI_128_S_0863_MR_MPR__GradWarp__B1_Correction__N3__Scaled_2_Br_20081007101325128_S19272_I119408.nii\n",
      "Processing file: ADNI_128_S_0863_MR_MPR__GradWarp__B1_Correction__N3__Scaled_Br_20080318145032239_S19272_I98875.nii\n",
      "Processing file: ADNI_128_S_0863_MR_MPR__GradWarp__B1_Correction__N3__Scaled_Br_20080207171412302_S41651_I89910.nii\n",
      "Processing file: ADNI_128_S_0863_MR_MPR__GradWarp__B1_Correction__N3__Scaled_Br_20071028120532943_S29526_I79035.nii\n",
      "Processing file: ADNI_053_S_1044_MR_MPR-R__GradWarp__B1_Correction__N3__Scaled_2_Br_20081003142251021_S21256_I119175.nii\n",
      "Processing file: ADNI_053_S_1044_MR_MPR__GradWarp__B1_Correction__N3__Scaled_2_Br_20081003142344986_S33449_I119176.nii\n",
      "Processing file: ADNI_053_S_1044_MR_MPR__GradWarp__B1_Correction__N3__Scaled_2_Br_20081003142437913_S42960_I119177.nii\n",
      "Processing file: ADNI_053_S_1044_MR_MPR-R__GradWarp__B1_Correction__N3__Scaled_Br_20070802192148921_S21256_I64203.nii\n",
      "Processing file: ADNI_053_S_1044_MR_MPR__GradWarp__B1_Correction__N3__Scaled_Br_20070910183941166_S33449_I72269.nii\n",
      "Processing file: ADNI_053_S_1044_MR_MPR__GradWarp__B1_Correction__N3__Scaled_Br_20080414092546702_S42960_I102405.nii\n",
      "Processing file: ADNI_067_S_0019_MR_MPR__GradWarp__B1_Correction__N3__Scaled_2_Br_20081003155009078_S9539_I119178.nii\n",
      "Processing file: ADNI_067_S_0019_MR_MPR__GradWarp__B1_Correction__N3__Scaled_2_Br_20081003155050047_S15464_I119179.nii\n",
      "Processing file: ADNI_067_S_0019_MR_MPR__GradWarp__B1_Correction__N3__Scaled_Br_20070319180308737_S9539_I45228.nii\n",
      "Processing file: ADNI_067_S_0019_MR_MPR__GradWarp__B1_Correction__N3__Scaled_Br_20061229164134061_S15464_I34761.nii\n",
      "Processing file: ADNI_067_S_0019_MR_MPR__GradWarp__B1_Correction__N3__Scaled_Br_20070802195025948_S23697_I64251.nii\n",
      "Processing file: ADNI_041_S_0598_MR_MPR-R__GradWarp__B1_Correction__N3__Scaled_Br_20070806160533620_S25724_I65179.nii\n",
      "Processing file: ADNI_041_S_0598_MR_MPR-R__GradWarp__B1_Correction__N3__Scaled_Br_20071031141847950_S39217_I79977.nii\n",
      "Processing file: ADNI_041_S_0598_MR_MPR__GradWarp__B1_Correction__N3__Scaled_Br_20070214000432776_S15604_I40037.nii\n",
      "Processing file: ADNI_021_S_0642_MR_MPR__GradWarp__N3__Scaled_Br_20070818121348803_S25532_I68456.nii\n",
      "Processing file: ADNI_021_S_0642_MR_MPR__GradWarp__N3__Scaled_Br_20061217130526879_S15935_I33452.nii\n",
      "Processing file: ADNI_021_S_0642_MR_MPR-R__GradWarp__N3__Scaled_Br_20070816134707102_S35279_I68067.nii\n",
      "Processing file: ADNI_018_S_0155_MR_MPR____N3__Scaled_Br_20070812125450013_S28709_I67097.nii\n",
      "Processing file: ADNI_018_S_0155_MR_MPR____N3__Scaled_Br_20070119230259800_S11767_I36892.nii\n",
      "Processing file: ADNI_018_S_0155_MR_MPR____N3__Scaled_Br_20070101213348106_S19212_I35004.nii\n",
      "Processing file: ADNI_018_S_0155_MR_MPR____N3__Scaled_2_Br_20081001135647749_S28709_I118791.nii\n",
      "Processing file: ADNI_018_S_0155_MR_MPR____N3__Scaled_2_Br_20081001135448954_S11767_I118789.nii\n",
      "Processing file: ADNI_018_S_0155_MR_MPR____N3__Scaled_2_Br_20081008153026892_S19212_I119800.nii\n",
      "Processing file: ADNI_100_S_0296_MR_MPR____N3__Scaled_Br_20071103130616430_S29945_I80659.nii\n",
      "Processing file: ADNI_100_S_0296_MR_MPR____N3__Scaled_Br_20070727122916306_S20894_I62341.nii\n",
      "Processing file: ADNI_100_S_0296_MR_MPR-R____N3__Scaled_Br_20061213170304861_S12814_I33121.nii\n",
      "Processing file: ADNI_067_S_0284_MR_MPR-R__GradWarp__B1_Correction__N3__Scaled_2_Br_20081003160624047_S12439_I119199.nii\n",
      "Processing file: ADNI_067_S_0284_MR_MPR-R__GradWarp__B1_Correction__N3__Scaled_Br_20061229182633894_S12439_I34837.nii\n",
      "Processing file: ADNI_067_S_0284_MR_MPR__GradWarp__B1_Correction__N3__Scaled_Br_20070802201940636_S22965_I64296.nii\n",
      "Processing file: ADNI_067_S_0284_MR_MPR__GradWarp__B1_Correction__N3__Scaled_Br_20071221160811145_S31676_I85977.nii\n",
      "Processing file: ADNI_033_S_1309_MR_MPR__GradWarp__B1_Correction__N3__Scaled_Br_20070426181345627_S26195_I51605.nii\n",
      "Processing file: ADNI_033_S_1309_MR_MPR__GradWarp__B1_Correction__N3__Scaled_Br_20080318135248488_S46327_I98795.nii\n",
      "Processing file: ADNI_033_S_1309_MR_MPR__GradWarp__B1_Correction__N3__Scaled_Br_20071028102024425_S39276_I78960.nii\n",
      "Processing file: ADNI_018_S_0369_MR_MPR____N3__Scaled_Br_20071115090302781_S37384_I82152.nii\n",
      "Processing file: ADNI_018_S_0369_MR_MPR____N3__Scaled_Br_20070123185416090_S12613_I37194.nii\n",
      "Processing file: ADNI_018_S_0369_MR_MPR____N3__Scaled_2_Br_20081001134646611_S37384_I118775.nii\n",
      "Processing file: ADNI_018_S_0369_MR_MPR____N3__Scaled_2_Br_20081001133823173_S12613_I118772.nii\n",
      "Processing file: ADNI_018_S_0369_MR_MPR-R____N3__Scaled_2_Br_20081001134054148_S21216_I118774.nii\n",
      "Processing file: ADNI_018_S_0369_MR_MPR-R____N3__Scaled_Br_20070821181746124_S21216_I69599.nii\n",
      "Processing file: ADNI_099_S_0880_MR_MPR-R__GradWarp__B1_Correction__N3__Scaled_Br_20081015151627164_S43444_I121085.nii\n",
      "Processing file: ADNI_099_S_0880_MR_MPR__GradWarp__B1_Correction__N3__Scaled_Br_20070818141710385_S19744_I68581.nii\n",
      "Processing file: ADNI_099_S_0880_MR_MPR__GradWarp__B1_Correction__N3__Scaled_Br_20070818142303460_S30547_I68590.nii\n",
      "Processing file: ADNI_022_S_0750_MR_MPR__GradWarp__B1_Correction__N3__Scaled_Br_20070712155703378_S17695_I59552.nii\n",
      "Processing file: ADNI_022_S_0750_MR_MPR__GradWarp__B1_Correction__N3__Scaled_Br_20070712160153161_S27713_I59561.nii\n",
      "Processing file: ADNI_022_S_0750_MR_MPR__GradWarp__B1_Correction__N3__Scaled_Br_20070913153444646_S36738_I73057.nii\n",
      "Processing file: ADNI_032_S_1101_MR_MPR____N3__Scaled_Br_20070806133321549_S32613_I65047.nii\n",
      "Processing file: ADNI_032_S_1101_MR_MPR____N3__Scaled_Br_20070731180142730_S22783_I63442.nii\n",
      "Processing file: ADNI_032_S_1101_MR_MPR____N3__Scaled_Br_20080313102712215_S43471_I97066.nii\n",
      "Processing file: ADNI_032_S_1101_MR_MPR____N3__Scaled_2_Br_20081003104631043_S32613_I119117.nii\n",
      "Processing file: ADNI_032_S_1101_MR_MPR____N3__Scaled_2_Br_20081003104506735_S22783_I119116.nii\n",
      "Processing file: ADNI_013_S_0860_MR_MPR-R__GradWarp__B1_Correction__N3__Scaled_Br_20071027141429221_S40055_I78818.nii\n",
      "Processing file: ADNI_013_S_0860_MR_MPR__GradWarp__B1_Correction__N3__Scaled_Br_20070426173344229_S19237_I51533.nii\n",
      "Processing file: ADNI_013_S_0860_MR_MPR__GradWarp__B1_Correction__N3__Scaled_Br_20070904182147431_S29690_I71361.nii\n",
      "Processing file: ADNI_057_S_1265_MR_MPR-R__GradWarp__B1_Correction__N3__Scaled_Br_20080307184621051_S45699_I96145.nii\n",
      "Processing file: ADNI_057_S_1265_MR_MPR__GradWarp__B1_Correction__N3__Scaled_Br_20070925104329829_S38168_I75073.nii\n",
      "Processing file: ADNI_057_S_1265_MR_MPR__GradWarp__B1_Correction__N3__Scaled_Br_20070821151644968_S25872_I69492.nii\n",
      "Processing file: ADNI_005_S_0448_MR_MPR__GradWarp__B1_Correction__N3__Scaled_Br_20061212165540546_S14032_I32875.nii\n",
      "Processing file: ADNI_005_S_0448_MR_MPR__GradWarp__B1_Correction__N3__Scaled_Br_20070910170000323_S34996_I72141.nii\n",
      "Processing file: ADNI_005_S_0448_MR_MPR__GradWarp__B1_Correction__N3__Scaled_Br_20070816101335340_S22540_I67876.nii\n",
      "Processing file: ADNI_100_S_0035_MR_MPR____N3__Scaled_Br_20061213155906774_S9959_I33074.nii\n",
      "Processing file: ADNI_100_S_0035_MR_MPR____N3__Scaled_Br_20070808192755978_S23278_I66092.nii\n",
      "Processing file: ADNI_100_S_0035_MR_MPR____N3__Scaled_Br_20061213160703710_S15318_I33079.nii\n",
      "Processing file: ADNI_072_S_0315_MR_MPR____N3__Scaled_Br_20071118114016148_S22707_I82537.nii\n",
      "Processing file: ADNI_072_S_0315_MR_MPR____N3__Scaled_Br_20070828134247958_S32161_I70789.nii\n",
      "Processing file: ADNI_072_S_0315_MR_MPR____N3__Scaled_Br_20071229191129752_S12549_I86438.nii\n",
      "Processing file: ADNI_072_S_0315_MR_MPR____N3__Scaled_2_Br_20081006101054514_S22707_I119222.nii\n",
      "Processing file: ADNI_072_S_0315_MR_MPR____N3__Scaled_2_Br_20081006101154854_S32161_I119223.nii\n",
      "Processing file: ADNI_072_S_0315_MR_MPR____N3__Scaled_2_Br_20081006100947440_S12549_I119221.nii\n",
      "Processing file: ADNI_133_S_0629_MR_MPR-R__GradWarp__B1_Correction__N3__Scaled_2_Br_20081007153837873_S15915_I119520.nii\n",
      "Processing file: ADNI_133_S_0629_MR_MPR__GradWarp__B1_Correction__N3__Scaled_2_Br_20081007154038300_S25789_I119522.nii\n",
      "Processing file: ADNI_133_S_0629_MR_MPR__GradWarp__B1_Correction__N3__Scaled_2_Br_20081007154239409_S36337_I119524.nii\n",
      "Processing file: ADNI_133_S_0629_MR_MPR-R__GradWarp__B1_Correction__N3__Scaled_Br_20070219171645270_S15915_I40954.nii\n",
      "Processing file: ADNI_133_S_0629_MR_MPR__GradWarp__B1_Correction__N3__Scaled_Br_20070425180950016_S25789_I51050.nii\n",
      "Processing file: ADNI_133_S_0629_MR_MPR__GradWarp__B1_Correction__N3__Scaled_Br_20080225192705988_S36337_I92705.nii\n",
      "Processing file: ADNI_013_S_1120_MR_MPR__GradWarp__B1_Correction__N3__Scaled_Br_20080113120006185_S44284_I87231.nii\n",
      "Processing file: ADNI_013_S_1120_MR_MPR__GradWarp__B1_Correction__N3__Scaled_Br_20070426171701271_S22815_I51494.nii\n",
      "Processing file: ADNI_013_S_1120_MR_MPR__GradWarp__B1_Correction__N3__Scaled_Br_20070904183648339_S33144_I71386.nii\n",
      "Processing file: ADNI_012_S_1321_MR_MPR____N3__Scaled_Br_20090313150851203_S47355_I138909.nii\n",
      "Processing file: ADNI_012_S_1321_MR_MPR____N3__Scaled_Br_20080224141528877_S39627_I92238.nii\n",
      "Processing file: ADNI_012_S_1321_MR_MPR____N3__Scaled_Br_20070731164421634_S26933_I63367.nii\n",
      "Processing file: ADNI_012_S_1321_MR_MPR____N3__Scaled_2_Br_20081001125622173_S26933_I118745.nii\n",
      "Processing file: ADNI_130_S_0956_MR_MPR__GradWarp__B1_Correction__N3__Scaled_Br_20071119102524483_S42129_I82691.nii\n",
      "Processing file: ADNI_130_S_0956_MR_MPR__GradWarp__B1_Correction__N3__Scaled_Br_20070210221002388_S20667_I39185.nii\n",
      "Processing file: ADNI_130_S_0956_MR_MPR__GradWarp__B1_Correction__N3__Scaled_Br_20070801175358435_S29748_I63725.nii\n",
      "Processing file: ADNI_130_S_0969_MR_MPR-R__GradWarp__B1_Correction__N3__Scaled_Br_20070801180732088_S31840_I63738.nii\n",
      "Processing file: ADNI_130_S_0969_MR_MPR-R__GradWarp__B1_Correction__N3__Scaled_Br_20070211000635226_S20385_I39275.nii\n",
      "Processing file: ADNI_130_S_0969_MR_MPR__GradWarp__B1_Correction__N3__Scaled_Br_20071221162236762_S42733_I86004.nii\n",
      "Processing file: ADNI_068_S_0872_MR_MPR____N3__Scaled_Br_20080409161948984_S46636_I101744.nii\n",
      "Processing file: ADNI_068_S_0872_MR_MPR____N3__Scaled_Br_20070911112250624_S33621_I72469.nii\n",
      "Processing file: ADNI_068_S_0872_MR_MPR____N3__Scaled_Br_20090402095655479_S20977_I140335.nii\n",
      "Processing file: ADNI_068_S_0872_MR_MPR____N3__Scaled_2_Br_20081212153853676_S33621_I130250.nii\n",
      "Processing file: ADNI_018_S_0087_MR_MPR____N3__Scaled_Br_20070818114925515_S26199_I68433.nii\n",
      "Processing file: ADNI_018_S_0087_MR_MPR____N3__Scaled_Br_20070118010954116_S10687_I36504.nii\n",
      "Processing file: ADNI_018_S_0087_MR_MPR____N3__Scaled_Br_20070101211011712_S18064_I34989.nii\n",
      "Processing file: ADNI_018_S_0087_MR_MPR____N3__Scaled_2_Br_20081001145937692_S26199_I118824.nii\n",
      "Processing file: ADNI_018_S_0087_MR_MPR____N3__Scaled_2_Br_20081001151240791_S10687_I118838.nii\n",
      "Processing file: ADNI_018_S_0087_MR_MPR____N3__Scaled_2_Br_20081008152718002_S18064_I119797.nii\n",
      "Processing file: ADNI_141_S_1137_MR_MPR__GradWarp__B1_Correction__N3__Scaled_Br_20080520101821090_S49443_I106232.nii\n",
      "Processing file: ADNI_141_S_1137_MR_MPR__GradWarp__B1_Correction__N3__Scaled_Br_20070411122437840_S24301_I48581.nii\n",
      "Processing file: ADNI_141_S_1137_MR_MPR__GradWarp__B1_Correction__N3__Scaled_Br_20080225094539188_S34530_I92415.nii\n",
      "Processing file: ADNI_136_S_0579_MR_MPR__GradWarp__B1_Correction__N3__Scaled_2_Br_20081008134713186_S15952_I119734.nii\n",
      "Processing file: ADNI_136_S_0579_MR_MPR-R__GradWarp__B1_Correction__N3__Scaled_Br_20070810180746061_S24877_I67010.nii\n",
      "Processing file: ADNI_136_S_0579_MR_MPR__GradWarp__B1_Correction__N3__Scaled_Br_20070215222551779_S15952_I40410.nii\n",
      "Processing file: ADNI_136_S_0579_MR_MPR__GradWarp__B1_Correction__N3__Scaled_Br_20070810181240221_S33995_I67015.nii\n",
      "Processing file: ADNI_018_S_0080_MR_MPR____N3__Scaled_Br_20080124144345215_S10722_I88356.nii\n",
      "Processing file: ADNI_018_S_0080_MR_MPR____N3__Scaled_Br_20071027170811553_S16656_I78850.nii\n",
      "Processing file: ADNI_018_S_0080_MR_MPR____N3__Scaled_Br_20070821181307557_S24963_I69594.nii\n",
      "Processing file: ADNI_018_S_0080_MR_MPR____N3__Scaled_2_Br_20081001150046859_S10722_I118825.nii\n",
      "Processing file: ADNI_018_S_0080_MR_MPR____N3__Scaled_2_Br_20081001150150334_S16656_I118826.nii\n",
      "Processing file: ADNI_018_S_0080_MR_MPR____N3__Scaled_2_Br_20081001150253547_S24963_I118827.nii\n",
      "Processing file: ADNI_062_S_1099_MR_MPR-R__GradWarp__B1_Correction__N3__Scaled_Br_20080111161152621_S43573_I87145.nii\n",
      "Processing file: ADNI_062_S_1099_MR_MPR__GradWarp__B1_Correction__N3__Scaled_Br_20070424130119480_S22713_I50557.nii\n",
      "Processing file: ADNI_062_S_1099_MR_MPR__GradWarp__B1_Correction__N3__Scaled_Br_20070910190618994_S33161_I72315.nii\n",
      "Processing file: ADNI_012_S_0720_MR_MPR____N3__Scaled_Br_20070927073748413_S38152_I75443.nii\n",
      "Processing file: ADNI_012_S_0720_MR_MPR____N3__Scaled_Br_20070828103515277_S26750_I70645.nii\n",
      "Processing file: ADNI_012_S_0720_MR_MPR____N3__Scaled_Br_20080225174150688_S17682_I92529.nii\n",
      "Processing file: ADNI_012_S_0720_MR_MPR____N3__Scaled_2_Br_20081001131822544_S38152_I118759.nii\n",
      "Processing file: ADNI_012_S_0720_MR_MPR____N3__Scaled_2_Br_20081001125506362_S26750_I118744.nii\n",
      "Processing file: ADNI_012_S_0720_MR_MPR____N3__Scaled_2_Br_20081001123253253_S17682_I118714.nii\n",
      "Processing file: ADNI_114_S_0410_MR_MPR-R__GradWarp__B1_Correction__N3__Scaled_Br_20070818143756485_S30133_I68613.nii\n",
      "Processing file: ADNI_114_S_0410_MR_MPR__GradWarp__B1_Correction__N3__Scaled_Br_20070213192831089_S13289_I39824.nii\n",
      "Processing file: ADNI_114_S_0410_MR_MPR__GradWarp__B1_Correction__N3__Scaled_Br_20070420163711355_S23195_I49897.nii\n",
      "Processing file: ADNI_037_S_0588_MR_MPR__GradWarp__N3__Scaled_Br_20071030172005902_S23602_I79824.nii\n",
      "Processing file: ADNI_037_S_0588_MR_MPR__GradWarp__N3__Scaled_Br_20080124121209397_S43876_I88302.nii\n",
      "Processing file: ADNI_037_S_0588_MR_MPR__GradWarp__N3__Scaled_Br_20070904205918131_S34406_I71592.nii\n",
      "Processing file: ADNI_011_S_0856_MR_MPR__GradWarp__B1_Correction__N3__Scaled_Br_20071027135419476_S40766_I78778.nii\n",
      "Processing file: ADNI_011_S_0856_MR_MPR__GradWarp__B1_Correction__N3__Scaled_Br_20070812124817899_S29108_I67088.nii\n",
      "Processing file: ADNI_011_S_0856_MR_MPR__GradWarp__B1_Correction__N3__Scaled_Br_20080205162614078_S19031_I89408.nii\n",
      "Processing file: ADNI_141_S_1152_MR_MPR-R__GradWarp__B1_Correction__N3__Scaled_Br_20080410142945285_S45464_I102067.nii\n",
      "Processing file: ADNI_141_S_1152_MR_MPR__GradWarp__B1_Correction__N3__Scaled_Br_20070411123107490_S24487_I48590.nii\n",
      "Processing file: ADNI_141_S_1152_MR_MPR__GradWarp__B1_Correction__N3__Scaled_Br_20071029115026838_S36918_I79410.nii\n",
      "Processing file: ADNI_052_S_1168_MR_MPR__GradWarp__B1_Correction__N3__Scaled_Br_20070910183241150_S33879_I72260.nii\n",
      "Processing file: ADNI_052_S_1168_MR_MPR__GradWarp__B1_Correction__N3__Scaled_Br_20080108152230245_S44080_I86837.nii\n",
      "Processing file: ADNI_052_S_1168_MR_MPR__GradWarp__B1_Correction__N3__Scaled_Br_20070807165239568_S23688_I65667.nii\n",
      "Processing file: ADNI_023_S_0078_MR_MPR-R__GradWarp__B1_Correction__N3__Scaled_2_Br_20081001153036948_S10619_I118861.nii\n",
      "Processing file: ADNI_023_S_0078_MR_MPR-R__GradWarp__B1_Correction__N3__Scaled_2_Br_20081001153353830_S16779_I118865.nii\n",
      "Processing file: ADNI_023_S_0078_MR_MPR__GradWarp__B1_Correction__N3__Scaled_2_Br_20081001153432788_S24894_I118866.nii\n",
      "Processing file: ADNI_023_S_0078_MR_MPR-R__GradWarp__B1_Correction__N3__Scaled_Br_20070427190117586_S10619_I51999.nii\n",
      "Processing file: ADNI_023_S_0078_MR_MPR-R__GradWarp__B1_Correction__N3__Scaled_Br_20071029181834378_S16779_I79545.nii\n",
      "Processing file: ADNI_023_S_0078_MR_MPR__GradWarp__B1_Correction__N3__Scaled_Br_20070427190425428_S24894_I52004.nii\n",
      "Processing file: ADNI_018_S_0682_MR_MPR____N3__Scaled_Br_20070808165106608_S25847_I65971.nii\n",
      "Processing file: ADNI_018_S_0682_MR_MPR____N3__Scaled_Br_20070101224115510_S16293_I35044.nii\n",
      "Processing file: ADNI_018_S_0682_MR_MPR____N3__Scaled_Br_20070808165455666_S36663_I65975.nii\n",
      "Processing file: ADNI_018_S_0682_MR_MPR____N3__Scaled_2_Br_20081001132350412_S25847_I118761.nii\n",
      "Processing file: ADNI_018_S_0682_MR_MPR____N3__Scaled_2_Br_20081008153234434_S16293_I119802.nii\n",
      "Processing file: ADNI_126_S_0606_MR_MPR-R__GradWarp__B1_Correction__N3__Scaled_Br_20070209193129753_S17191_I38918.nii\n",
      "Processing file: ADNI_126_S_0606_MR_MPR-R__GradWarp__B1_Correction__N3__Scaled_Br_20071219174857978_S36749_I85706.nii\n",
      "Processing file: ADNI_126_S_0606_MR_MPR__GradWarp__B1_Correction__N3__Scaled_Br_20070412180926838_S25770_I48923.nii\n",
      "Processing file: ADNI_109_S_1014_MR_MPR__GradWarp__B1_Correction__N3__Scaled_2_Br_20081006131248552_S24818_I119264.nii\n",
      "Processing file: ADNI_109_S_1014_MR_MPR-R__GradWarp__B1_Correction__N3__Scaled_Br_20080422174444509_S48859_I103489.nii\n",
      "Processing file: ADNI_109_S_1014_MR_MPR__GradWarp__B1_Correction__N3__Scaled_Br_20081110162832712_S58145_I125920.nii\n",
      "Processing file: ADNI_109_S_1014_MR_MPR__GradWarp__B1_Correction__N3__Scaled_Br_20070731183949113_S24818_I63479.nii\n",
      "Processing file: ADNI_036_S_0576_MR_MPR-R__GradWarp__B1_Correction__N3__Scaled_Br_20070904202106492_S33120_I71527.nii\n",
      "Processing file: ADNI_036_S_0576_MR_MPR__GradWarp__B1_Correction__N3__Scaled_Br_20070818131325990_S23419_I68513.nii\n",
      "Processing file: ADNI_036_S_0576_MR_MPR__GradWarp__B1_Correction__N3__Scaled_Br_20070119231729321_S15156_I36903.nii\n",
      "Processing file: ADNI_094_S_0531_MR_MPR-R__GradWarp__B1_Correction__N3__Scaled_Br_20070419143036172_S14554_I49666.nii\n",
      "Processing file: ADNI_094_S_0531_MR_MPR__GradWarp__B1_Correction__N3__Scaled_Br_20081022122210557_S28436_I122726.nii\n",
      "Processing file: ADNI_094_S_0531_MR_MPR__GradWarp__B1_Correction__N3__Scaled_Br_20070912172120806_S34041_I72783.nii\n",
      "Processing file: ADNI_094_S_1417_MR_MPR__GradWarp__B1_Correction__N3__Scaled_Br_20080225180527515_S45332_I92559.nii\n",
      "Processing file: ADNI_094_S_1417_MR_MPR__GradWarp__B1_Correction__N3__Scaled_Br_20070918132710540_S35043_I73647.nii\n",
      "Processing file: ADNI_094_S_1417_MR_MPR__GradWarp__B1_Correction__N3__Scaled_Br_20081017080612397_S55486_I121671.nii\n",
      "Processing file: ADNI_007_S_0414_MR_MPR__GradWarp__B1_Correction__N3__Scaled_2_Br_20081001121055087_S14826_I118698.nii\n",
      "Processing file: ADNI_007_S_0414_MR_MPR__GradWarp__B1_Correction__N3__Scaled_Br_20070118033636200_S23039_I36589.nii\n",
      "Processing file: ADNI_007_S_0414_MR_MPR__GradWarp__B1_Correction__N3__Scaled_Br_20070118035313135_S14826_I36599.nii\n",
      "Processing file: ADNI_007_S_0414_MR_MPR__GradWarp__B1_Correction__N3__Scaled_Br_20070805130222226_S33540_I64782.nii\n",
      "Processing file: ADNI_007_S_0070_MR_MPR-R__GradWarp__B1_Correction__N3__Scaled_2_Br_20081002102314762_S18818_I118986.nii\n",
      "Processing file: ADNI_007_S_0070_MR_MPR-R__GradWarp__B1_Correction__N3__Scaled_2_Br_20081001115943531_S10950_I118686.nii\n",
      "Processing file: ADNI_007_S_0070_MR_MPR-R__GradWarp__B1_Correction__N3__Scaled_Br_20070118014059657_S18818_I36523.nii\n",
      "Processing file: ADNI_007_S_0070_MR_MPR-R__GradWarp__B1_Correction__N3__Scaled_Br_20070118043705519_S10950_I36628.nii\n",
      "Processing file: ADNI_007_S_0070_MR_MPR__GradWarp__B1_Correction__N3__Scaled_Br_20070713102039796_S28289_I59835.nii\n",
      "Processing file: ADNI_010_S_0067_MR_MPR____N3__Scaled_Br_20080308121553394_S10344_I96211.nii\n",
      "Processing file: ADNI_010_S_0067_MR_MPR____N3__Scaled_Br_20070828102413728_S25341_I70630.nii\n",
      "Processing file: ADNI_010_S_0067_MR_MPR____N3__Scaled_2_Br_20081001114835460_S10344_I118674.nii\n",
      "Processing file: ADNI_010_S_0067_MR_MPR____N3__Scaled_2_Br_20081001122414391_S25341_I118706.nii\n",
      "Processing file: ADNI_010_S_0067_MR_MPR-R____N3__Scaled_2_Br_20081002101858306_S17808_I118981.nii\n",
      "Processing file: ADNI_010_S_0067_MR_MPR-R____N3__Scaled_Br_20070807151408143_S17808_I65577.nii\n",
      "Processing file: ADNI_018_S_0043_MR_MPR____N3__Scaled_Br_20070101204848684_S17699_I34975.nii\n",
      "Processing file: ADNI_018_S_0043_MR_MPR____N3__Scaled_Br_20070118005318572_S10493_I36485.nii\n",
      "Processing file: ADNI_018_S_0043_MR_MPR____N3__Scaled_Br_20070808161505098_S25956_I65926.nii\n",
      "Processing file: ADNI_018_S_0043_MR_MPR____N3__Scaled_2_Br_20081008152408223_S17699_I119794.nii\n",
      "Processing file: ADNI_018_S_0043_MR_MPR____N3__Scaled_2_Br_20081010112340605_S10493_I120056.nii\n",
      "Processing file: ADNI_018_S_0043_MR_MPR____N3__Scaled_2_Br_20081002103555879_S25956_I118996.nii\n",
      "Processing file: ADNI_041_S_0282_MR_MPR__GradWarp__B1_Correction__N3__Scaled_Br_20080520095303972_S26159_I106213.nii\n",
      "Processing file: ADNI_041_S_0282_MR_MPR__GradWarp__B1_Correction__N3__Scaled_Br_20070212210357565_S13496_I39486.nii\n",
      "Processing file: ADNI_041_S_0282_MR_MPR__GradWarp__B1_Correction__N3__Scaled_Br_20080117112807761_S31953_I87726.nii\n",
      "Processing file: ADNI_082_S_0928_MR_MPR-R__GradWarp__B1_Correction__N3__Scaled_2_Br_20081006113825892_S19648_I119246.nii\n",
      "Processing file: ADNI_082_S_0928_MR_MPR-R__GradWarp__B1_Correction__N3__Scaled_Br_20071101190224758_S41395_I80356.nii\n",
      "Processing file: ADNI_082_S_0928_MR_MPR-R__GradWarp__B1_Correction__N3__Scaled_Br_20071101185433890_S41422_I80343.nii\n",
      "Processing file: ADNI_082_S_0928_MR_MPR-R__GradWarp__B1_Correction__N3__Scaled_Br_20070213190145935_S19648_I39805.nii\n",
      "Processing file: ADNI_012_S_1033_MR_MPR____N3__Scaled_Br_20070923133618907_S32761_I74674.nii\n",
      "Processing file: ADNI_012_S_1033_MR_MPR____N3__Scaled_Br_20080224145258532_S43384_I92291.nii\n",
      "Processing file: ADNI_012_S_1033_MR_MPR____N3__Scaled_Br_20070711170547643_S22635_I59219.nii\n",
      "Processing file: ADNI_012_S_1033_MR_MPR____N3__Scaled_2_Br_20081001130117821_S32761_I118749.nii\n",
      "Processing file: ADNI_012_S_1033_MR_MPR____N3__Scaled_2_Br_20081001123718428_S22635_I118718.nii\n",
      "Processing file: ADNI_051_S_1072_MR_MPR__GradWarp__B1_Correction__N3__Scaled_Br_20070628164947026_S22884_I58011.nii\n",
      "Processing file: ADNI_051_S_1072_MR_MPR__GradWarp__B1_Correction__N3__Scaled_Br_20080111143230372_S43798_I87111.nii\n",
      "Processing file: ADNI_051_S_1072_MR_MPR__GradWarp__B1_Correction__N3__Scaled_Br_20070904212535995_S34435_I71633.nii\n",
      "Processing file: ADNI_016_S_1028_MR_MPR-R__GradWarp__B1_Correction__N3__Scaled_Br_20071027105857806_S36287_I78631.nii\n",
      "Processing file: ADNI_016_S_1028_MR_MPR__GradWarp__B1_Correction__N3__Scaled_Br_20070217023802197_S22058_I40799.nii\n",
      "Processing file: ADNI_016_S_1028_MR_MPR__GradWarp__B1_Correction__N3__Scaled_Br_20071221153947612_S43207_I85925.nii\n",
      "Processing file: ADNI_013_S_0325_MR_MPR__GradWarp__B1_Correction__N3__Scaled_Br_20070923134900081_S24902_I74694.nii\n",
      "Processing file: ADNI_013_S_0325_MR_MPR__GradWarp__B1_Correction__N3__Scaled_Br_20070923135329729_S33529_I74703.nii\n",
      "Processing file: ADNI_013_S_0325_MR_MPR__GradWarp__B1_Correction__N3__Scaled_Br_20070517130132929_S13524_I54665.nii\n",
      "Processing file: ADNI_094_S_1027_MR_MPR-R__GradWarp__B1_Correction__N3__Scaled_Br_20070418084102408_S21207_I49527.nii\n",
      "Processing file: ADNI_094_S_1027_MR_MPR-R__GradWarp__B1_Correction__N3__Scaled_Br_20080220135429027_S42880_I91029.nii\n",
      "Processing file: ADNI_094_S_1027_MR_MPR-R__GradWarp__B1_Correction__N3__Scaled_Br_20080220134707189_S32272_I91020.nii\n",
      "Processing file: ADNI_011_S_0022_MR_MPR-R__GradWarp__B1_Correction__N3__Scaled_Br_20070808155135676_S20820_I65883.nii\n",
      "Processing file: ADNI_011_S_0022_MR_MPR-R__GradWarp__B1_Correction__N3__Scaled_Br_20061208150933591_S9617_I32389.nii\n",
      "Processing file: ADNI_011_S_0022_MR_MPR__GradWarp__B1_Correction__N3__Scaled_Br_20061206175453602_S15232_I31979.nii\n",
      "Processing file: ADNI_141_S_0853_MR_MPR__GradWarp__B1_Correction__N3__Scaled_Br_20071110131145215_S39326_I81513.nii\n",
      "Processing file: ADNI_141_S_0853_MR_MPR__GradWarp__B1_Correction__N3__Scaled_Br_20080702153618963_S18348_I112292.nii\n",
      "Processing file: ADNI_141_S_0853_MR_MPR__GradWarp__B1_Correction__N3__Scaled_Br_20071119105418122_S27836_I82748.nii\n",
      "Processing file: ADNI_031_S_0294_MR_MPR__GradWarp__N3__Scaled_Br_20070805150231162_S29640_I64912.nii\n",
      "Processing file: ADNI_031_S_0294_MR_MPR-R__GradWarp__N3__Scaled_Br_20071226134606100_S12243_I86206.nii\n",
      "Processing file: ADNI_031_S_0294_MR_MPR-R__GradWarp__N3__Scaled_Br_20070806130621866_S19660_I65034.nii\n",
      "Processing file: ADNI_010_S_0472_MR_MPR____N3__Scaled_Br_20070727181627156_S22912_I62630.nii\n",
      "Processing file: ADNI_010_S_0472_MR_MPR____N3__Scaled_Br_20071115084323565_S32479_I82115.nii\n",
      "Processing file: ADNI_010_S_0472_MR_MPR____N3__Scaled_Br_20080302132946674_S42849_I94946.nii\n",
      "Processing file: ADNI_010_S_0472_MR_MPR____N3__Scaled_2_Br_20081001121947466_S22912_I118702.nii\n",
      "Processing file: ADNI_114_S_0458_MR_MPR-R__GradWarp__B1_Correction__N3__Scaled_Br_20070213195652327_S14111_I39845.nii\n",
      "Processing file: ADNI_114_S_0458_MR_MPR__GradWarp__B1_Correction__N3__Scaled_Br_20070420163916881_S22982_I49901.nii\n",
      "Processing file: ADNI_114_S_0458_MR_MPR__GradWarp__B1_Correction__N3__Scaled_Br_20080409155243746_S33753_I101700.nii\n",
      "Processing file: ADNI_032_S_0718_MR_MPR____N3__Scaled_Br_20080123085819843_S27611_I88062.nii\n",
      "Processing file: ADNI_032_S_0718_MR_MPR____N3__Scaled_Br_20080125110327390_S37981_I88519.nii\n",
      "Processing file: ADNI_032_S_0718_MR_MPR____N3__Scaled_Br_20070118003212483_S16859_I36474.nii\n",
      "Processing file: ADNI_032_S_0718_MR_MPR____N3__Scaled_2_Br_20081003103632590_S27611_I119110.nii\n",
      "Processing file: ADNI_032_S_0718_MR_MPR____N3__Scaled_2_Br_20081003103802463_S37981_I119111.nii\n",
      "Processing file: ADNI_032_S_0718_MR_MPR____N3__Scaled_2_Br_20081003103508361_S16859_I119105.nii\n",
      "Processing file: ADNI_009_S_1030_MR_MPR__GradWarp__N3__Scaled_Br_20070517121250972_S21823_I54651.nii\n",
      "Processing file: ADNI_009_S_1030_MR_MPR__GradWarp__N3__Scaled_Br_20071127112217373_S42811_I83352.nii\n",
      "Processing file: ADNI_009_S_1030_MR_MPR__GradWarp__N3__Scaled_Br_20071029102712800_S32430_I79302.nii\n",
      "Processing file: ADNI_033_S_0725_MR_MPR__GradWarp__B1_Correction__N3__Scaled_2_Br_20081003121348635_S17092_I119130.nii\n",
      "Processing file: ADNI_033_S_0725_MR_MPR__GradWarp__B1_Correction__N3__Scaled_Br_20071226120228835_S26581_I86166.nii\n",
      "Processing file: ADNI_033_S_0725_MR_MPR__GradWarp__B1_Correction__N3__Scaled_Br_20070303130703791_S17092_I42409.nii\n",
      "Processing file: ADNI_033_S_0725_MR_MPR__GradWarp__B1_Correction__N3__Scaled_Br_20070925102245778_S37283_I75057.nii\n",
      "Processing file: ADNI_031_S_0867_MR_MPR__GradWarp__N3__Scaled_Br_20071029190736876_S40140_I79611.nii\n",
      "Processing file: ADNI_031_S_0867_MR_MPR__GradWarp__N3__Scaled_Br_20070813151048642_S19256_I67423.nii\n",
      "Processing file: ADNI_031_S_0867_MR_MPR__GradWarp__N3__Scaled_Br_20070717191100341_S29633_I60483.nii\n",
      "Processing file: ADNI_133_S_0771_MR_MPR-R__GradWarp__B1_Correction__N3__Scaled_2_Br_20081008093527039_S41411_I119606.nii\n",
      "Processing file: ADNI_133_S_0771_MR_MPR-R__GradWarp__B1_Correction__N3__Scaled_2_Br_20081008093133887_S18575_I119602.nii\n",
      "Processing file: ADNI_133_S_0771_MR_MPR__GradWarp__B1_Correction__N3__Scaled_2_Br_20081008093331018_S29296_I119604.nii\n",
      "Processing file: ADNI_133_S_0771_MR_MPR-R__GradWarp__B1_Correction__N3__Scaled_Br_20080220161456133_S41411_I91189.nii\n",
      "Processing file: ADNI_133_S_0771_MR_MPR-R__GradWarp__B1_Correction__N3__Scaled_Br_20080224144914253_S18575_I92286.nii\n",
      "Processing file: ADNI_133_S_0771_MR_MPR__GradWarp__B1_Correction__N3__Scaled_Br_20070911124904536_S29296_I72556.nii\n",
      "Processing file: ADNI_018_S_0057_MR_MPR____N3__Scaled_Br_20070808162056589_S24908_I65931.nii\n",
      "Processing file: ADNI_018_S_0057_MR_MPR____N3__Scaled_Br_20070101210204220_S18004_I34984.nii\n",
      "Processing file: ADNI_018_S_0057_MR_MPR____N3__Scaled_2_Br_20081001150538284_S24908_I118830.nii\n",
      "Processing file: ADNI_018_S_0057_MR_MPR____N3__Scaled_2_Br_20081008152616868_S18004_I119796.nii\n",
      "Processing file: ADNI_018_S_0057_MR_MPR-R____N3__Scaled_2_Br_20081001150356489_S10209_I118828.nii\n",
      "Processing file: ADNI_018_S_0057_MR_MPR-R____N3__Scaled_Br_20070118010453591_S10209_I36501.nii\n",
      "Processing file: ADNI_100_S_0190_MR_MPR____N3__Scaled_Br_20080307105608937_S31991_I95674.nii\n",
      "Processing file: ADNI_100_S_0190_MR_MPR____N3__Scaled_Br_20061213164423765_S13689_I33109.nii\n",
      "Processing file: ADNI_100_S_0190_MR_MPR____N3__Scaled_Br_20080520091938428_S22677_I106190.nii\n",
      "Processing file: ADNI_022_S_0004_MR_MPR-R__GradWarp__B1_Correction__N3__Scaled_Br_20070804134614900_S9234_I64631.nii\n",
      "Processing file: ADNI_022_S_0004_MR_MPR__GradWarp__B1_Correction__N3__Scaled_Br_20070804134936472_S14969_I64636.nii\n",
      "Processing file: ADNI_022_S_0004_MR_MPR__GradWarp__B1_Correction__N3__Scaled_Br_20070712141301758_S23080_I59357.nii\n",
      "Processing file: ADNI_133_S_0912_MR_MPR__GradWarp__B1_Correction__N3__Scaled_2_Br_20081008095016127_S42205_I119630.nii\n",
      "Processing file: ADNI_133_S_0912_MR_MPR__GradWarp__B1_Correction__N3__Scaled_2_Br_20081008094613870_S19884_I119626.nii\n",
      "Processing file: ADNI_133_S_0912_MR_MPR__GradWarp__B1_Correction__N3__Scaled_2_Br_20081008094920869_S30156_I119629.nii\n",
      "Processing file: ADNI_133_S_0912_MR_MPR__GradWarp__B1_Correction__N3__Scaled_Br_20080123095443852_S42205_I88122.nii\n",
      "Processing file: ADNI_133_S_0912_MR_MPR__GradWarp__B1_Correction__N3__Scaled_Br_20070213230551142_S19884_I40000.nii\n",
      "Processing file: ADNI_133_S_0912_MR_MPR__GradWarp__B1_Correction__N3__Scaled_Br_20070911130214375_S30156_I72565.nii\n",
      "Processing file: ADNI_013_S_1275_MR_MPR-R__GradWarp__B1_Correction__N3__Scaled_Br_20081022120020038_S39583_I122689.nii\n",
      "Processing file: ADNI_013_S_1275_MR_MPR__GradWarp__B1_Correction__N3__Scaled_Br_20080408121721446_S47485_I101380.nii\n",
      "Processing file: ADNI_013_S_1275_MR_MPR__GradWarp__B1_Correction__N3__Scaled_Br_20070727183904208_S27069_I62666.nii\n",
      "Processing file: ADNI_067_S_0176_MR_MPR__GradWarp__B1_Correction__N3__Scaled_2_Br_20081003160348907_S12799_I119195.nii\n",
      "Processing file: ADNI_067_S_0176_MR_MPR__GradWarp__B1_Correction__N3__Scaled_Br_20070805153154145_S24106_I64938.nii\n",
      "Processing file: ADNI_067_S_0176_MR_MPR__GradWarp__B1_Correction__N3__Scaled_Br_20071221160334208_S32619_I85968.nii\n",
      "Processing file: ADNI_067_S_0176_MR_MPR__GradWarp__B1_Correction__N3__Scaled_Br_20061229173207452_S12799_I34797.nii\n",
      "Processing file: ADNI_012_S_0932_MR_MPR____N3__Scaled_Br_20071127112857704_S42499_I83359.nii\n",
      "Processing file: ADNI_012_S_0932_MR_MPR____N3__Scaled_Br_20070923133407728_S31659_I74671.nii\n",
      "Processing file: ADNI_012_S_0932_MR_MPR____N3__Scaled_Br_20070711173123684_S19374_I59255.nii\n",
      "Processing file: ADNI_012_S_0932_MR_MPR____N3__Scaled_2_Br_20081001130002171_S31659_I118748.nii\n",
      "Processing file: ADNI_012_S_0932_MR_MPR____N3__Scaled_2_Br_20081001123400925_S19374_I118715.nii\n",
      "Processing file: ADNI_033_S_0511_MR_MPR__GradWarp__B1_Correction__N3__Scaled_2_Br_20081003120513744_S15101_I119121.nii\n",
      "Processing file: ADNI_033_S_0511_MR_MPR-R__GradWarp__B1_Correction__N3__Scaled_Br_20070812132713403_S33270_I67128.nii\n",
      "Processing file: ADNI_033_S_0511_MR_MPR__GradWarp__B1_Correction__N3__Scaled_Br_20070302151219556_S15101_I42240.nii\n",
      "Processing file: ADNI_033_S_0511_MR_MPR__GradWarp__B1_Correction__N3__Scaled_Br_20070302152925673_S23683_I42249.nii\n",
      "Processing file: ADNI_099_S_0111_MR_MPR-R__GradWarp__B1_Correction__N3__Scaled_Br_20061228140613749_S17993_I34519.nii\n",
      "Processing file: ADNI_099_S_0111_MR_MPR__GradWarp__B1_Correction__N3__Scaled_Br_20070110234851842_S10933_I35849.nii\n",
      "Processing file: ADNI_099_S_0111_MR_MPR__GradWarp__B1_Correction__N3__Scaled_Br_20070418082013021_S25863_I49487.nii\n",
      "Processing file: ADNI_036_S_1240_MR_MPR__GradWarp__B1_Correction__N3__Scaled_Br_20070921164324652_S37612_I74293.nii\n",
      "Processing file: ADNI_036_S_1240_MR_MPR__GradWarp__B1_Correction__N3__Scaled_Br_20080515115856563_S49622_I105750.nii\n",
      "Processing file: ADNI_036_S_1240_MR_MPR__GradWarp__B1_Correction__N3__Scaled_Br_20070806145220578_S26423_I65118.nii\n",
      "Processing file: ADNI_128_S_1043_MR_MPR__GradWarp__B1_Correction__N3__Scaled_2_Br_20081007101437479_S22562_I119410.nii\n",
      "Processing file: ADNI_128_S_1043_MR_MPR__GradWarp__B1_Correction__N3__Scaled_Br_20080207171857181_S43514_I89919.nii\n",
      "Processing file: ADNI_128_S_1043_MR_MPR__GradWarp__B1_Correction__N3__Scaled_Br_20070819183343158_S22562_I69091.nii\n",
      "Processing file: ADNI_128_S_1043_MR_MPR__GradWarp__B1_Correction__N3__Scaled_Br_20070820164711234_S34309_I69278.nii\n",
      "Processing file: ADNI_029_S_0999_MR_MPR-R__GradWarp__B1_Correction__N3__Scaled_Br_20070805144703422_S23248_I64898.nii\n",
      "Processing file: ADNI_029_S_0999_MR_MPR__GradWarp__B1_Correction__N3__Scaled_Br_20071027175334911_S39410_I78912.nii\n",
      "Processing file: ADNI_029_S_0999_MR_MPR__GradWarp__B1_Correction__N3__Scaled_Br_20080408154617402_S47074_I101575.nii\n",
      "Processing file: ADNI_018_S_0450_MR_MPR____N3__Scaled_Br_20071115090650774_S33473_I82157.nii\n",
      "Processing file: ADNI_018_S_0450_MR_MPR____N3__Scaled_Br_20070818115440437_S23669_I68438.nii\n",
      "Processing file: ADNI_018_S_0450_MR_MPR____N3__Scaled_2_Br_20081001133016956_S33473_I118765.nii\n",
      "Processing file: ADNI_018_S_0450_MR_MPR____N3__Scaled_2_Br_20081001132906851_S23669_I118764.nii\n",
      "Processing file: ADNI_018_S_0450_MR_MPR-R____N3__Scaled_2_Br_20081001132757799_S13994_I118763.nii\n",
      "Processing file: ADNI_018_S_0450_MR_MPR-R____N3__Scaled_Br_20070123192028100_S13994_I37206.nii\n",
      "Processing file: ADNI_128_S_1088_MR_MPR-R__GradWarp__B1_Correction__N3__Scaled_Br_20080223182417647_S45402_I91985.nii\n",
      "Processing file: ADNI_128_S_1088_MR_MPR-R__GradWarp__B1_Correction__N3__Scaled_Br_20070819184202735_S23787_I69104.nii\n",
      "Processing file: ADNI_128_S_1088_MR_MPR__GradWarp__B1_Correction__N3__Scaled_Br_20070821195041347_S35269_I69724.nii\n",
      "Processing file: ADNI_132_S_0987_MR_MPR__GradWarp__N3__Scaled_Br_20080529133540708_S50300_I107726.nii\n",
      "Processing file: ADNI_132_S_0987_MR_MPR-R__GradWarp__N3__Scaled_Br_20071125151619058_S41898_I83173.nii\n",
      "Processing file: ADNI_132_S_0987_MR_MPR-R__GradWarp__N3__Scaled_Br_20071125150937353_S28506_I83166.nii\n",
      "Processing file: ADNI_141_S_0852_MR_MPR-R__GradWarp__B1_Correction__N3__Scaled_Br_20080703105900667_S30800_I112461.nii\n",
      "Processing file: ADNI_141_S_0852_MR_MPR-R__GradWarp__B1_Correction__N3__Scaled_Br_20070402180938591_S19395_I47744.nii\n",
      "Processing file: ADNI_141_S_0852_MR_MPR__GradWarp__B1_Correction__N3__Scaled_Br_20080302131842316_S42448_I94926.nii\n",
      "Processing file: ADNI_100_S_0995_MR_MPR____N3__Scaled_Br_20090313151836957_S22114_I138912.nii\n",
      "Processing file: ADNI_100_S_0995_MR_MPR____N3__Scaled_Br_20080220141232645_S32451_I91062.nii\n",
      "Processing file: ADNI_100_S_0995_MR_MPR____N3__Scaled_Br_20080220141719699_S42933_I91078.nii\n",
      "Processing file: ADNI_067_S_0177_MR_MPR__GradWarp__B1_Correction__N3__Scaled_2_Br_20081003160429621_S12187_I119196.nii\n",
      "Processing file: ADNI_067_S_0177_MR_MPR__GradWarp__B1_Correction__N3__Scaled_Br_20061229174432739_S12187_I34806.nii\n",
      "Processing file: ADNI_067_S_0177_MR_MPR__GradWarp__B1_Correction__N3__Scaled_Br_20070802201403780_S30004_I64287.nii\n",
      "Processing file: ADNI_067_S_0177_MR_MPR__GradWarp__B1_Correction__N3__Scaled_Br_20070802200811844_S24447_I64278.nii\n",
      "Processing file: ADNI_133_S_0913_MR_MPR__GradWarp__B1_Correction__N3__Scaled_2_Br_20081008095914066_S44748_I119639.nii\n",
      "Processing file: ADNI_133_S_0913_MR_MPR__GradWarp__B1_Correction__N3__Scaled_2_Br_20081008095421377_S24646_I119634.nii\n",
      "Processing file: ADNI_133_S_0913_MR_MPR__GradWarp__B1_Correction__N3__Scaled_2_Br_20081008095615528_S35319_I119636.nii\n",
      "Processing file: ADNI_133_S_0913_MR_MPR__GradWarp__B1_Correction__N3__Scaled_Br_20080320173317815_S44748_I99113.nii\n",
      "Processing file: ADNI_133_S_0913_MR_MPR__GradWarp__B1_Correction__N3__Scaled_Br_20070801192845987_S24646_I63819.nii\n",
      "Processing file: ADNI_133_S_0913_MR_MPR__GradWarp__B1_Correction__N3__Scaled_Br_20080225185003300_S35319_I92637.nii\n",
      "Processing file: ADNI_141_S_0696_MR_MPR__GradWarp__B1_Correction__N3__Scaled_Br_20070927082553799_S29153_I75512.nii\n",
      "Processing file: ADNI_141_S_0696_MR_MPR__GradWarp__B1_Correction__N3__Scaled_Br_20071119104836717_S18373_I82738.nii\n",
      "Processing file: ADNI_141_S_0696_MR_MPR__GradWarp__B1_Correction__N3__Scaled_Br_20071110125751368_S40962_I81486.nii\n",
      "Processing file: ADNI_027_S_0485_MR_MPR-R__GradWarp__B1_Correction__N3__Scaled_Br_20070828112958155_S32858_I70705.nii\n",
      "Processing file: ADNI_027_S_0485_MR_MPR__GradWarp__B1_Correction__N3__Scaled_Br_20070129174944113_S14208_I37557.nii\n",
      "Processing file: ADNI_027_S_0485_MR_MPR__GradWarp__B1_Correction__N3__Scaled_Br_20070327150458324_S22732_I47159.nii\n",
      "Processing file: ADNI_094_S_1402_MR_MPR-R__GradWarp__B1_Correction__N3__Scaled_Br_20080603180205063_S50488_I108259.nii\n",
      "Processing file: ADNI_094_S_1402_MR_MPR__GradWarp__B1_Correction__N3__Scaled_Br_20070808191131320_S32102_I66078.nii\n",
      "Processing file: ADNI_094_S_1402_MR_MPR__GradWarp__B1_Correction__N3__Scaled_Br_20071219141307116_S42560_I85603.nii\n",
      "Processing file: ADNI_023_S_1126_MR_MPR__GradWarp__B1_Correction__N3__Scaled_2_Br_20081124142926303_S23440_I128366.nii\n",
      "Processing file: ADNI_023_S_1126_MR_MPR__GradWarp__B1_Correction__N3__Scaled_2_Br_20081001155941833_S33781_I118917.nii\n",
      "Processing file: ADNI_023_S_1126_MR_MPR__GradWarp__B1_Correction__N3__Scaled_Br_20070802175445048_S33781_I64100.nii\n",
      "Processing file: ADNI_023_S_1126_MR_MPR__GradWarp__B1_Correction__N3__Scaled_Br_20080111141407076_S43053_I87086.nii\n",
      "Processing file: ADNI_010_S_0904_MR_MPR____N3__Scaled_Br_20070731163807463_S23759_I63357.nii\n",
      "Processing file: ADNI_010_S_0904_MR_MPR____N3__Scaled_Br_20080229151043571_S45322_I94363.nii\n",
      "Processing file: ADNI_010_S_0904_MR_MPR____N3__Scaled_Br_20070904180431983_S33457_I71335.nii\n",
      "Processing file: ADNI_010_S_0904_MR_MPR____N3__Scaled_2_Br_20081001122202254_S23759_I118704.nii\n",
      "Processing file: ADNI_141_S_1255_MR_MPR__GradWarp__B1_Correction__N3__Scaled_Br_20080520095819319_S49437_I106222.nii\n",
      "Processing file: ADNI_141_S_1255_MR_MPR__GradWarp__B1_Correction__N3__Scaled_Br_20070411124635135_S25887_I48608.nii\n",
      "Processing file: ADNI_141_S_1255_MR_MPR__GradWarp__B1_Correction__N3__Scaled_Br_20080515133750933_S49217_I105837.nii\n",
      "Processing file: ADNI_141_S_0717_MR_MPR-R__GradWarp__B1_Correction__N3__Scaled_Br_20070927175206753_S29879_I75691.nii\n",
      "Processing file: ADNI_141_S_0717_MR_MPR-R__GradWarp__B1_Correction__N3__Scaled_Br_20080318145722556_S18413_I98888.nii\n",
      "Processing file: ADNI_141_S_0717_MR_MPR__GradWarp__B1_Correction__N3__Scaled_Br_20080302131359740_S39851_I94917.nii\n",
      "Processing file: ADNI_130_S_1290_MR_MPR-R__GradWarp__B1_Correction__N3__Scaled_Br_20071028121655614_S39041_I79048.nii\n",
      "Processing file: ADNI_130_S_1290_MR_MPR__GradWarp__B1_Correction__N3__Scaled_Br_20080313124422121_S46233_I97264.nii\n",
      "Processing file: ADNI_130_S_1290_MR_MPR__GradWarp__B1_Correction__N3__Scaled_Br_20070801183629045_S26038_I63766.nii\n",
      "Processing file: ADNI_141_S_1094_MR_MPR__GradWarp__B1_Correction__N3__Scaled_Br_20070402175441620_S23294_I47732.nii\n",
      "Processing file: ADNI_141_S_1094_MR_MPR__GradWarp__B1_Correction__N3__Scaled_Br_20080318150008346_S36853_I98893.nii\n",
      "Processing file: ADNI_141_S_1094_MR_MPR__GradWarp__B1_Correction__N3__Scaled_Br_20080602091437544_S50174_I107952.nii\n",
      "Processing file: ADNI_141_S_0726_MR_MPR-R__GradWarp__B1_Correction__N3__Scaled_Br_20080220165644498_S28237_I91248.nii\n",
      "Processing file: ADNI_141_S_0726_MR_MPR__GradWarp__B1_Correction__N3__Scaled_Br_20071219172758637_S42773_I85668.nii\n",
      "Processing file: ADNI_141_S_0726_MR_MPR__GradWarp__B1_Correction__N3__Scaled_Br_20080302105053142_S18354_I94824.nii\n",
      "Processing file: ADNI_052_S_1054_MR_MPR-R__GradWarp__B1_Correction__N3__Scaled_Br_20080108151832232_S43971_I86832.nii\n",
      "Processing file: ADNI_052_S_1054_MR_MPR-R__GradWarp__B1_Correction__N3__Scaled_Br_20070727103957599_S22955_I62234.nii\n",
      "Processing file: ADNI_052_S_1054_MR_MPR__GradWarp__B1_Correction__N3__Scaled_Br_20070910182120022_S33097_I72246.nii\n",
      "Processing file: ADNI_003_S_0908_MR_MPR__GradWarp__B1_Correction__N3__Scaled_Br_20070727175013471_S32516_I62589.nii\n",
      "Processing file: ADNI_003_S_0908_MR_MPR__GradWarp__B1_Correction__N3__Scaled_Br_20070804125725325_S30451_I64562.nii\n",
      "Processing file: ADNI_003_S_0908_MR_MPR__GradWarp__B1_Correction__N3__Scaled_Br_20081015153156378_S46187_I121108.nii\n",
      "Processing file: ADNI_067_S_0607_MR_MPR__GradWarp__B1_Correction__N3__Scaled_2_Br_20081003160916946_S15894_I119203.nii\n",
      "Processing file: ADNI_067_S_0607_MR_MPR__GradWarp__B1_Correction__N3__Scaled_Br_20070111020124287_S15894_I35938.nii\n",
      "Processing file: ADNI_067_S_0607_MR_MPR__GradWarp__B1_Correction__N3__Scaled_Br_20070921171654824_S37340_I74353.nii\n",
      "Processing file: ADNI_067_S_0607_MR_MPR__GradWarp__B1_Correction__N3__Scaled_Br_20070802203736408_S28111_I64323.nii\n",
      "Processing file: ADNI_130_S_1201_MR_MPR__GradWarp__B1_Correction__N3__Scaled_Br_20080223190134780_S45316_I92040.nii\n",
      "Processing file: ADNI_130_S_1201_MR_MPR__GradWarp__B1_Correction__N3__Scaled_Br_20070922111442945_S37190_I74541.nii\n",
      "Processing file: ADNI_130_S_1201_MR_MPR__GradWarp__B1_Correction__N3__Scaled_Br_20070801182711594_S25082_I63757.nii\n",
      "Processing file: ADNI_067_S_0290_MR_MPR-R__GradWarp__B1_Correction__N3__Scaled_2_Br_20081003160702385_S12592_I119200.nii\n",
      "Processing file: ADNI_067_S_0290_MR_MPR-R__GradWarp__B1_Correction__N3__Scaled_Br_20061229183851729_S12592_I34846.nii\n",
      "Processing file: ADNI_067_S_0290_MR_MPR__GradWarp__B1_Correction__N3__Scaled_Br_20070802202538411_S26711_I64305.nii\n",
      "Processing file: ADNI_067_S_0290_MR_MPR__GradWarp__B1_Correction__N3__Scaled_Br_20071103125116976_S33523_I80634.nii\n",
      "Processing file: ADNI_067_S_0056_MR_MPR__GradWarp__B1_Correction__N3__Scaled_2_Br_20081003155535571_S8723_I119186.nii\n",
      "Processing file: ADNI_067_S_0056_MR_MPR__GradWarp__B1_Correction__N3__Scaled_2_Br_20081003155615322_S16358_I119187.nii\n",
      "Processing file: ADNI_067_S_0056_MR_MPR__GradWarp__B1_Correction__N3__Scaled_Br_20070802200220067_S24368_I64269.nii\n",
      "Processing file: ADNI_067_S_0056_MR_MPR__GradWarp__B1_Correction__N3__Scaled_Br_20070111005541331_S8723_I35893.nii\n",
      "Processing file: ADNI_067_S_0056_MR_MPR__GradWarp__B1_Correction__N3__Scaled_Br_20070209152131877_S16358_I38678.nii\n",
      "Processing file: ADNI_041_S_0549_MR_MPR__GradWarp__B1_Correction__N3__Scaled_Br_20070802182721517_S29401_I64143.nii\n",
      "Processing file: ADNI_041_S_0549_MR_MPR__GradWarp__B1_Correction__N3__Scaled_Br_20070212211806655_S15488_I39506.nii\n",
      "Processing file: ADNI_041_S_0549_MR_MPR__GradWarp__B1_Correction__N3__Scaled_Br_20071031141015541_S41634_I79954.nii\n",
      "Processing file: ADNI_012_S_1165_MR_MPR____N3__Scaled_Br_20080229153136024_S45784_I94401.nii\n",
      "Processing file: ADNI_012_S_1165_MR_MPR____N3__Scaled_Br_20070904181953703_S34806_I71358.nii\n",
      "Processing file: ADNI_012_S_1165_MR_MPR____N3__Scaled_Br_20070711171305055_S24576_I59229.nii\n",
      "Processing file: ADNI_012_S_1165_MR_MPR____N3__Scaled_2_Br_20081001131055919_S34806_I118753.nii\n",
      "Processing file: ADNI_012_S_1165_MR_MPR____N3__Scaled_2_Br_20081001123930839_S24576_I118729.nii\n",
      "Processing file: ADNI_121_S_1322_MR_MPR____N3__Scaled_Br_20071106103102762_S39096_I80889.nii\n",
      "Processing file: ADNI_121_S_1322_MR_MPR____N3__Scaled_Br_20080423180224071_S48586_I103719.nii\n",
      "Processing file: ADNI_121_S_1322_MR_MPR____N3__Scaled_Br_20070808203731870_S27376_I66185.nii\n",
      "Processing file: ADNI_121_S_1322_MR_MPR____N3__Scaled_2_Br_20081006133607742_S27376_I119268.nii\n",
      "Processing file: ADNI_024_S_1393_MR_MPR__GradWarp__B1_Correction__N3__Scaled_Br_20070806174939767_S28190_I65271.nii\n",
      "Processing file: ADNI_024_S_1393_MR_MPR__GradWarp__B1_Correction__N3__Scaled_Br_20071029182609414_S41563_I79559.nii\n",
      "Processing file: ADNI_024_S_1393_MR_MPR__GradWarp__B1_Correction__N3__Scaled_Br_20080414153706998_S48067_I102480.nii\n",
      "Processing file: ADNI_037_S_0627_MR_MPR__GradWarp__N3__Scaled_Br_20071030172722998_S16313_I79831.nii\n",
      "Processing file: ADNI_037_S_0627_MR_MPR__GradWarp__N3__Scaled_Br_20080224135612066_S26830_I92210.nii\n",
      "Processing file: ADNI_037_S_0627_MR_MPR__GradWarp__N3__Scaled_Br_20071028103514268_S38783_I78978.nii\n",
      "Processing file: ADNI_032_S_0095_MR_MPR____N3__Scaled_Br_20070731174720572_S21203_I63429.nii\n",
      "Processing file: ADNI_032_S_0095_MR_MPR____N3__Scaled_Br_20071115121640476_S27719_I82283.nii\n",
      "Processing file: ADNI_032_S_0095_MR_MPR____N3__Scaled_Br_20070731174115956_S10729_I63424.nii\n",
      "Processing file: ADNI_032_S_0095_MR_MPR____N3__Scaled_2_Br_20081003095936892_S21203_I119077.nii\n",
      "Processing file: ADNI_032_S_0095_MR_MPR____N3__Scaled_2_Br_20081003100101701_S27719_I119078.nii\n",
      "Processing file: ADNI_032_S_0095_MR_MPR____N3__Scaled_2_Br_20081003095810245_S10729_I119076.nii\n",
      "Processing file: ADNI_003_S_0907_MR_MPR__GradWarp__B1_Correction__N3__Scaled_Br_20070920163451996_S30502_I73881.nii\n",
      "Processing file: ADNI_003_S_0907_MR_MPR__GradWarp__B1_Correction__N3__Scaled_Br_20070501171753634_S19728_I52781.nii\n",
      "Processing file: ADNI_003_S_0907_MR_MPR__GradWarp__B1_Correction__N3__Scaled_Br_20071110110615683_S42056_I81330.nii\n",
      "Processing file: ADNI_067_S_0059_MR_MPR__GradWarp__B1_Correction__N3__Scaled_2_Br_20081003155654473_S10517_I119188.nii\n",
      "Processing file: ADNI_067_S_0059_MR_MPR__GradWarp__B1_Correction__N3__Scaled_2_Br_20081003155734724_S16335_I119189.nii\n",
      "Processing file: ADNI_067_S_0059_MR_MPR__GradWarp__B1_Correction__N3__Scaled_Br_20070730192356932_S24384_I63023.nii\n",
      "Processing file: ADNI_067_S_0059_MR_MPR__GradWarp__B1_Correction__N3__Scaled_Br_20070111010838738_S10517_I35902.nii\n",
      "Processing file: ADNI_067_S_0059_MR_MPR__GradWarp__B1_Correction__N3__Scaled_Br_20070209153439209_S16335_I38696.nii\n",
      "Processing file: ADNI_014_S_1095_MR_MPR__GradWarp__B1_Correction__N3__Scaled_Br_20080221164939884_S45077_I91459.nii\n",
      "Processing file: ADNI_014_S_1095_MR_MPR__GradWarp__B1_Correction__N3__Scaled_Br_20070320181218511_S23323_I45740.nii\n",
      "Processing file: ADNI_014_S_1095_MR_MPR__GradWarp__B1_Correction__N3__Scaled_Br_20070910172955445_S33488_I72179.nii\n",
      "Processing file: ADNI_011_S_0168_MR_MPR-R__GradWarp__B1_Correction__N3__Scaled_Br_20070108232555158_S11605_I35499.nii\n",
      "Processing file: ADNI_011_S_0168_MR_MPR__GradWarp__B1_Correction__N3__Scaled_Br_20080115173134205_S29769_I87484.nii\n",
      "Processing file: ADNI_011_S_0168_MR_MPR__GradWarp__B1_Correction__N3__Scaled_Br_20070109185559913_S18381_I35569.nii\n",
      "Processing file: ADNI_099_S_0054_MR_MPR__GradWarp__B1_Correction__N3__Scaled_Br_20070110231208591_S10329_I35825.nii\n",
      "Processing file: ADNI_099_S_0054_MR_MPR__GradWarp__B1_Correction__N3__Scaled_Br_20070403121121318_S24551_I47898.nii\n",
      "Processing file: ADNI_099_S_0054_MR_MPR__GradWarp__B1_Correction__N3__Scaled_Br_20061228132811788_S16797_I34495.nii\n",
      "Processing file: ADNI_033_S_1116_MR_MPR__GradWarp__B1_Correction__N3__Scaled_Br_20070813165712773_S33092_I67500.nii\n",
      "Processing file: ADNI_033_S_1116_MR_MPR__GradWarp__B1_Correction__N3__Scaled_Br_20070306101437636_S22799_I42844.nii\n",
      "Processing file: ADNI_033_S_1116_MR_MPR__GradWarp__B1_Correction__N3__Scaled_Br_20080225191535025_S43249_I92687.nii\n",
      "Processing file: ADNI_141_S_1004_MR_MPR__GradWarp__N3__Scaled_Br_20080307111813769_S23305_I95705.nii\n",
      "Processing file: ADNI_141_S_1004_MR_MPR__GradWarp__B1_Correction__N3__Scaled_Br_20071219173712516_S42819_I85689.nii\n",
      "Processing file: ADNI_141_S_1004_MR_MPR__GradWarp__B1_Correction__N3__Scaled_Br_20080302132321582_S34054_I94935.nii\n",
      "Processing file: ADNI_130_S_1200_MR_MPR-R__GradWarp__B1_Correction__N3__Scaled_Br_20070801182138028_S25090_I63752.nii\n",
      "Processing file: ADNI_130_S_1200_MR_MPR-R__GradWarp__B1_Correction__N3__Scaled_Br_20080223185743242_S45007_I92035.nii\n",
      "Processing file: ADNI_130_S_1200_MR_MPR__GradWarp__B1_Correction__N3__Scaled_Br_20070922110803845_S37603_I74532.nii\n",
      "Mapped 952 images by IMAGEUID\n",
      "Sample paths_by_imageuid: [(89948, PosixPath('/Users/michaelhase/Desktop/SeniorThesis/data/ADNI/031_S_0351/MPR__GradWarp__N3__Scaled/2006-11-02_14_22_37.0/I89948/ADNI_031_S_0351_MR_MPR__GradWarp__N3__Scaled_Br_20080207173709466_S21905_I89948.nii')), (65620, PosixPath('/Users/michaelhase/Desktop/SeniorThesis/data/ADNI/031_S_0351/MPR__GradWarp__N3__Scaled/2007-05-14_12_38_34.0/I65620/ADNI_031_S_0351_MR_MPR__GradWarp__N3__Scaled_Br_20070807160423440_S32191_I65620.nii')), (65401, PosixPath('/Users/michaelhase/Desktop/SeniorThesis/data/ADNI/031_S_0351/MPR-R__GradWarp__N3__Scaled/2006-04-18_12_14_47.0/I65401/ADNI_031_S_0351_MR_MPR-R__GradWarp__N3__Scaled_Br_20070807100818129_S13461_I65401.nii')), (33034, PosixPath('/Users/michaelhase/Desktop/SeniorThesis/data/ADNI/100_S_0006/MPR____N3__Scaled/2006-06-02_12_27_37.0/I33034/ADNI_100_S_0006_MR_MPR____N3__Scaled_Br_20061213150829798_S15294_I33034.nii')), (62348, PosixPath('/Users/michaelhase/Desktop/SeniorThesis/data/ADNI/100_S_0006/MPR____N3__Scaled/2006-11-28_11_33_01.0/I62348/ADNI_100_S_0006_MR_MPR____N3__Scaled_Br_20070727123814803_S23093_I62348.nii'))]\n",
      "Total matches found: 767 out of 9321\n"
     ]
    }
   ],
   "source": [
    "images_directory = Path(images_directory)\n",
    "if not images_directory.exists():\n",
    "    print(f\"Directory {images_directory} does not exist!\")\n",
    "\n",
    "    # Find all .nii images in the directory\n",
    "scans_paths = list(images_directory.rglob(\"*.nii\"))\n",
    "print(f\"Found {len(scans_paths)} images\")\n",
    "\n",
    "paths_by_imageuid = {}\n",
    "for pth in scans_paths:\n",
    "        # Debugging: print the filenames we're processing\n",
    "    print(f\"Processing file: {pth.name}\")\n",
    "\n",
    "        # Extract the IMAGEUID as an integer from the filename (after '_I')\n",
    "    try:\n",
    "        imageuid = int(pth.name.split(\"_I\")[-1].split(\".\")[0])\n",
    "        paths_by_imageuid[imageuid] = pth\n",
    "    except (IndexError, ValueError) as e:\n",
    "        print(f\"Error with file {pth}: {e}\")\n",
    "\n",
    "print(f\"Mapped {len(paths_by_imageuid)} images by IMAGEUID\")\n",
    "\n",
    "    # Debugging: Print a sample of the paths_by_imageuid to verify\n",
    "print(f\"Sample paths_by_imageuid: {list(paths_by_imageuid.items())[:5]}\")\n",
    "\n",
    "    # Map the IMAGEUID in the DataFrame to the paths\n",
    "df_adnimerge['path'] = df_adnimerge['IMAGEUID'].map(paths_by_imageuid)\n",
    "    \n",
    "    # Debugging: Print how many matches were found before dropping NaN values\n",
    "print(f\"Total matches found: {df_adnimerge['path'].notna().sum()} out of {len(df_adnimerge)}\")\n",
    "\n",
    "    # Drop rows where 'path' is NaN\n",
    "df_adnimerge = df_adnimerge.dropna(subset=['path'])\n",
    "    \n"
   ],
   "metadata": {
    "collapsed": false,
    "ExecuteTime": {
     "end_time": "2024-10-06T00:46:01.719007Z",
     "start_time": "2024-10-06T00:46:01.522537Z"
    }
   },
   "execution_count": 4
  },
  {
   "cell_type": "markdown",
   "source": [
    "## Data analysis"
   ],
   "metadata": {
    "collapsed": false
   }
  },
  {
   "cell_type": "code",
   "execution_count": 5,
   "outputs": [
    {
     "name": "stdout",
     "output_type": "stream",
     "text": [
      "Number of rows: 767\n",
      "Number of unique subjects: 257\n",
      "Minimal age: 55.1\n",
      "Maximal age: 89.3\n",
      "Age distribution:\n"
     ]
    },
    {
     "data": {
      "text/plain": "<Figure size 640x480 with 1 Axes>",
      "image/png": "[encoded data removed]"
     },
     "metadata": {},
     "output_type": "display_data"
    }
   ],
   "source": [
    "print(f\"Number of rows: {len(df_adnimerge)}\")\n",
    "print(f\"Number of unique subjects: {len(df_adnimerge.groupby('PTID'))}\")\n",
    "print(f\"Minimal age: {df_adnimerge['AGE'].min()}\")\n",
    "print(f\"Maximal age: {df_adnimerge['AGE'].max()}\")\n",
    "print(f\"Age distribution:\")\n",
    "age_hist = df_adnimerge['AGE'].hist()\n",
    "fig = age_hist.get_figure()\n",
    "fig.savefig(\"ADNI_age_histogram\")"
   ],
   "metadata": {
    "collapsed": false,
    "ExecuteTime": {
     "end_time": "2024-10-06T00:46:02.043950Z",
     "start_time": "2024-10-06T00:46:01.720550Z"
    }
   }
  },
  {
   "cell_type": "code",
   "execution_count": 6,
   "outputs": [
    {
     "name": "stdout",
     "output_type": "stream",
     "text": [
      "Gender distribution per scan:\n",
      "PTGENDER\n",
      "Male      445\n",
      "Female    322\n",
      "Name: count, dtype: int64\n",
      "Genders distribution per subject:\n",
      "PTGENDER\n",
      "Male      149\n",
      "Female    108\n",
      "Name: count, dtype: int64\n"
     ]
    }
   ],
   "source": [
    "print(f\"Gender distribution per scan:\")\n",
    "print(df_adnimerge['PTGENDER'].value_counts())\n",
    "print(f\"Genders distribution per subject:\")\n",
    "print(df_adnimerge[[\"PTID\", \"PTGENDER\"]].drop_duplicates()['PTGENDER'].value_counts())"
   ],
   "metadata": {
    "collapsed": false,
    "ExecuteTime": {
     "end_time": "2024-10-06T00:46:02.054525Z",
     "start_time": "2024-10-06T00:46:02.044877Z"
    }
   }
  },
  {
   "cell_type": "code",
   "execution_count": 7,
   "outputs": [
    {
     "name": "stdout",
     "output_type": "stream",
     "text": [
      "Diagnosis distribution per subject:\n",
      "DX\n",
      "MCI    160\n",
      "AD      71\n",
      "CN      63\n",
      "Name: count, dtype: int64\n"
     ]
    },
    {
     "data": {
      "text/plain": "<Figure size 640x480 with 1 Axes>",
      "image/png": "[encoded data removed]"
     },
     "metadata": {},
     "output_type": "display_data"
    }
   ],
   "source": [
    "print(f\"Diagnosis distribution per subject:\")\n",
    "print(df_adnimerge[[\"PTID\", \"DX\"]].drop_duplicates()[\"DX\"].value_counts())\n",
    "diag_plot = df_adnimerge[[\"PTID\", \"DX\"]].drop_duplicates()[\"DX\"].value_counts().plot.barh()\n",
    "fig = diag_plot.get_figure()\n",
    "fig.savefig(\"ADNI_diagnosis_persubject_plot\")"
   ],
   "metadata": {
    "collapsed": false,
    "ExecuteTime": {
     "end_time": "2024-10-06T00:46:02.197575Z",
     "start_time": "2024-10-06T00:46:02.051734Z"
    }
   }
  },
  {
   "cell_type": "code",
   "execution_count": 8,
   "outputs": [
    {
     "name": "stdout",
     "output_type": "stream",
     "text": [
      "Diagnosis distribution per scan:\n",
      "DX\n",
      "MCI    430\n",
      "CN     183\n",
      "AD     154\n",
      "Name: count, dtype: int64\n"
     ]
    },
    {
     "data": {
      "text/plain": "<Figure size 640x480 with 1 Axes>",
      "image/png": "[encoded data removed]"
     },
     "metadata": {},
     "output_type": "display_data"
    }
   ],
   "source": [
    "print(\"Diagnosis distribution per scan:\")\n",
    "print(df_adnimerge[\"DX\"].value_counts())\n",
    "diag_plot = df_adnimerge[\"DX\"].value_counts().plot.barh()\n",
    "fig = diag_plot.get_figure()\n",
    "fig.savefig(\"ADNI_diagnosis_perscan_plot\")"
   ],
   "metadata": {
    "collapsed": false,
    "ExecuteTime": {
     "end_time": "2024-10-06T00:46:02.322519Z",
     "start_time": "2024-10-06T00:46:02.203646Z"
    }
   }
  },
  {
   "cell_type": "code",
   "execution_count": 9,
   "outputs": [
    {
     "name": "stdout",
     "output_type": "stream",
     "text": [
      "Diagnosis distribution per gender on baseline visit:\n"
     ]
    },
    {
     "data": {
      "text/plain": "<Figure size 518.1x400 with 1 Axes>",
      "image/png": "[encoded data removed]"
     },
     "metadata": {},
     "output_type": "display_data"
    }
   ],
   "source": [
    "print(\"Diagnosis distribution per gender on baseline visit:\")\n",
    "df_plot = df_adnimerge[df_adnimerge['VISCODE'] == \"bl\"]\n",
    "plot_data = df_plot[[\"DX\", \"PTGENDER\"]].groupby([\"DX\", \"PTGENDER\"]).size().reset_index(name=\"count\")\n",
    "#plot_data\n",
    "plot_data.columns = [\"Diagnosis\", \"Gender\", \"Number of patients\"]\n",
    "plot_data[\"Gender\"] = plot_data[\"Gender\"].map({\"Male\": \"Men\", \"Female\": \"Women\"})\n",
    "plt.style.use('classic')\n",
    "sns.catplot(x=\"Diagnosis\", y=\"Number of patients\", hue=\"Gender\", data=plot_data, kind=\"bar\").savefig(\"ADNI_diagnosis_gender\")\n"
   ],
   "metadata": {
    "collapsed": false,
    "ExecuteTime": {
     "end_time": "2024-10-06T00:46:02.488856Z",
     "start_time": "2024-10-06T00:46:02.310452Z"
    }
   }
  },
  {
   "cell_type": "markdown",
   "source": [
    "### Subjects age distribution"
   ],
   "metadata": {
    "collapsed": false
   }
  },
  {
   "cell_type": "code",
   "execution_count": 10,
   "outputs": [],
   "source": [
    "df_patients = df_adnimerge[[\"PTID\", \"PTGENDER\", \"AGE\", \"DX\"]].groupby(\"PTID\").agg({\"PTGENDER\": \"first\", \"AGE\": \"mean\", \"DX\": \"first\"})\n",
    "# Round the age values and then convert to integers\n",
    "df_patients['AGE'] = df_patients['AGE'].fillna(df_patients['AGE'].mean()).round().astype(int)\n",
    "\n"
   ],
   "metadata": {
    "collapsed": false,
    "ExecuteTime": {
     "end_time": "2024-10-06T00:46:02.489688Z",
     "start_time": "2024-10-06T00:46:02.482765Z"
    }
   }
  },
  {
   "cell_type": "code",
   "execution_count": 11,
   "outputs": [
    {
     "data": {
      "text/plain": "       age_AD  age_AD_female  age_AD_male\ncount   39.00          19.00        20.00\nmean    73.69          73.53        73.85\nstd      7.53           8.06         7.20\nmin     55.00          55.00        63.00\n25%     69.00          70.00        68.75\n50%     72.00          76.00        71.00\n75%     79.50          79.50        80.00\nmax     87.00          84.00        87.00",
      "text/html": "<div>\n<style scoped>\n    .dataframe tbody tr th:only-of-type {\n        vertical-align: middle;\n    }\n\n    .dataframe tbody tr th {\n        vertical-align: top;\n    }\n\n    .dataframe thead th {\n        text-align: right;\n    }\n</style>\n<table border=\"1\" class=\"dataframe\">\n  <thead>\n    <tr style=\"text-align: right;\">\n      <th></th>\n      <th>age_AD</th>\n      <th>age_AD_female</th>\n      <th>age_AD_male</th>\n    </tr>\n  </thead>\n  <tbody>\n    <tr>\n      <th>count</th>\n      <td>39.00</td>\n      <td>19.00</td>\n      <td>20.00</td>\n    </tr>\n    <tr>\n      <th>mean</th>\n      <td>73.69</td>\n      <td>73.53</td>\n      <td>73.85</td>\n    </tr>\n    <tr>\n      <th>std</th>\n      <td>7.53</td>\n      <td>8.06</td>\n      <td>7.20</td>\n    </tr>\n    <tr>\n      <th>min</th>\n      <td>55.00</td>\n      <td>55.00</td>\n      <td>63.00</td>\n    </tr>\n    <tr>\n      <th>25%</th>\n      <td>69.00</td>\n      <td>70.00</td>\n      <td>68.75</td>\n    </tr>\n    <tr>\n      <th>50%</th>\n      <td>72.00</td>\n      <td>76.00</td>\n      <td>71.00</td>\n    </tr>\n    <tr>\n      <th>75%</th>\n      <td>79.50</td>\n      <td>79.50</td>\n      <td>80.00</td>\n    </tr>\n    <tr>\n      <th>max</th>\n      <td>87.00</td>\n      <td>84.00</td>\n      <td>87.00</td>\n    </tr>\n  </tbody>\n</table>\n</div>"
     },
     "execution_count": 11,
     "metadata": {},
     "output_type": "execute_result"
    }
   ],
   "source": [
    "pd.DataFrame({\"age_AD\": df_patients[df_patients[\"DX\"] == \"AD\"][\"AGE\"].describe().round(2),\n",
    " \"age_AD_female\": df_patients[(df_patients[\"DX\"] == \"AD\") & (df_patients['PTGENDER'] == \"Female\")][\"AGE\"].describe().round(2),\n",
    " \"age_AD_male\": df_patients[(df_patients[\"DX\"] == \"AD\") & (df_patients['PTGENDER'] == \"Male\")][\"AGE\"].describe().round(2)\n",
    " })\n"
   ],
   "metadata": {
    "collapsed": false,
    "ExecuteTime": {
     "end_time": "2024-10-06T00:46:02.529691Z",
     "start_time": "2024-10-06T00:46:02.489161Z"
    }
   }
  },
  {
   "cell_type": "code",
   "execution_count": 12,
   "outputs": [
    {
     "data": {
      "text/plain": "       age_MCI  age_MCI_female  age_MCI_male\ncount   157.00           65.00         92.00\nmean     75.13           73.85         76.03\nstd       7.01            6.59          7.19\nmin      57.00           57.00         58.00\n25%      70.00           69.00         71.00\n50%      76.00           74.00         76.50\n75%      80.00           79.00         81.00\nmax      89.00           86.00         89.00",
      "text/html": "<div>\n<style scoped>\n    .dataframe tbody tr th:only-of-type {\n        vertical-align: middle;\n    }\n\n    .dataframe tbody tr th {\n        vertical-align: top;\n    }\n\n    .dataframe thead th {\n        text-align: right;\n    }\n</style>\n<table border=\"1\" class=\"dataframe\">\n  <thead>\n    <tr style=\"text-align: right;\">\n      <th></th>\n      <th>age_MCI</th>\n      <th>age_MCI_female</th>\n      <th>age_MCI_male</th>\n    </tr>\n  </thead>\n  <tbody>\n    <tr>\n      <th>count</th>\n      <td>157.00</td>\n      <td>65.00</td>\n      <td>92.00</td>\n    </tr>\n    <tr>\n      <th>mean</th>\n      <td>75.13</td>\n      <td>73.85</td>\n      <td>76.03</td>\n    </tr>\n    <tr>\n      <th>std</th>\n      <td>7.01</td>\n      <td>6.59</td>\n      <td>7.19</td>\n    </tr>\n    <tr>\n      <th>min</th>\n      <td>57.00</td>\n      <td>57.00</td>\n      <td>58.00</td>\n    </tr>\n    <tr>\n      <th>25%</th>\n      <td>70.00</td>\n      <td>69.00</td>\n      <td>71.00</td>\n    </tr>\n    <tr>\n      <th>50%</th>\n      <td>76.00</td>\n      <td>74.00</td>\n      <td>76.50</td>\n    </tr>\n    <tr>\n      <th>75%</th>\n      <td>80.00</td>\n      <td>79.00</td>\n      <td>81.00</td>\n    </tr>\n    <tr>\n      <th>max</th>\n      <td>89.00</td>\n      <td>86.00</td>\n      <td>89.00</td>\n    </tr>\n  </tbody>\n</table>\n</div>"
     },
     "execution_count": 12,
     "metadata": {},
     "output_type": "execute_result"
    }
   ],
   "source": [
    "pd.DataFrame({\"age_MCI\": df_patients[df_patients[\"DX\"] == \"MCI\"][\"AGE\"].describe().round(2),\n",
    " \"age_MCI_female\": df_patients[(df_patients[\"DX\"] == \"MCI\") & (df_patients['PTGENDER'] == \"Female\")][\"AGE\"].describe().round(2),\n",
    " \"age_MCI_male\": df_patients[(df_patients[\"DX\"] == \"MCI\") & (df_patients['PTGENDER'] == \"Male\")][\"AGE\"].describe().round(2)\n",
    " })"
   ],
   "metadata": {
    "collapsed": false,
    "ExecuteTime": {
     "end_time": "2024-10-06T00:46:02.530750Z",
     "start_time": "2024-10-06T00:46:02.507139Z"
    }
   }
  },
  {
   "cell_type": "code",
   "execution_count": 13,
   "outputs": [
    {
     "data": {
      "text/plain": "       age_CN  age_CN_female  age_CN_male\ncount   61.00          24.00        37.00\nmean    76.16          76.04        76.24\nstd      5.21           5.13         5.34\nmin     63.00          70.00        63.00\n25%     72.00          72.75        72.00\n50%     76.00          74.50        76.00\n75%     79.00          78.25        79.00\nmax     89.00          89.00        89.00",
      "text/html": "<div>\n<style scoped>\n    .dataframe tbody tr th:only-of-type {\n        vertical-align: middle;\n    }\n\n    .dataframe tbody tr th {\n        vertical-align: top;\n    }\n\n    .dataframe thead th {\n        text-align: right;\n    }\n</style>\n<table border=\"1\" class=\"dataframe\">\n  <thead>\n    <tr style=\"text-align: right;\">\n      <th></th>\n      <th>age_CN</th>\n      <th>age_CN_female</th>\n      <th>age_CN_male</th>\n    </tr>\n  </thead>\n  <tbody>\n    <tr>\n      <th>count</th>\n      <td>61.00</td>\n      <td>24.00</td>\n      <td>37.00</td>\n    </tr>\n    <tr>\n      <th>mean</th>\n      <td>76.16</td>\n      <td>76.04</td>\n      <td>76.24</td>\n    </tr>\n    <tr>\n      <th>std</th>\n      <td>5.21</td>\n      <td>5.13</td>\n      <td>5.34</td>\n    </tr>\n    <tr>\n      <th>min</th>\n      <td>63.00</td>\n      <td>70.00</td>\n      <td>63.00</td>\n    </tr>\n    <tr>\n      <th>25%</th>\n      <td>72.00</td>\n      <td>72.75</td>\n      <td>72.00</td>\n    </tr>\n    <tr>\n      <th>50%</th>\n      <td>76.00</td>\n      <td>74.50</td>\n      <td>76.00</td>\n    </tr>\n    <tr>\n      <th>75%</th>\n      <td>79.00</td>\n      <td>78.25</td>\n      <td>79.00</td>\n    </tr>\n    <tr>\n      <th>max</th>\n      <td>89.00</td>\n      <td>89.00</td>\n      <td>89.00</td>\n    </tr>\n  </tbody>\n</table>\n</div>"
     },
     "execution_count": 13,
     "metadata": {},
     "output_type": "execute_result"
    }
   ],
   "source": [
    "pd.DataFrame({\"age_CN\": df_patients[df_patients[\"DX\"] == \"CN\"][\"AGE\"].describe().round(2),\n",
    "              \"age_CN_female\": df_patients[(df_patients[\"DX\"] == \"CN\") & (df_patients['PTGENDER'] == \"Female\")][\n",
    "                  \"AGE\"].describe().round(2),\n",
    "              \"age_CN_male\": df_patients[(df_patients[\"DX\"] == \"CN\") & (df_patients['PTGENDER'] == \"Male\")][\n",
    "                  \"AGE\"].describe().round(2)\n",
    "              })"
   ],
   "metadata": {
    "collapsed": false,
    "ExecuteTime": {
     "end_time": "2024-10-06T00:46:02.531540Z",
     "start_time": "2024-10-06T00:46:02.511785Z"
    }
   }
  },
  {
   "cell_type": "code",
   "execution_count": 14,
   "outputs": [
    {
     "data": {
      "text/plain": "       age_p-MCI  age_p-MCI_female  age_p-MCI_male\ncount      58.00             26.00           32.00\nmean       74.71             74.05           75.24\nstd         6.84              6.37            7.26\nmin        56.60             56.60           59.40\n25%        70.53             72.50           69.90\n50%        75.20             74.80           75.60\n75%        79.70             79.10           79.88\nmax        85.90             81.00           85.90",
      "text/html": "<div>\n<style scoped>\n    .dataframe tbody tr th:only-of-type {\n        vertical-align: middle;\n    }\n\n    .dataframe tbody tr th {\n        vertical-align: top;\n    }\n\n    .dataframe thead th {\n        text-align: right;\n    }\n</style>\n<table border=\"1\" class=\"dataframe\">\n  <thead>\n    <tr style=\"text-align: right;\">\n      <th></th>\n      <th>age_p-MCI</th>\n      <th>age_p-MCI_female</th>\n      <th>age_p-MCI_male</th>\n    </tr>\n  </thead>\n  <tbody>\n    <tr>\n      <th>count</th>\n      <td>58.00</td>\n      <td>26.00</td>\n      <td>32.00</td>\n    </tr>\n    <tr>\n      <th>mean</th>\n      <td>74.71</td>\n      <td>74.05</td>\n      <td>75.24</td>\n    </tr>\n    <tr>\n      <th>std</th>\n      <td>6.84</td>\n      <td>6.37</td>\n      <td>7.26</td>\n    </tr>\n    <tr>\n      <th>min</th>\n      <td>56.60</td>\n      <td>56.60</td>\n      <td>59.40</td>\n    </tr>\n    <tr>\n      <th>25%</th>\n      <td>70.53</td>\n      <td>72.50</td>\n      <td>69.90</td>\n    </tr>\n    <tr>\n      <th>50%</th>\n      <td>75.20</td>\n      <td>74.80</td>\n      <td>75.60</td>\n    </tr>\n    <tr>\n      <th>75%</th>\n      <td>79.70</td>\n      <td>79.10</td>\n      <td>79.88</td>\n    </tr>\n    <tr>\n      <th>max</th>\n      <td>85.90</td>\n      <td>81.00</td>\n      <td>85.90</td>\n    </tr>\n  </tbody>\n</table>\n</div>"
     },
     "execution_count": 14,
     "metadata": {},
     "output_type": "execute_result"
    }
   ],
   "source": [
    "df_mci_progression = get_mci_progression(df_adnimerge)\n",
    "pd.DataFrame({\"age_p-MCI\": df_mci_progression[df_mci_progression[\"DX\"] == \"p-MCI\"][\"AGE\"].describe().round(2),\n",
    "              \"age_p-MCI_female\": df_mci_progression[(df_mci_progression[\"DX\"] == \"p-MCI\") & (df_mci_progression['PTGENDER'] == \"Female\")][\n",
    "                  \"AGE\"].describe().round(2),\n",
    "              \"age_p-MCI_male\": df_mci_progression[(df_mci_progression[\"DX\"] == \"p-MCI\") & (df_mci_progression['PTGENDER'] == \"Male\")][\n",
    "                  \"AGE\"].describe().round(2)\n",
    "              })"
   ],
   "metadata": {
    "collapsed": false,
    "ExecuteTime": {
     "end_time": "2024-10-06T00:46:02.647692Z",
     "start_time": "2024-10-06T00:46:02.521170Z"
    }
   }
  },
  {
   "cell_type": "code",
   "execution_count": 15,
   "outputs": [
    {
     "data": {
      "text/plain": "       age_p-MCI  age_p-MCI_female  age_p-MCI_male\ncount     372.00            147.00          225.00\nmean       75.43             73.79           76.50\nstd         7.09              6.81            7.08\nmin        57.70             59.80           57.70\n25%        70.00             69.10           71.40\n50%        76.40             74.40           77.10\n75%        80.40             78.90           81.40\nmax        89.30             86.20           89.30",
      "text/html": "<div>\n<style scoped>\n    .dataframe tbody tr th:only-of-type {\n        vertical-align: middle;\n    }\n\n    .dataframe tbody tr th {\n        vertical-align: top;\n    }\n\n    .dataframe thead th {\n        text-align: right;\n    }\n</style>\n<table border=\"1\" class=\"dataframe\">\n  <thead>\n    <tr style=\"text-align: right;\">\n      <th></th>\n      <th>age_p-MCI</th>\n      <th>age_p-MCI_female</th>\n      <th>age_p-MCI_male</th>\n    </tr>\n  </thead>\n  <tbody>\n    <tr>\n      <th>count</th>\n      <td>372.00</td>\n      <td>147.00</td>\n      <td>225.00</td>\n    </tr>\n    <tr>\n      <th>mean</th>\n      <td>75.43</td>\n      <td>73.79</td>\n      <td>76.50</td>\n    </tr>\n    <tr>\n      <th>std</th>\n      <td>7.09</td>\n      <td>6.81</td>\n      <td>7.08</td>\n    </tr>\n    <tr>\n      <th>min</th>\n      <td>57.70</td>\n      <td>59.80</td>\n      <td>57.70</td>\n    </tr>\n    <tr>\n      <th>25%</th>\n      <td>70.00</td>\n      <td>69.10</td>\n      <td>71.40</td>\n    </tr>\n    <tr>\n      <th>50%</th>\n      <td>76.40</td>\n      <td>74.40</td>\n      <td>77.10</td>\n    </tr>\n    <tr>\n      <th>75%</th>\n      <td>80.40</td>\n      <td>78.90</td>\n      <td>81.40</td>\n    </tr>\n    <tr>\n      <th>max</th>\n      <td>89.30</td>\n      <td>86.20</td>\n      <td>89.30</td>\n    </tr>\n  </tbody>\n</table>\n</div>"
     },
     "execution_count": 15,
     "metadata": {},
     "output_type": "execute_result"
    }
   ],
   "source": [
    "df_mci_progression = get_mci_progression(df_adnimerge)\n",
    "pd.DataFrame({\"age_p-MCI\": df_mci_progression[df_mci_progression[\"DX\"] == \"np-MCI\"][\"AGE\"].describe().round(2),\n",
    "              \"age_p-MCI_female\": df_mci_progression[(df_mci_progression[\"DX\"] == \"np-MCI\") & (df_mci_progression['PTGENDER'] == \"Female\")][\n",
    "                  \"AGE\"].describe().round(2),\n",
    "              \"age_p-MCI_male\": df_mci_progression[(df_mci_progression[\"DX\"] == \"np-MCI\") & (df_mci_progression['PTGENDER'] == \"Male\")][\n",
    "                  \"AGE\"].describe().round(2)\n",
    "              })"
   ],
   "metadata": {
    "collapsed": false,
    "ExecuteTime": {
     "end_time": "2024-10-06T00:46:02.742026Z",
     "start_time": "2024-10-06T00:46:02.594759Z"
    }
   }
  },
  {
   "cell_type": "markdown",
   "source": [
    "### Anatomical structures volumes per diagnosis\n"
   ],
   "metadata": {
    "collapsed": false
   }
  },
  {
   "cell_type": "code",
   "execution_count": 16,
   "outputs": [],
   "source": [
    "df_patients = df_adnimerge[df_adnimerge[\"VISCODE\"] == \"bl\"]\n",
    "anatomical_structures_columns = [\"PTID\", \"PTGENDER\", \"DX\", \"MMSE\"] + base_volumetric_columns\n",
    "df_patients = df_patients[anatomical_structures_columns]"
   ],
   "metadata": {
    "collapsed": false,
    "ExecuteTime": {
     "end_time": "2024-10-06T00:46:02.742567Z",
     "start_time": "2024-10-06T00:46:02.678143Z"
    }
   }
  },
  {
   "cell_type": "code",
   "execution_count": 17,
   "outputs": [
    {
     "name": "stdout",
     "output_type": "stream",
     "text": [
      "CN\n"
     ]
    },
    {
     "data": {
      "text/plain": "      MMSE  Ventricles  Hippocampus  WholeBrain  Entorhinal  Fusiform  \\\nmin  25.00     5834.00      5381.00   793659.00     2789.00   12814.0   \nmax  30.00   100808.00      9146.00  1200530.00     5317.00   21729.0   \nstd   1.24    19942.46       738.71   100267.91      626.74    2291.6   \n\n      MidTemp         ICV  \nmin  14746.00  1227680.00  \nmax  25290.00  1845780.00  \nstd   2631.93   153849.37  ",
      "text/html": "<div>\n<style scoped>\n    .dataframe tbody tr th:only-of-type {\n        vertical-align: middle;\n    }\n\n    .dataframe tbody tr th {\n        vertical-align: top;\n    }\n\n    .dataframe thead th {\n        text-align: right;\n    }\n</style>\n<table border=\"1\" class=\"dataframe\">\n  <thead>\n    <tr style=\"text-align: right;\">\n      <th></th>\n      <th>MMSE</th>\n      <th>Ventricles</th>\n      <th>Hippocampus</th>\n      <th>WholeBrain</th>\n      <th>Entorhinal</th>\n      <th>Fusiform</th>\n      <th>MidTemp</th>\n      <th>ICV</th>\n    </tr>\n  </thead>\n  <tbody>\n    <tr>\n      <th>min</th>\n      <td>25.00</td>\n      <td>5834.00</td>\n      <td>5381.00</td>\n      <td>793659.00</td>\n      <td>2789.00</td>\n      <td>12814.0</td>\n      <td>14746.00</td>\n      <td>1227680.00</td>\n    </tr>\n    <tr>\n      <th>max</th>\n      <td>30.00</td>\n      <td>100808.00</td>\n      <td>9146.00</td>\n      <td>1200530.00</td>\n      <td>5317.00</td>\n      <td>21729.0</td>\n      <td>25290.00</td>\n      <td>1845780.00</td>\n    </tr>\n    <tr>\n      <th>std</th>\n      <td>1.24</td>\n      <td>19942.46</td>\n      <td>738.71</td>\n      <td>100267.91</td>\n      <td>626.74</td>\n      <td>2291.6</td>\n      <td>2631.93</td>\n      <td>153849.37</td>\n    </tr>\n  </tbody>\n</table>\n</div>"
     },
     "execution_count": 17,
     "metadata": {},
     "output_type": "execute_result"
    }
   ],
   "source": [
    "print(\"CN\")\n",
    "df_patients[df_patients[\"DX\"] == \"CN\"].describe().round(2).loc[[\"min\", \"max\", \"std\"]]"
   ],
   "metadata": {
    "collapsed": false,
    "ExecuteTime": {
     "end_time": "2024-10-06T00:46:02.746089Z",
     "start_time": "2024-10-06T00:46:02.683118Z"
    }
   }
  },
  {
   "cell_type": "code",
   "execution_count": 18,
   "outputs": [
    {
     "name": "stdout",
     "output_type": "stream",
     "text": [
      "MCI\n"
     ]
    },
    {
     "data": {
      "text/plain": "      MMSE  Ventricles  Hippocampus  WholeBrain  Entorhinal  Fusiform  \\\nmin  23.00    10739.00      3281.00   669364.00     1579.00  10467.00   \nmax  30.00   145115.00      9104.00  1350180.00     5660.00  21062.00   \nstd   1.81    24271.29      1086.75   108685.87      810.81   2326.14   \n\n      MidTemp         ICV  \nmin  10472.00  1175130.00  \nmax  26426.00  2110290.00  \nstd   3043.97   164131.37  ",
      "text/html": "<div>\n<style scoped>\n    .dataframe tbody tr th:only-of-type {\n        vertical-align: middle;\n    }\n\n    .dataframe tbody tr th {\n        vertical-align: top;\n    }\n\n    .dataframe thead th {\n        text-align: right;\n    }\n</style>\n<table border=\"1\" class=\"dataframe\">\n  <thead>\n    <tr style=\"text-align: right;\">\n      <th></th>\n      <th>MMSE</th>\n      <th>Ventricles</th>\n      <th>Hippocampus</th>\n      <th>WholeBrain</th>\n      <th>Entorhinal</th>\n      <th>Fusiform</th>\n      <th>MidTemp</th>\n      <th>ICV</th>\n    </tr>\n  </thead>\n  <tbody>\n    <tr>\n      <th>min</th>\n      <td>23.00</td>\n      <td>10739.00</td>\n      <td>3281.00</td>\n      <td>669364.00</td>\n      <td>1579.00</td>\n      <td>10467.00</td>\n      <td>10472.00</td>\n      <td>1175130.00</td>\n    </tr>\n    <tr>\n      <th>max</th>\n      <td>30.00</td>\n      <td>145115.00</td>\n      <td>9104.00</td>\n      <td>1350180.00</td>\n      <td>5660.00</td>\n      <td>21062.00</td>\n      <td>26426.00</td>\n      <td>2110290.00</td>\n    </tr>\n    <tr>\n      <th>std</th>\n      <td>1.81</td>\n      <td>24271.29</td>\n      <td>1086.75</td>\n      <td>108685.87</td>\n      <td>810.81</td>\n      <td>2326.14</td>\n      <td>3043.97</td>\n      <td>164131.37</td>\n    </tr>\n  </tbody>\n</table>\n</div>"
     },
     "execution_count": 18,
     "metadata": {},
     "output_type": "execute_result"
    }
   ],
   "source": [
    "print(\"MCI\")\n",
    "df_patients[df_patients[\"DX\"] == \"MCI\"].describe().round(2).loc[[\"min\", \"max\", \"std\"]]"
   ],
   "metadata": {
    "collapsed": false,
    "ExecuteTime": {
     "end_time": "2024-10-06T00:46:02.746824Z",
     "start_time": "2024-10-06T00:46:02.697896Z"
    }
   }
  },
  {
   "cell_type": "code",
   "execution_count": 19,
   "outputs": [
    {
     "name": "stdout",
     "output_type": "stream",
     "text": [
      "AD\n"
     ]
    },
    {
     "data": {
      "text/plain": "      MMSE  Ventricles  Hippocampus  WholeBrain  Entorhinal  Fusiform  \\\nmin  20.00    12361.00      4023.00   750109.00      1893.0  11129.00   \nmax  27.00    83680.00      7350.00  1186600.00      4421.0  20881.00   \nstd   1.54    17839.27       836.85   106495.95       641.0   2532.97   \n\n      MidTemp         ICV  \nmin  11760.00  1214530.00  \nmax  21101.00  1957220.00  \nstd   2747.09   177165.65  ",
      "text/html": "<div>\n<style scoped>\n    .dataframe tbody tr th:only-of-type {\n        vertical-align: middle;\n    }\n\n    .dataframe tbody tr th {\n        vertical-align: top;\n    }\n\n    .dataframe thead th {\n        text-align: right;\n    }\n</style>\n<table border=\"1\" class=\"dataframe\">\n  <thead>\n    <tr style=\"text-align: right;\">\n      <th></th>\n      <th>MMSE</th>\n      <th>Ventricles</th>\n      <th>Hippocampus</th>\n      <th>WholeBrain</th>\n      <th>Entorhinal</th>\n      <th>Fusiform</th>\n      <th>MidTemp</th>\n      <th>ICV</th>\n    </tr>\n  </thead>\n  <tbody>\n    <tr>\n      <th>min</th>\n      <td>20.00</td>\n      <td>12361.00</td>\n      <td>4023.00</td>\n      <td>750109.00</td>\n      <td>1893.0</td>\n      <td>11129.00</td>\n      <td>11760.00</td>\n      <td>1214530.00</td>\n    </tr>\n    <tr>\n      <th>max</th>\n      <td>27.00</td>\n      <td>83680.00</td>\n      <td>7350.00</td>\n      <td>1186600.00</td>\n      <td>4421.0</td>\n      <td>20881.00</td>\n      <td>21101.00</td>\n      <td>1957220.00</td>\n    </tr>\n    <tr>\n      <th>std</th>\n      <td>1.54</td>\n      <td>17839.27</td>\n      <td>836.85</td>\n      <td>106495.95</td>\n      <td>641.0</td>\n      <td>2532.97</td>\n      <td>2747.09</td>\n      <td>177165.65</td>\n    </tr>\n  </tbody>\n</table>\n</div>"
     },
     "execution_count": 19,
     "metadata": {},
     "output_type": "execute_result"
    }
   ],
   "source": [
    "print(\"AD\")\n",
    "df_patients[df_patients[\"DX\"] == \"AD\"].describe().round(2).loc[[\"min\", \"max\", \"std\"]]"
   ],
   "metadata": {
    "collapsed": false,
    "ExecuteTime": {
     "end_time": "2024-10-06T00:46:02.789127Z",
     "start_time": "2024-10-06T00:46:02.712177Z"
    }
   }
  },
  {
   "cell_type": "code",
   "execution_count": 20,
   "outputs": [
    {
     "name": "stdout",
     "output_type": "stream",
     "text": [
      "p-MCI\n"
     ]
    },
    {
     "data": {
      "text/plain": "      MMSE  Ventricles  Hippocampus  WholeBrain  Entorhinal  Fusiform  \\\nmin  23.00     10739.0      3281.00   669364.00     1579.00  10894.00   \nmax  30.00    101096.0      8585.00  1350180.00     4617.00  21062.00   \nstd   1.94     20287.3      1051.36   124447.36      769.38   2455.43   \n\n      MidTemp         ICV  \nmin  10472.00  1175130.00  \nmax  26379.00  2110290.00  \nstd   3478.44   184469.81  ",
      "text/html": "<div>\n<style scoped>\n    .dataframe tbody tr th:only-of-type {\n        vertical-align: middle;\n    }\n\n    .dataframe tbody tr th {\n        vertical-align: top;\n    }\n\n    .dataframe thead th {\n        text-align: right;\n    }\n</style>\n<table border=\"1\" class=\"dataframe\">\n  <thead>\n    <tr style=\"text-align: right;\">\n      <th></th>\n      <th>MMSE</th>\n      <th>Ventricles</th>\n      <th>Hippocampus</th>\n      <th>WholeBrain</th>\n      <th>Entorhinal</th>\n      <th>Fusiform</th>\n      <th>MidTemp</th>\n      <th>ICV</th>\n    </tr>\n  </thead>\n  <tbody>\n    <tr>\n      <th>min</th>\n      <td>23.00</td>\n      <td>10739.0</td>\n      <td>3281.00</td>\n      <td>669364.00</td>\n      <td>1579.00</td>\n      <td>10894.00</td>\n      <td>10472.00</td>\n      <td>1175130.00</td>\n    </tr>\n    <tr>\n      <th>max</th>\n      <td>30.00</td>\n      <td>101096.0</td>\n      <td>8585.00</td>\n      <td>1350180.00</td>\n      <td>4617.00</td>\n      <td>21062.00</td>\n      <td>26379.00</td>\n      <td>2110290.00</td>\n    </tr>\n    <tr>\n      <th>std</th>\n      <td>1.94</td>\n      <td>20287.3</td>\n      <td>1051.36</td>\n      <td>124447.36</td>\n      <td>769.38</td>\n      <td>2455.43</td>\n      <td>3478.44</td>\n      <td>184469.81</td>\n    </tr>\n  </tbody>\n</table>\n</div>"
     },
     "execution_count": 20,
     "metadata": {},
     "output_type": "execute_result"
    }
   ],
   "source": [
    "print(\"p-MCI\")\n",
    "df_mci_progression = df_mci_progression[df_mci_progression[\"VISCODE\"] == \"bl\"][anatomical_structures_columns]\n",
    "df_mci_progression[df_mci_progression[\"DX\"] == \"p-MCI\"].describe().round(2).loc[[\"min\", \"max\", \"std\"]]"
   ],
   "metadata": {
    "collapsed": false,
    "ExecuteTime": {
     "end_time": "2024-10-06T00:46:02.823672Z",
     "start_time": "2024-10-06T00:46:02.728382Z"
    }
   }
  },
  {
   "cell_type": "code",
   "execution_count": 21,
   "outputs": [
    {
     "name": "stdout",
     "output_type": "stream",
     "text": [
      "np-MCI\n"
     ]
    },
    {
     "data": {
      "text/plain": "      MMSE  Ventricles  Hippocampus  WholeBrain  Entorhinal  Fusiform  \\\nmin  24.00    12348.00      4404.00   738813.00     1621.00  10467.00   \nmax  30.00   145115.00      9104.00  1208430.00     5660.00  19928.00   \nstd   1.75    25166.77      1053.43   103952.91      790.23   2197.18   \n\n      MidTemp         ICV  \nmin  10708.00  1228080.00  \nmax  26426.00  2040440.00  \nstd   2834.08   159111.87  ",
      "text/html": "<div>\n<style scoped>\n    .dataframe tbody tr th:only-of-type {\n        vertical-align: middle;\n    }\n\n    .dataframe tbody tr th {\n        vertical-align: top;\n    }\n\n    .dataframe thead th {\n        text-align: right;\n    }\n</style>\n<table border=\"1\" class=\"dataframe\">\n  <thead>\n    <tr style=\"text-align: right;\">\n      <th></th>\n      <th>MMSE</th>\n      <th>Ventricles</th>\n      <th>Hippocampus</th>\n      <th>WholeBrain</th>\n      <th>Entorhinal</th>\n      <th>Fusiform</th>\n      <th>MidTemp</th>\n      <th>ICV</th>\n    </tr>\n  </thead>\n  <tbody>\n    <tr>\n      <th>min</th>\n      <td>24.00</td>\n      <td>12348.00</td>\n      <td>4404.00</td>\n      <td>738813.00</td>\n      <td>1621.00</td>\n      <td>10467.00</td>\n      <td>10708.00</td>\n      <td>1228080.00</td>\n    </tr>\n    <tr>\n      <th>max</th>\n      <td>30.00</td>\n      <td>145115.00</td>\n      <td>9104.00</td>\n      <td>1208430.00</td>\n      <td>5660.00</td>\n      <td>19928.00</td>\n      <td>26426.00</td>\n      <td>2040440.00</td>\n    </tr>\n    <tr>\n      <th>std</th>\n      <td>1.75</td>\n      <td>25166.77</td>\n      <td>1053.43</td>\n      <td>103952.91</td>\n      <td>790.23</td>\n      <td>2197.18</td>\n      <td>2834.08</td>\n      <td>159111.87</td>\n    </tr>\n  </tbody>\n</table>\n</div>"
     },
     "execution_count": 21,
     "metadata": {},
     "output_type": "execute_result"
    }
   ],
   "source": [
    "print(\"np-MCI\")\n",
    "df_mci_progression[df_mci_progression[\"DX\"] == \"np-MCI\"].describe().round(2).loc[[\"min\", \"max\", \"std\"]]"
   ],
   "metadata": {
    "collapsed": false,
    "ExecuteTime": {
     "end_time": "2024-10-06T00:46:02.828568Z",
     "start_time": "2024-10-06T00:46:02.741533Z"
    }
   }
  },
  {
   "cell_type": "markdown",
   "source": [
    "## Analysis of preprocessed imaging data"
   ],
   "metadata": {
    "collapsed": false
   }
  },
  {
   "cell_type": "code",
   "outputs": [
    {
     "name": "stdout",
     "output_type": "stream",
     "text": [
      "    IMAGEUID                                               path\n",
      "5      64631  /Users/michaelhase/Desktop/SeniorThesis/data/A...\n",
      "6      64636  /Users/michaelhase/Desktop/SeniorThesis/data/A...\n",
      "7      59357  /Users/michaelhase/Desktop/SeniorThesis/data/A...\n",
      "15     33025  /Users/michaelhase/Desktop/SeniorThesis/data/A...\n",
      "16     33034  /Users/michaelhase/Desktop/SeniorThesis/data/A...\n"
     ]
    }
   ],
   "source": [
    "print(df_adnimerge[['IMAGEUID', 'path']].head())\n"
   ],
   "metadata": {
    "collapsed": false,
    "ExecuteTime": {
     "end_time": "2024-10-06T00:46:02.857614Z",
     "start_time": "2024-10-06T00:46:02.753550Z"
    }
   },
   "execution_count": 22
  },
  {
   "cell_type": "code",
   "outputs": [],
   "source": [
    "import nibabel as nib\n",
    "import numpy as np\n",
    "from scipy.ndimage import zoom\n",
    "\n",
    "def resize_image(image: np.ndarray, target_shape: tuple) -> np.ndarray:\n",
    "    \"\"\"\n",
    "    Resize a 2D image to the target shape using zoom.\n",
    "\n",
    "    :param image: The 2D image to resize.\n",
    "    :param target_shape: The desired shape to resize the image to.\n",
    "    :return: The resized image.\n",
    "    \"\"\"\n",
    "    factors = [t / s for t, s in zip(target_shape, image.shape)]\n",
    "    return zoom(image, factors, order=1)  # order=1 for bilinear interpolation\n",
    "\n",
    "def get_mean_image_per_diagnosis(df, target_shape=(182, 218)):\n",
    "    # Initialize arrays to hold sum of images for each diagnosis\n",
    "    ad_scans = np.zeros(target_shape)\n",
    "    mci_scans = np.zeros(target_shape)\n",
    "    cn_scans = np.zeros(target_shape)\n",
    "\n",
    "    # Counters for each diagnosis group\n",
    "    ad_scans_num = 0\n",
    "    mci_scans_num = 0\n",
    "    cn_scans_num = 0\n",
    "\n",
    "    for _, row in df.iterrows():\n",
    "        # Load the image file\n",
    "        image = nib.load(row['path']).get_fdata()\n",
    "\n",
    "        # Extract a specific slice (here it's the 80th slice)\n",
    "        image_slice = image[:, :, 80]  # Adjust the slice index as needed\n",
    "\n",
    "        # Resize the slice to the target shape (182x218 by default)\n",
    "        resized_slice = resize_image(image_slice, target_shape)\n",
    "\n",
    "        # Add the resized slice to the corresponding diagnosis group\n",
    "        if row['DX'] == 'AD':\n",
    "            ad_scans += resized_slice\n",
    "            ad_scans_num += 1\n",
    "        elif row['DX'] == 'MCI':\n",
    "            mci_scans += resized_slice\n",
    "            mci_scans_num += 1\n",
    "        elif row['DX'] == 'CN':\n",
    "            cn_scans += resized_slice\n",
    "            cn_scans_num += 1\n",
    "        else:\n",
    "            print(f'Unknown diagnosis {row[\"DX\"]}')\n",
    "\n",
    "    # Calculate the mean image for each diagnosis\n",
    "    ad_mean = ad_scans / ad_scans_num if ad_scans_num > 0 else None\n",
    "    mci_mean = mci_scans / mci_scans_num if mci_scans_num > 0 else None\n",
    "    cn_mean = cn_scans / cn_scans_num if cn_scans_num > 0 else None\n",
    "\n",
    "    return ad_mean, mci_mean, cn_mean\n",
    "\n"
   ],
   "metadata": {
    "collapsed": false,
    "ExecuteTime": {
     "end_time": "2024-10-06T00:46:02.873938Z",
     "start_time": "2024-10-06T00:46:02.758407Z"
    }
   },
   "execution_count": 23
  },
  {
   "cell_type": "code",
   "execution_count": 24,
   "outputs": [],
   "source": [
    "ad_mean, mci_mean, cn_mean = get_mean_image_per_diagnosis(df_adnimerge)"
   ],
   "metadata": {
    "collapsed": false,
    "ExecuteTime": {
     "end_time": "2024-10-06T00:47:04.522263Z",
     "start_time": "2024-10-06T00:46:02.760307Z"
    }
   }
  },
  {
   "cell_type": "code",
   "execution_count": 25,
   "outputs": [
    {
     "data": {
      "text/plain": "<Figure size 1200x400 with 3 Axes>",
      "image/png": "[encoded data removed]"
     },
     "metadata": {},
     "output_type": "display_data"
    }
   ],
   "source": [
    "fig, axes = plt.subplots(1, 3, figsize=(15, 5))\n",
    "axes[0].imshow(ad_mean, cmap='gray')\n",
    "axes[0].set_title('AD')\n",
    "axes[1].imshow(mci_mean, cmap='gray')\n",
    "axes[1].set_title('MCI')\n",
    "axes[2].imshow(cn_mean, cmap='gray')\n",
    "axes[2].set_title('CN')\n",
    "plt.savefig('ADNI_mean_scans.png')"
   ],
   "metadata": {
    "collapsed": false,
    "ExecuteTime": {
     "end_time": "2024-10-06T00:47:04.852123Z",
     "start_time": "2024-10-06T00:47:04.521818Z"
    }
   }
  },
  {
   "cell_type": "code",
   "execution_count": 26,
   "outputs": [
    {
     "data": {
      "text/plain": "             xmin        xmax        ymin        ymax        zmin        zmax  \\\ncount  767.000000  767.000000  767.000000  767.000000  767.000000  767.000000   \nmean     9.379400  227.413299    2.340287  226.284224    0.654498  164.496741   \nstd      9.711141   31.291854    3.085844   31.135223    1.199130    7.355727   \nmin      0.000000  174.000000    0.000000  180.000000    0.000000  143.000000   \n25%      1.000000  190.000000    1.000000  190.000000    0.000000  158.000000   \n50%      7.000000  253.000000    1.000000  250.000000    0.000000  164.000000   \n75%     16.000000  253.000000    3.000000  253.000000    1.000000  169.000000   \nmax     43.000000  255.000000   23.000000  255.000000   16.000000  183.000000   \n\n            width      height       depth  min_val      max_val  \ncount  767.000000  767.000000  767.000000    767.0   767.000000  \nmean   218.033898  223.943937  163.842243      0.0  1789.465415  \nstd     33.062547   31.260227    7.848426      0.0  1019.209228  \nmin    158.000000  168.000000  138.000000      0.0   108.151474  \n25%    184.000000  189.000000  157.000000      0.0  1165.257568  \n50%    230.000000  243.000000  163.000000      0.0  1612.463379  \n75%    252.000000  252.000000  169.000000      0.0  2286.543091  \nmax    255.000000  255.000000  183.000000      0.0  7091.143066  ",
      "text/html": "<div>\n<style scoped>\n    .dataframe tbody tr th:only-of-type {\n        vertical-align: middle;\n    }\n\n    .dataframe tbody tr th {\n        vertical-align: top;\n    }\n\n    .dataframe thead th {\n        text-align: right;\n    }\n</style>\n<table border=\"1\" class=\"dataframe\">\n  <thead>\n    <tr style=\"text-align: right;\">\n      <th></th>\n      <th>xmin</th>\n      <th>xmax</th>\n      <th>ymin</th>\n      <th>ymax</th>\n      <th>zmin</th>\n      <th>zmax</th>\n      <th>width</th>\n      <th>height</th>\n      <th>depth</th>\n      <th>min_val</th>\n      <th>max_val</th>\n    </tr>\n  </thead>\n  <tbody>\n    <tr>\n      <th>count</th>\n      <td>767.000000</td>\n      <td>767.000000</td>\n      <td>767.000000</td>\n      <td>767.000000</td>\n      <td>767.000000</td>\n      <td>767.000000</td>\n      <td>767.000000</td>\n      <td>767.000000</td>\n      <td>767.000000</td>\n      <td>767.0</td>\n      <td>767.000000</td>\n    </tr>\n    <tr>\n      <th>mean</th>\n      <td>9.379400</td>\n      <td>227.413299</td>\n      <td>2.340287</td>\n      <td>226.284224</td>\n      <td>0.654498</td>\n      <td>164.496741</td>\n      <td>218.033898</td>\n      <td>223.943937</td>\n      <td>163.842243</td>\n      <td>0.0</td>\n      <td>1789.465415</td>\n    </tr>\n    <tr>\n      <th>std</th>\n      <td>9.711141</td>\n      <td>31.291854</td>\n      <td>3.085844</td>\n      <td>31.135223</td>\n      <td>1.199130</td>\n      <td>7.355727</td>\n      <td>33.062547</td>\n      <td>31.260227</td>\n      <td>7.848426</td>\n      <td>0.0</td>\n      <td>1019.209228</td>\n    </tr>\n    <tr>\n      <th>min</th>\n      <td>0.000000</td>\n      <td>174.000000</td>\n      <td>0.000000</td>\n      <td>180.000000</td>\n      <td>0.000000</td>\n      <td>143.000000</td>\n      <td>158.000000</td>\n      <td>168.000000</td>\n      <td>138.000000</td>\n      <td>0.0</td>\n      <td>108.151474</td>\n    </tr>\n    <tr>\n      <th>25%</th>\n      <td>1.000000</td>\n      <td>190.000000</td>\n      <td>1.000000</td>\n      <td>190.000000</td>\n      <td>0.000000</td>\n      <td>158.000000</td>\n      <td>184.000000</td>\n      <td>189.000000</td>\n      <td>157.000000</td>\n      <td>0.0</td>\n      <td>1165.257568</td>\n    </tr>\n    <tr>\n      <th>50%</th>\n      <td>7.000000</td>\n      <td>253.000000</td>\n      <td>1.000000</td>\n      <td>250.000000</td>\n      <td>0.000000</td>\n      <td>164.000000</td>\n      <td>230.000000</td>\n      <td>243.000000</td>\n      <td>163.000000</td>\n      <td>0.0</td>\n      <td>1612.463379</td>\n    </tr>\n    <tr>\n      <th>75%</th>\n      <td>16.000000</td>\n      <td>253.000000</td>\n      <td>3.000000</td>\n      <td>253.000000</td>\n      <td>1.000000</td>\n      <td>169.000000</td>\n      <td>252.000000</td>\n      <td>252.000000</td>\n      <td>169.000000</td>\n      <td>0.0</td>\n      <td>2286.543091</td>\n    </tr>\n    <tr>\n      <th>max</th>\n      <td>43.000000</td>\n      <td>255.000000</td>\n      <td>23.000000</td>\n      <td>255.000000</td>\n      <td>16.000000</td>\n      <td>183.000000</td>\n      <td>255.000000</td>\n      <td>255.000000</td>\n      <td>183.000000</td>\n      <td>0.0</td>\n      <td>7091.143066</td>\n    </tr>\n  </tbody>\n</table>\n</div>"
     },
     "execution_count": 26,
     "metadata": {},
     "output_type": "execute_result"
    }
   ],
   "source": [
    "df_adnimerge[[\"xmin\", \"xmax\", \"ymin\", \"ymax\", \"zmin\", \"zmax\", \"width\", \"height\", \"depth\", \"min_val\", \"max_val\"]] = df_adnimerge.apply(lambda row: get_bounding_box(nib.load(row['path']).get_fdata()), axis=1, result_type=\"expand\")\n",
    "df_adnimerge[[\"xmin\", \"xmax\", \"ymin\", \"ymax\", \"zmin\", \"zmax\", \"width\", \"height\", \"depth\", \"min_val\", \"max_val\"]].describe()"
   ],
   "metadata": {
    "collapsed": false,
    "ExecuteTime": {
     "end_time": "2024-10-06T00:49:20.739041Z",
     "start_time": "2024-10-06T00:47:04.854286Z"
    }
   }
  }
 ],
 "metadata": {
  "kernelspec": {
   "display_name": "Python 3",
   "language": "python",
   "name": "python3"
  },
  "language_info": {
   "codemirror_mode": {
    "name": "ipython",
    "version": 2
   },
   "file_extension": ".py",
   "mimetype": "text/x-python",
   "name": "python",
   "nbconvert_exporter": "python",
   "pygments_lexer": "ipython2",
   "version": "2.7.6"
  }
 },
 "nbformat": 4,
 "nbformat_minor": 0
}
